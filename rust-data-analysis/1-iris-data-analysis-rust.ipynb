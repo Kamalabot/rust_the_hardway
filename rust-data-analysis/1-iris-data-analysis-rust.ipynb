{
 "cells": [
  {
   "cell_type": "markdown",
   "id": "f4e8c1d9-c986-44cf-96cf-52328f5af66d",
   "metadata": {},
   "source": [
    "## Google Colab Rust Setup\n",
    "\n",
    "The following cell is used to set up a Rust environment on Colab. Don't execute it locally!\n",
    "\n",
    "Many thanks to [`mateusvmv`](https://github.com/mateusvmv) for this hack in [`gist.github.com/korakot/ae95315ea6a3a3b33ee26203998a59a3`](https://gist.github.com/korakot/ae95315ea6a3a3b33ee26203998a59a3?permalink_comment_id=4715636#gistcomment-4715636)."
   ]
  },
  {
   "cell_type": "code",
   "execution_count": null,
   "id": "bbb265f4-a05b-4e51-8320-adf9b83a78fa",
   "metadata": {},
   "outputs": [],
   "source": [
    "# This script sets up and spins up a Jupyter Notebook environment with a Rust kernel using Nix and IPC Proxy. \n",
    "!wget -qO- https://gist.github.com/wiseaidev/2af6bef753d48565d11bcd478728c979/archive/3f6df40db09f3517ade41997b541b81f0976c12e.tar.gz | tar xvz --strip-components=1\n",
    "!bash setup_evcxr_kernel.sh"
   ]
  },
  {
   "cell_type": "markdown",
   "id": "cc8e31fd",
   "metadata": {},
   "source": [
    "## Install Required Dependencies"
   ]
  },
  {
   "cell_type": "code",
   "execution_count": null,
   "id": "05fa3594",
   "metadata": {},
   "outputs": [
    {
     "ename": "",
     "evalue": "",
     "output_type": "error",
     "traceback": [
      "\u001b[1;31mFailed to start the Kernel. \n",
      "\u001b[1;31mThe kernel died. Error: ... View Jupyter <a href='command:jupyter.viewOutput'>log</a> for further details."
     ]
    }
   ],
   "source": [
    ":dep plotters = { version = \"^0.3.5\", default_features = false, features = [\"evcxr\", \"all_series\", \"all_elements\"] }\n",
    "// or\n",
    "// :dep plotters = { git = \"https://github.com/plotters-rs/plotters\"}\"}"
   ]
  },
  {
   "cell_type": "code",
   "execution_count": null,
   "id": "a09fc16e-7590-468b-9178-de8c9e6f7d03",
   "metadata": {},
   "outputs": [],
   "source": [
    ":dep polars = {version = \"0.35.0\", features = [\"describe\", \"lazy\", \"ndarray\"]}\n",
    "// or\n",
    "// :dep polars = { git = \"https://github.com/pola-rs/polars\"}\"}"
   ]
  },
  {
   "cell_type": "code",
   "execution_count": null,
   "id": "f567d472-f706-4623-8ea4-d471e0e1ee3d",
   "metadata": {},
   "outputs": [],
   "source": [
    ":dep ndarray = {version = \"0.15.6\"}\n",
    "// or\n",
    "// :dep ndarray = { git = \"https://github.com/rust-ndarray/ndarray\"}"
   ]
  },
  {
   "cell_type": "code",
   "execution_count": null,
   "id": "733b4b69-2815-4346-b9a2-e7b5aeaea3b5",
   "metadata": {},
   "outputs": [],
   "source": [
    ":dep smartcore = {version = \"0.3.2\"}\n",
    "// or\n",
    "// :dep smartcore = { git = \"https://github.com/smartcorelib/smartcore\"}\"}"
   ]
  },
  {
   "cell_type": "markdown",
   "id": "49178047-1ca8-445f-98f4-7ce02d1bfeb5",
   "metadata": {},
   "source": [
    "## Show Installed Dependencies"
   ]
  },
  {
   "cell_type": "code",
   "execution_count": 10,
   "id": "5f51099a-6475-4368-bb7d-13cb371f468f",
   "metadata": {},
   "outputs": [
    {
     "data": {
      "text/plain": [
       "ndarray = {version = \"0.15.6\"}\n",
       "plotters = { version = \"^0.3.5\", default_features = false, features = [\"evcxr\", \"all_series\", \"all_elements\"] }\n",
       "polars = {version = \"0.35.0\", features = [\"describe\", \"lazy\", \"ndarray\"]}\n",
       "smartcore = {version = \"0.3.2\"}\n"
      ]
     },
     "execution_count": 10,
     "metadata": {},
     "output_type": "execute_result"
    }
   ],
   "source": [
    ":show_deps"
   ]
  },
  {
   "cell_type": "markdown",
   "id": "1d74e942",
   "metadata": {},
   "source": [
    "## Import Modules"
   ]
  },
  {
   "cell_type": "code",
   "execution_count": 11,
   "id": "140ecc92",
   "metadata": {},
   "outputs": [],
   "source": [
    "use polars::prelude::*;\n",
    "use polars::frame::DataFrame;\n",
    "use std::path::Path;\n",
    "use ndarray::{ArrayBase, DataMut, Dimension, concatenate, Axis};\n",
    "use plotters::prelude::*;\n",
    "use smartcore::linalg::basic::matrix::DenseMatrix;\n",
    "use ndarray::prelude::*;"
   ]
  },
  {
   "cell_type": "markdown",
   "id": "dcf1f06a-d9a0-4d85-b8e9-33d2ca40ba53",
   "metadata": {},
   "source": [
    "### Display Documentation"
   ]
  },
  {
   "cell_type": "code",
   "execution_count": 15,
   "id": "48da5ae7-de73-41dc-9d35-68a36b97597e",
   "metadata": {},
   "outputs": [
    {
     "data": {
      "text/html": [
       "<pre><code class=\"language-rust\">polars_core::frame\n",
       "</code></pre>\n",
       "<pre><code class=\"language-rust\">pub struct DataFrame {\n",
       "    pub(crate) columns: Vec&lt;Series, Global&gt;,\n",
       "}\n",
       "</code></pre>\n",
       "<hr />\n",
       "<p>A contiguous growable collection of <code>Series</code> that have the same length.</p>\n",
       "<h2>Use declarations</h2>\n",
       "<p>All the common tools can be found in <a href=\"https://docs.rs/polars-core/0.35.4/polars_core/prelude/index.html\"><code>crate::prelude</code></a> (or in <code>polars::prelude</code>).</p>\n",
       "<pre><code class=\"language-rust\">use polars_core::prelude::*; // if the crate polars-core is used directly\n",
       "// use polars::prelude::*;      if the crate polars is used\n",
       "</code></pre>\n",
       "<h1>Initialization</h1>\n",
       "<h2>Default</h2>\n",
       "<p>A <code>DataFrame</code> can be initialized empty:</p>\n",
       "<pre><code class=\"language-rust\"># use polars_core::prelude::*;\n",
       "let df = DataFrame::default();\n",
       "assert!(df.is_empty());\n",
       "</code></pre>\n",
       "<h2>Wrapping a <code>Vec&lt;Series&gt;</code></h2>\n",
       "<p>A <code>DataFrame</code> is built upon a <code>Vec&lt;Series&gt;</code> where the <code>Series</code> have the same length.</p>\n",
       "<pre><code class=\"language-rust\"># use polars_core::prelude::*;\n",
       "let s1 = Series::new(&quot;Fruit&quot;, &amp;[&quot;Apple&quot;, &quot;Apple&quot;, &quot;Pear&quot;]);\n",
       "let s2 = Series::new(&quot;Color&quot;, &amp;[&quot;Red&quot;, &quot;Yellow&quot;, &quot;Green&quot;]);\n",
       "\n",
       "let df: PolarsResult&lt;DataFrame&gt; = DataFrame::new(vec![s1, s2]);\n",
       "</code></pre>\n",
       "<h2>Using a macro</h2>\n",
       "<p>The <a href=\"https://docs.rs/polars-core/0.35.4/polars_core/utils/macro.df.html\"><code>df</code></a> macro is a convenient method:</p>\n",
       "<pre><code class=\"language-rust\"># use polars_core::prelude::*;\n",
       "let df: PolarsResult&lt;DataFrame&gt; = df!(&quot;Fruit&quot; =&gt; &amp;[&quot;Apple&quot;, &quot;Apple&quot;, &quot;Pear&quot;],\n",
       "                                      &quot;Color&quot; =&gt; &amp;[&quot;Red&quot;, &quot;Yellow&quot;, &quot;Green&quot;]);\n",
       "</code></pre>\n",
       "<h2>Using a CSV file</h2>\n",
       "<p>See the <code>polars_io::csv::CsvReader</code>.</p>\n",
       "<h1>Indexing</h1>\n",
       "<h2>By a number</h2>\n",
       "<p>The <code>Index&lt;usize&gt;</code> is implemented for the <code>DataFrame</code>.</p>\n",
       "<pre><code class=\"language-rust\"># use polars_core::prelude::*;\n",
       "let df = df!(&quot;Fruit&quot; =&gt; &amp;[&quot;Apple&quot;, &quot;Apple&quot;, &quot;Pear&quot;],\n",
       "             &quot;Color&quot; =&gt; &amp;[&quot;Red&quot;, &quot;Yellow&quot;, &quot;Green&quot;])?;\n",
       "\n",
       "assert_eq!(df[0], Series::new(&quot;Fruit&quot;, &amp;[&quot;Apple&quot;, &quot;Apple&quot;, &quot;Pear&quot;]));\n",
       "assert_eq!(df[1], Series::new(&quot;Color&quot;, &amp;[&quot;Red&quot;, &quot;Yellow&quot;, &quot;Green&quot;]));\n",
       "# Ok::&lt;(), PolarsError&gt;(())\n",
       "</code></pre>\n",
       "<h2>By a <code>Series</code> name</h2>\n",
       "<pre><code class=\"language-rust\"># use polars_core::prelude::*;\n",
       "let df = df!(&quot;Fruit&quot; =&gt; &amp;[&quot;Apple&quot;, &quot;Apple&quot;, &quot;Pear&quot;],\n",
       "             &quot;Color&quot; =&gt; &amp;[&quot;Red&quot;, &quot;Yellow&quot;, &quot;Green&quot;])?;\n",
       "\n",
       "assert_eq!(df[&quot;Fruit&quot;], Series::new(&quot;Fruit&quot;, &amp;[&quot;Apple&quot;, &quot;Apple&quot;, &quot;Pear&quot;]));\n",
       "assert_eq!(df[&quot;Color&quot;], Series::new(&quot;Color&quot;, &amp;[&quot;Red&quot;, &quot;Yellow&quot;, &quot;Green&quot;]));\n",
       "# Ok::&lt;(), PolarsError&gt;(())\n",
       "</code></pre>\n"
      ],
      "text/plain": [
       "polars_core::frame\n",
       "\n",
       "pub struct DataFrame {\n",
       "    pub(crate) columns: Vec<Series, Global>,\n",
       "}\n",
       "\n",
       "\n",
       "A contiguous growable collection of Series that have the same length.\n",
       "\n",
       "Use declarationsAll the common tools can be found in crate::prelude (or in polars::prelude).\n",
       "\n",
       "use polars_core::prelude::*; // if the crate polars-core is used directly\n",
       "// use polars::prelude::*;      if the crate polars is used\n",
       "\n",
       "InitializationDefaultA DataFrame can be initialized empty:\n",
       "\n",
       "# use polars_core::prelude::*;\n",
       "let df = DataFrame::default();\n",
       "assert!(df.is_empty());\n",
       "\n",
       "Wrapping a Vec<Series>A DataFrame is built upon a Vec<Series> where the Series have the same length.\n",
       "\n",
       "# use polars_core::prelude::*;\n",
       "let s1 = Series::new(\"Fruit\", &[\"Apple\", \"Apple\", \"Pear\"]);\n",
       "let s2 = Series::new(\"Color\", &[\"Red\", \"Yellow\", \"Green\"]);\n",
       "\n",
       "let df: PolarsResult<DataFrame> = DataFrame::new(vec![s1, s2]);\n",
       "\n",
       "Using a macroThe df macro is a convenient method:\n",
       "\n",
       "# use polars_core::prelude::*;\n",
       "let df: PolarsResult<DataFrame> = df!(\"Fruit\" => &[\"Apple\", \"Apple\", \"Pear\"],\n",
       "                                      \"Color\" => &[\"Red\", \"Yellow\", \"Green\"]);\n",
       "\n",
       "Using a CSV fileSee the polars_io::csv::CsvReader.\n",
       "\n",
       "IndexingBy a numberThe Index<usize> is implemented for the DataFrame.\n",
       "\n",
       "# use polars_core::prelude::*;\n",
       "let df = df!(\"Fruit\" => &[\"Apple\", \"Apple\", \"Pear\"],\n",
       "             \"Color\" => &[\"Red\", \"Yellow\", \"Green\"])?;\n",
       "\n",
       "assert_eq!(df[0], Series::new(\"Fruit\", &[\"Apple\", \"Apple\", \"Pear\"]));\n",
       "assert_eq!(df[1], Series::new(\"Color\", &[\"Red\", \"Yellow\", \"Green\"]));\n",
       "# Ok::<(), PolarsError>(())\n",
       "\n",
       "By a Series name# use polars_core::prelude::*;\n",
       "let df = df!(\"Fruit\" => &[\"Apple\", \"Apple\", \"Pear\"],\n",
       "             \"Color\" => &[\"Red\", \"Yellow\", \"Green\"])?;\n",
       "\n",
       "assert_eq!(df[\"Fruit\"], Series::new(\"Fruit\", &[\"Apple\", \"Apple\", \"Pear\"]));\n",
       "assert_eq!(df[\"Color\"], Series::new(\"Color\", &[\"Red\", \"Yellow\", \"Green\"]));\n",
       "# Ok::<(), PolarsError>(())"
      ]
     },
     "execution_count": 15,
     "metadata": {},
     "output_type": "execute_result"
    }
   ],
   "source": [
    ":doc DataFrame"
   ]
  },
  {
   "cell_type": "markdown",
   "id": "a9bfcd32",
   "metadata": {},
   "source": [
    "\n",
    "## Load Dataset"
   ]
  },
  {
   "cell_type": "code",
   "execution_count": 13,
   "id": "0bf4c133",
   "metadata": {},
   "outputs": [
    {
     "data": {
      "text/plain": [
       "shape: (150, 6)\n",
       "┌─────┬───────────────┬──────────────┬───────────────┬──────────────┬────────────────┐\n",
       "│ Id  ┆ SepalLengthCm ┆ SepalWidthCm ┆ PetalLengthCm ┆ PetalWidthCm ┆ Species        │\n",
       "│ --- ┆ ---           ┆ ---          ┆ ---           ┆ ---          ┆ ---            │\n",
       "│ i64 ┆ f64           ┆ f64          ┆ f64           ┆ f64          ┆ str            │\n",
       "╞═════╪═══════════════╪══════════════╪═══════════════╪══════════════╪════════════════╡\n",
       "│ 1   ┆ 5.1           ┆ 3.5          ┆ 1.4           ┆ 0.2          ┆ Iris-setosa    │\n",
       "│ 2   ┆ 4.9           ┆ 3.0          ┆ 1.4           ┆ 0.2          ┆ Iris-setosa    │\n",
       "│ 3   ┆ 4.7           ┆ 3.2          ┆ 1.3           ┆ 0.2          ┆ Iris-setosa    │\n",
       "│ 4   ┆ 4.6           ┆ 3.1          ┆ 1.5           ┆ 0.2          ┆ Iris-setosa    │\n",
       "│ …   ┆ …             ┆ …            ┆ …             ┆ …            ┆ …              │\n",
       "│ 147 ┆ 6.3           ┆ 2.5          ┆ 5.0           ┆ 1.9          ┆ Iris-virginica │\n",
       "│ 148 ┆ 6.5           ┆ 3.0          ┆ 5.2           ┆ 2.0          ┆ Iris-virginica │\n",
       "│ 149 ┆ 6.2           ┆ 3.4          ┆ 5.4           ┆ 2.3          ┆ Iris-virginica │\n",
       "│ 150 ┆ 5.9           ┆ 3.0          ┆ 5.1           ┆ 1.8          ┆ Iris-virginica │\n",
       "└─────┴───────────────┴──────────────┴───────────────┴──────────────┴────────────────┘"
      ]
     },
     "execution_count": 13,
     "metadata": {},
     "output_type": "execute_result"
    }
   ],
   "source": [
    "fn read_data_frame_from_csv(\n",
    "    csv_file_path: &Path,\n",
    ") -> DataFrame {\n",
    "    CsvReader::from_path(csv_file_path)\n",
    "        .expect(\"Cannot open file.\")\n",
    "        .has_header(true)\n",
    "        .finish()\n",
    "        .unwrap()\n",
    "}\n",
    "\n",
    "let iris_file_path: &Path = Path::new(\"dataset/Iris.csv\");\n",
    "let iris_df: DataFrame = read_data_frame_from_csv(iris_file_path);\n",
    "iris_df"
   ]
  },
  {
   "cell_type": "code",
   "execution_count": 14,
   "id": "444bd562-1594-4861-9688-639082aa3079",
   "metadata": {},
   "outputs": [
    {
     "data": {
      "text/html": [
       "iris_df: DataFrame"
      ],
      "text/plain": [
       "iris_df: DataFrame"
      ]
     },
     "execution_count": 14,
     "metadata": {},
     "output_type": "execute_result"
    }
   ],
   "source": [
    ":type iris_df"
   ]
  },
  {
   "cell_type": "markdown",
   "id": "861a1871",
   "metadata": {},
   "source": [
    "## About The Dataset"
   ]
  },
  {
   "cell_type": "markdown",
   "id": "9914bb3e",
   "metadata": {},
   "source": [
    "### Shape"
   ]
  },
  {
   "cell_type": "code",
   "execution_count": 16,
   "id": "d8879960",
   "metadata": {},
   "outputs": [
    {
     "data": {
      "text/plain": [
       "(150, 6)"
      ]
     },
     "execution_count": 16,
     "metadata": {},
     "output_type": "execute_result"
    }
   ],
   "source": [
    "iris_df.shape()"
   ]
  },
  {
   "cell_type": "markdown",
   "id": "c087622a",
   "metadata": {},
   "source": [
    "### Head"
   ]
  },
  {
   "cell_type": "code",
   "execution_count": 17,
   "id": "7955f71c",
   "metadata": {
    "scrolled": true
   },
   "outputs": [
    {
     "data": {
      "text/plain": [
       "shape: (5, 6)\n",
       "┌─────┬───────────────┬──────────────┬───────────────┬──────────────┬─────────────┐\n",
       "│ Id  ┆ SepalLengthCm ┆ SepalWidthCm ┆ PetalLengthCm ┆ PetalWidthCm ┆ Species     │\n",
       "│ --- ┆ ---           ┆ ---          ┆ ---           ┆ ---          ┆ ---         │\n",
       "│ i64 ┆ f64           ┆ f64          ┆ f64           ┆ f64          ┆ str         │\n",
       "╞═════╪═══════════════╪══════════════╪═══════════════╪══════════════╪═════════════╡\n",
       "│ 1   ┆ 5.1           ┆ 3.5          ┆ 1.4           ┆ 0.2          ┆ Iris-setosa │\n",
       "│ 2   ┆ 4.9           ┆ 3.0          ┆ 1.4           ┆ 0.2          ┆ Iris-setosa │\n",
       "│ 3   ┆ 4.7           ┆ 3.2          ┆ 1.3           ┆ 0.2          ┆ Iris-setosa │\n",
       "│ 4   ┆ 4.6           ┆ 3.1          ┆ 1.5           ┆ 0.2          ┆ Iris-setosa │\n",
       "│ 5   ┆ 5.0           ┆ 3.6          ┆ 1.4           ┆ 0.2          ┆ Iris-setosa │\n",
       "└─────┴───────────────┴──────────────┴───────────────┴──────────────┴─────────────┘"
      ]
     },
     "execution_count": 17,
     "metadata": {},
     "output_type": "execute_result"
    }
   ],
   "source": [
    "iris_df.head(Some(5))"
   ]
  },
  {
   "cell_type": "markdown",
   "id": "456622d0",
   "metadata": {},
   "source": [
    "### Tail"
   ]
  },
  {
   "cell_type": "code",
   "execution_count": 18,
   "id": "2ee10ba2",
   "metadata": {},
   "outputs": [
    {
     "data": {
      "text/plain": [
       "shape: (5, 6)\n",
       "┌─────┬───────────────┬──────────────┬───────────────┬──────────────┬────────────────┐\n",
       "│ Id  ┆ SepalLengthCm ┆ SepalWidthCm ┆ PetalLengthCm ┆ PetalWidthCm ┆ Species        │\n",
       "│ --- ┆ ---           ┆ ---          ┆ ---           ┆ ---          ┆ ---            │\n",
       "│ i64 ┆ f64           ┆ f64          ┆ f64           ┆ f64          ┆ str            │\n",
       "╞═════╪═══════════════╪══════════════╪═══════════════╪══════════════╪════════════════╡\n",
       "│ 146 ┆ 6.7           ┆ 3.0          ┆ 5.2           ┆ 2.3          ┆ Iris-virginica │\n",
       "│ 147 ┆ 6.3           ┆ 2.5          ┆ 5.0           ┆ 1.9          ┆ Iris-virginica │\n",
       "│ 148 ┆ 6.5           ┆ 3.0          ┆ 5.2           ┆ 2.0          ┆ Iris-virginica │\n",
       "│ 149 ┆ 6.2           ┆ 3.4          ┆ 5.4           ┆ 2.3          ┆ Iris-virginica │\n",
       "│ 150 ┆ 5.9           ┆ 3.0          ┆ 5.1           ┆ 1.8          ┆ Iris-virginica │\n",
       "└─────┴───────────────┴──────────────┴───────────────┴──────────────┴────────────────┘"
      ]
     },
     "execution_count": 18,
     "metadata": {},
     "output_type": "execute_result"
    }
   ],
   "source": [
    "iris_df.tail(Some(5))"
   ]
  },
  {
   "cell_type": "markdown",
   "id": "17825991",
   "metadata": {},
   "source": [
    "### Describe"
   ]
  },
  {
   "cell_type": "code",
   "execution_count": 19,
   "id": "49093475",
   "metadata": {
    "scrolled": true
   },
   "outputs": [
    {
     "data": {
      "text/plain": [
       "shape: (9, 7)\n",
       "┌────────────┬───────────┬──────────────┬──────────────┬──────────────┬──────────────┬─────────────┐\n",
       "│ describe   ┆ Id        ┆ SepalLengthC ┆ SepalWidthCm ┆ PetalLengthC ┆ PetalWidthCm ┆ Species     │\n",
       "│ ---        ┆ ---       ┆ m            ┆ ---          ┆ m            ┆ ---          ┆ ---         │\n",
       "│ str        ┆ f64       ┆ ---          ┆ f64          ┆ ---          ┆ f64          ┆ str         │\n",
       "│            ┆           ┆ f64          ┆              ┆ f64          ┆              ┆             │\n",
       "╞════════════╪═══════════╪══════════════╪══════════════╪══════════════╪══════════════╪═════════════╡\n",
       "│ count      ┆ 150.0     ┆ 150.0        ┆ 150.0        ┆ 150.0        ┆ 150.0        ┆ 150         │\n",
       "│ null_count ┆ 0.0       ┆ 0.0          ┆ 0.0          ┆ 0.0          ┆ 0.0          ┆ 0           │\n",
       "│ mean       ┆ 75.5      ┆ 5.843333     ┆ 3.054        ┆ 3.758667     ┆ 1.198667     ┆ null        │\n",
       "│ std        ┆ 43.445368 ┆ 0.828066     ┆ 0.433594     ┆ 1.76442      ┆ 0.763161     ┆ null        │\n",
       "│ min        ┆ 1.0       ┆ 4.3          ┆ 2.0          ┆ 1.0          ┆ 0.1          ┆ Iris-setosa │\n",
       "│ 25%        ┆ 38.25     ┆ 5.1          ┆ 2.8          ┆ 1.6          ┆ 0.3          ┆ null        │\n",
       "│ 50%        ┆ 75.5      ┆ 5.8          ┆ 3.0          ┆ 4.35         ┆ 1.3          ┆ null        │\n",
       "│ 75%        ┆ 112.75    ┆ 6.4          ┆ 3.3          ┆ 5.1          ┆ 1.8          ┆ null        │\n",
       "│ max        ┆ 150.0     ┆ 7.9          ┆ 4.4          ┆ 6.9          ┆ 2.5          ┆ Iris-virgin │\n",
       "│            ┆           ┆              ┆              ┆              ┆              ┆ ica         │\n",
       "└────────────┴───────────┴──────────────┴──────────────┴──────────────┴──────────────┴─────────────┘"
      ]
     },
     "execution_count": 19,
     "metadata": {},
     "output_type": "execute_result"
    }
   ],
   "source": [
    "iris_df.describe(None)?"
   ]
  },
  {
   "cell_type": "markdown",
   "id": "7ba36cc8",
   "metadata": {},
   "source": [
    "### Columns"
   ]
  },
  {
   "cell_type": "code",
   "execution_count": 20,
   "id": "e35feace",
   "metadata": {},
   "outputs": [
    {
     "data": {
      "text/plain": [
       "[\"Id\", \"SepalLengthCm\", \"SepalWidthCm\", \"PetalLengthCm\", \"PetalWidthCm\", \"Species\"]"
      ]
     },
     "execution_count": 20,
     "metadata": {},
     "output_type": "execute_result"
    }
   ],
   "source": [
    "let column_names = iris_df.get_column_names(); \n",
    "\n",
    "{\n",
    "    column_names\n",
    "}"
   ]
  },
  {
   "cell_type": "markdown",
   "id": "000ccc93",
   "metadata": {},
   "source": [
    "### Drop Species Column"
   ]
  },
  {
   "cell_type": "code",
   "execution_count": 21,
   "id": "194ade74",
   "metadata": {},
   "outputs": [],
   "source": [
    "let numeric_iris_df: DataFrame = iris_df.drop(\"Species\")?;"
   ]
  },
  {
   "cell_type": "markdown",
   "id": "5e84dd09",
   "metadata": {},
   "source": [
    "### Mean"
   ]
  },
  {
   "cell_type": "code",
   "execution_count": 22,
   "id": "cd5af63c",
   "metadata": {},
   "outputs": [
    {
     "data": {
      "text/plain": [
       "shape: (1, 5)\n",
       "┌──────┬───────────────┬──────────────┬───────────────┬──────────────┐\n",
       "│ Id   ┆ SepalLengthCm ┆ SepalWidthCm ┆ PetalLengthCm ┆ PetalWidthCm │\n",
       "│ ---  ┆ ---           ┆ ---          ┆ ---           ┆ ---          │\n",
       "│ f64  ┆ f64           ┆ f64          ┆ f64           ┆ f64          │\n",
       "╞══════╪═══════════════╪══════════════╪═══════════════╪══════════════╡\n",
       "│ 75.5 ┆ 5.843333      ┆ 3.054        ┆ 3.758667      ┆ 1.198667     │\n",
       "└──────┴───────────────┴──────────────┴───────────────┴──────────────┘"
      ]
     },
     "execution_count": 22,
     "metadata": {},
     "output_type": "execute_result"
    }
   ],
   "source": [
    "numeric_iris_df.mean()"
   ]
  },
  {
   "cell_type": "markdown",
   "id": "d8915589",
   "metadata": {},
   "source": [
    "### Max"
   ]
  },
  {
   "cell_type": "code",
   "execution_count": 23,
   "id": "4933def4",
   "metadata": {},
   "outputs": [
    {
     "data": {
      "text/plain": [
       "shape: (1, 5)\n",
       "┌─────┬───────────────┬──────────────┬───────────────┬──────────────┐\n",
       "│ Id  ┆ SepalLengthCm ┆ SepalWidthCm ┆ PetalLengthCm ┆ PetalWidthCm │\n",
       "│ --- ┆ ---           ┆ ---          ┆ ---           ┆ ---          │\n",
       "│ i64 ┆ f64           ┆ f64          ┆ f64           ┆ f64          │\n",
       "╞═════╪═══════════════╪══════════════╪═══════════════╪══════════════╡\n",
       "│ 150 ┆ 7.9           ┆ 4.4          ┆ 6.9           ┆ 2.5          │\n",
       "└─────┴───────────────┴──────────────┴───────────────┴──────────────┘"
      ]
     },
     "execution_count": 23,
     "metadata": {},
     "output_type": "execute_result"
    }
   ],
   "source": [
    "numeric_iris_df.max()"
   ]
  },
  {
   "cell_type": "markdown",
   "id": "29f13f5e",
   "metadata": {},
   "source": [
    "### Comvert To ndarray"
   ]
  },
  {
   "cell_type": "code",
   "execution_count": 26,
   "id": "ac33887d",
   "metadata": {},
   "outputs": [
    {
     "data": {
      "text/plain": [
       "[[1.0, 5.1, 3.5, 1.4, 0.2],\n",
       " [2.0, 4.9, 3.0, 1.4, 0.2],\n",
       " [3.0, 4.7, 3.2, 1.3, 0.2],\n",
       " [4.0, 4.6, 3.1, 1.5, 0.2],\n",
       " [5.0, 5.0, 3.6, 1.4, 0.2],\n",
       " ...,\n",
       " [146.0, 6.7, 3.0, 5.2, 2.3],\n",
       " [147.0, 6.3, 2.5, 5.0, 1.9],\n",
       " [148.0, 6.5, 3.0, 5.2, 2.0],\n",
       " [149.0, 6.2, 3.4, 5.4, 2.3],\n",
       " [150.0, 5.9, 3.0, 5.1, 1.8]], shape=[150, 5], strides=[1, 150], layout=Ff (0xa), const ndim=2"
      ]
     },
     "execution_count": 26,
     "metadata": {},
     "output_type": "execute_result"
    }
   ],
   "source": [
    "let numeric_iris_ndarray: ArrayBase<_, _> = numeric_iris_df.to_ndarray::<Float64Type>(IndexOrder::Fortran).unwrap();\n",
    "numeric_iris_ndarray"
   ]
  },
  {
   "cell_type": "markdown",
   "id": "ca1f17c5",
   "metadata": {},
   "source": [
    "<hr />"
   ]
  },
  {
   "cell_type": "markdown",
   "id": "47d47a54",
   "metadata": {},
   "source": [
    "## ndarray"
   ]
  },
  {
   "cell_type": "markdown",
   "id": "5fd4af7e",
   "metadata": {},
   "source": [
    "### First Element"
   ]
  },
  {
   "cell_type": "code",
   "execution_count": 27,
   "id": "caa142b9",
   "metadata": {},
   "outputs": [
    {
     "data": {
      "text/plain": [
       "1.0"
      ]
     },
     "execution_count": 27,
     "metadata": {},
     "output_type": "execute_result"
    }
   ],
   "source": [
    "numeric_iris_ndarray[[0, 0]]"
   ]
  },
  {
   "cell_type": "markdown",
   "id": "a4921527",
   "metadata": {},
   "source": [
    "### First Row"
   ]
  },
  {
   "cell_type": "code",
   "execution_count": 28,
   "id": "59383cd3",
   "metadata": {},
   "outputs": [
    {
     "data": {
      "text/plain": [
       "[1.0, 5.1, 3.5, 1.4, 0.2], shape=[5], strides=[150], layout=Custom (0x0), const ndim=1"
      ]
     },
     "execution_count": 28,
     "metadata": {},
     "output_type": "execute_result"
    }
   ],
   "source": [
    "numeric_iris_ndarray.slice(s![0, ..])"
   ]
  },
  {
   "cell_type": "markdown",
   "id": "9880b197",
   "metadata": {},
   "source": [
    "### Shape (rows, cols)"
   ]
  },
  {
   "cell_type": "code",
   "execution_count": 29,
   "id": "4d286e5d",
   "metadata": {},
   "outputs": [
    {
     "data": {
      "text/plain": [
       "(150, 5)"
      ]
     },
     "execution_count": 29,
     "metadata": {},
     "output_type": "execute_result"
    }
   ],
   "source": [
    "numeric_iris_ndarray.dim()"
   ]
  },
  {
   "cell_type": "markdown",
   "id": "8df7233e",
   "metadata": {},
   "source": [
    "### Last Row"
   ]
  },
  {
   "cell_type": "code",
   "execution_count": 30,
   "id": "3421e427",
   "metadata": {},
   "outputs": [
    {
     "data": {
      "text/plain": [
       "[150.0, 5.9, 3.0, 5.1, 1.8], shape=[5], strides=[150], layout=Custom (0x0), const ndim=1"
      ]
     },
     "execution_count": 30,
     "metadata": {},
     "output_type": "execute_result"
    }
   ],
   "source": [
    "let numeric_iris_ndarray_shape = numeric_iris_ndarray.dim(); // (rows, cols)\n",
    "// numeric_iris_ndarray.slice(s![numeric_iris_ndarray_shape.1 -1, ..])\n",
    "// or\n",
    "numeric_iris_ndarray.slice(s![-1, ..])"
   ]
  },
  {
   "cell_type": "markdown",
   "id": "25f0580d",
   "metadata": {},
   "source": [
    "### First Five Row"
   ]
  },
  {
   "cell_type": "code",
   "execution_count": 31,
   "id": "0d36256d",
   "metadata": {},
   "outputs": [
    {
     "data": {
      "text/plain": [
       "[[1.0, 5.1, 3.5, 1.4, 0.2],\n",
       " [2.0, 4.9, 3.0, 1.4, 0.2],\n",
       " [3.0, 4.7, 3.2, 1.3, 0.2],\n",
       " [4.0, 4.6, 3.1, 1.5, 0.2],\n",
       " [5.0, 5.0, 3.6, 1.4, 0.2]], shape=[5, 5], strides=[1, 150], layout=f (0x8), const ndim=2"
      ]
     },
     "execution_count": 31,
     "metadata": {},
     "output_type": "execute_result"
    }
   ],
   "source": [
    "numeric_iris_ndarray.slice(s![0..5, ..])"
   ]
  },
  {
   "cell_type": "markdown",
   "id": "4ae53953",
   "metadata": {},
   "source": [
    "### Last Five Row"
   ]
  },
  {
   "cell_type": "code",
   "execution_count": 32,
   "id": "bbb35d35",
   "metadata": {},
   "outputs": [
    {
     "data": {
      "text/plain": [
       "[[146.0, 6.7, 3.0, 5.2, 2.3],\n",
       " [147.0, 6.3, 2.5, 5.0, 1.9],\n",
       " [148.0, 6.5, 3.0, 5.2, 2.0],\n",
       " [149.0, 6.2, 3.4, 5.4, 2.3],\n",
       " [150.0, 5.9, 3.0, 5.1, 1.8]], shape=[5, 5], strides=[1, 150], layout=f (0x8), const ndim=2"
      ]
     },
     "execution_count": 32,
     "metadata": {},
     "output_type": "execute_result"
    }
   ],
   "source": [
    "numeric_iris_ndarray.slice(s![-5.., ..])"
   ]
  },
  {
   "cell_type": "markdown",
   "id": "f4b42d99",
   "metadata": {},
   "source": [
    "### Check for zero elements"
   ]
  },
  {
   "cell_type": "code",
   "execution_count": 33,
   "id": "e4ff5189",
   "metadata": {},
   "outputs": [
    {
     "data": {
      "text/plain": [
       "false"
      ]
     },
     "execution_count": 33,
     "metadata": {},
     "output_type": "execute_result"
    }
   ],
   "source": [
    "numeric_iris_ndarray.is_empty()"
   ]
  },
  {
   "cell_type": "markdown",
   "id": "7be5fc1e",
   "metadata": {},
   "source": [
    "<hr />"
   ]
  },
  {
   "cell_type": "markdown",
   "id": "bf6fea35",
   "metadata": {},
   "source": [
    "## Mathematics"
   ]
  },
  {
   "cell_type": "markdown",
   "id": "163db148",
   "metadata": {},
   "source": [
    "### Sum"
   ]
  },
  {
   "cell_type": "code",
   "execution_count": 34,
   "id": "d4188560",
   "metadata": {},
   "outputs": [
    {
     "data": {
      "text/plain": [
       "13403.199999999997"
      ]
     },
     "execution_count": 34,
     "metadata": {},
     "output_type": "execute_result"
    }
   ],
   "source": [
    "numeric_iris_ndarray.sum()"
   ]
  },
  {
   "cell_type": "markdown",
   "id": "63b753bd",
   "metadata": {},
   "source": [
    "### Sum Along Axis"
   ]
  },
  {
   "cell_type": "code",
   "execution_count": 35,
   "id": "5b33caa2",
   "metadata": {},
   "outputs": [
    {
     "data": {
      "text/plain": [
       "[11325.0, 876.5000000000001, 458.1, 563.8000000000002, 179.80000000000004], shape=[5], strides=[1], layout=CFcf (0xf), const ndim=1"
      ]
     },
     "execution_count": 35,
     "metadata": {},
     "output_type": "execute_result"
    }
   ],
   "source": [
    "numeric_iris_ndarray.sum_axis(Axis(0))"
   ]
  },
  {
   "cell_type": "markdown",
   "id": "832d3033",
   "metadata": {},
   "source": [
    "### Mean"
   ]
  },
  {
   "cell_type": "code",
   "execution_count": 36,
   "id": "5dddf68a",
   "metadata": {},
   "outputs": [
    {
     "data": {
      "text/plain": [
       "17.87093333333333"
      ]
     },
     "execution_count": 36,
     "metadata": {},
     "output_type": "execute_result"
    }
   ],
   "source": [
    "numeric_iris_ndarray.mean().unwrap()"
   ]
  },
  {
   "cell_type": "markdown",
   "id": "c7733043",
   "metadata": {},
   "source": [
    "### Transpose"
   ]
  },
  {
   "cell_type": "code",
   "execution_count": 37,
   "id": "71f6c578",
   "metadata": {},
   "outputs": [
    {
     "data": {
      "text/plain": [
       "[[1.0, 2.0, 3.0, 4.0, 5.0, ..., 146.0, 147.0, 148.0, 149.0, 150.0],\n",
       " [5.1, 4.9, 4.7, 4.6, 5.0, ..., 6.7, 6.3, 6.5, 6.2, 5.9],\n",
       " [3.5, 3.0, 3.2, 3.1, 3.6, ..., 3.0, 2.5, 3.0, 3.4, 3.0],\n",
       " [1.4, 1.4, 1.3, 1.5, 1.4, ..., 5.2, 5.0, 5.2, 5.4, 5.1],\n",
       " [0.2, 0.2, 0.2, 0.2, 0.2, ..., 2.3, 1.9, 2.0, 2.3, 1.8]], shape=[5, 150], strides=[150, 1], layout=Cc (0x5), const ndim=2"
      ]
     },
     "execution_count": 37,
     "metadata": {},
     "output_type": "execute_result"
    }
   ],
   "source": [
    "numeric_iris_ndarray.t()"
   ]
  },
  {
   "cell_type": "markdown",
   "id": "88a8af17",
   "metadata": {},
   "source": [
    "### 2-D matrix multiply"
   ]
  },
  {
   "cell_type": "code",
   "execution_count": 38,
   "id": "c3d3450e",
   "metadata": {},
   "outputs": [
    {
     "data": {
      "text/plain": [
       "[[41.26, 39.489999999999995, 40.03, 40.449999999999996, 45.1, ..., 198.41, 195.26, 199.33, 200.54000000000002, 198.09],\n",
       " [39.489999999999995, 39.010000000000005, 40.49, 41.98, 47.3, ..., 341.56999999999994, 339.75, 344.53, 346.59999999999997, 345.41],\n",
       " [40.03, 40.49, 43.06, 45.53, 51.88, ..., 486.31, 485.49, 491.31, 494.49999999999994, 494.32000000000005],\n",
       " [40.449999999999996, 41.98, 45.53, 49.059999999999995, 56.300000000000004, ..., 632.38, 632.61, 639.3999999999999, 643.62, 644.4499999999999],\n",
       " [45.1, 47.3, 51.88, 56.300000000000004, 64.96000000000001, ..., 782.04, 782.88, 790.9799999999999, 796.26, 797.8],\n",
       " ...,\n",
       " [198.41, 341.56999999999994, 486.31, 632.38, 782.04, ..., 21402.22, 21542.079999999998, 21692.19, 21839.110000000004, 21979.19],\n",
       " [195.26, 339.75, 485.49, 632.61, 782.88, ..., 21542.079999999998, 21683.55, 21834.25, 21981.93, 22123.589999999997],\n",
       " [199.33, 344.53, 491.31, 639.3999999999999, 790.9799999999999, ..., 21692.19, 21834.25, 21986.29, 22135.18, 22277.469999999998],\n",
       " [200.54000000000002, 346.59999999999997, 494.49999999999994, 643.62, 796.26, ..., 21839.110000000004, 21981.93, 22135.18, 22285.45, 22428.460000000003],\n",
       " [198.09, 345.41, 494.32000000000005, 644.4499999999999, 797.8, ..., 21979.19, 22123.589999999997, 22277.469999999998, 22428.460000000003, 22573.06]], shape=[150, 150], strides=[150, 1], layout=Cc (0x5), const ndim=2"
      ]
     },
     "execution_count": 38,
     "metadata": {},
     "output_type": "execute_result"
    }
   ],
   "source": [
    "numeric_iris_ndarray.dot(&numeric_iris_ndarray.t())"
   ]
  },
  {
   "cell_type": "markdown",
   "id": "aac50180",
   "metadata": {},
   "source": [
    "<hr />"
   ]
  },
  {
   "cell_type": "markdown",
   "id": "007882a8",
   "metadata": {},
   "source": [
    "## Arithmetics"
   ]
  },
  {
   "cell_type": "code",
   "execution_count": 39,
   "id": "66d1926f",
   "metadata": {},
   "outputs": [
    {
     "data": {
      "text/plain": [
       "[[2.0, 6.1, 4.5, 2.4, 1.2],\n",
       " [3.0, 5.9, 4.0, 2.4, 1.2],\n",
       " [4.0, 5.7, 4.2, 2.3, 1.2],\n",
       " [5.0, 5.6, 4.1, 2.5, 1.2],\n",
       " [6.0, 6.0, 4.6, 2.4, 1.2],\n",
       " ...,\n",
       " [147.0, 7.7, 4.0, 6.2, 3.3],\n",
       " [148.0, 7.3, 3.5, 6.0, 2.9],\n",
       " [149.0, 7.5, 4.0, 6.2, 3.0],\n",
       " [150.0, 7.2, 4.4, 6.4, 3.3],\n",
       " [151.0, 6.9, 4.0, 6.1, 2.8]], shape=[150, 5], strides=[1, 150], layout=Ff (0xa), const ndim=2"
      ]
     },
     "execution_count": 39,
     "metadata": {},
     "output_type": "execute_result"
    }
   ],
   "source": [
    "&numeric_iris_ndarray + 1.0"
   ]
  },
  {
   "cell_type": "markdown",
   "id": "e531193c",
   "metadata": {},
   "source": [
    "<hr />"
   ]
  },
  {
   "cell_type": "markdown",
   "id": "534cb70e",
   "metadata": {},
   "source": [
    "## Sepal Length Column"
   ]
  },
  {
   "cell_type": "code",
   "execution_count": 40,
   "id": "e0ab8d7e",
   "metadata": {
    "scrolled": true
   },
   "outputs": [
    {
     "data": {
      "text/plain": [
       "[5.1, 4.9, 4.7, 4.6, 5.0, 5.4, 4.6, 5.0, 4.4, 4.9, 5.4, 4.8, 4.8, 4.3, 5.8, 5.7, 5.4, 5.1, 5.7, 5.1, 5.4, 5.1, 4.6, 5.1, 4.8, 5.0, 5.0, 5.2, 5.2, 4.7, 4.8, 5.4, 5.2, 5.5, 4.9, 5.0, 5.5, 4.9, 4.4, 5.1, 5.0, 4.5, 4.4, 5.0, 5.1, 4.8, 5.1, 4.6, 5.3, 5.0, 7.0, 6.4, 6.9, 5.5, 6.5, 5.7, 6.3, 4.9, 6.6, 5.2, 5.0, 5.9, 6.0, 6.1, 5.6, 6.7, 5.6, 5.8, 6.2, 5.6, 5.9, 6.1, 6.3, 6.1, 6.4, 6.6, 6.8, 6.7, 6.0, 5.7, 5.5, 5.5, 5.8, 6.0, 5.4, 6.0, 6.7, 6.3, 5.6, 5.5, 5.5, 6.1, 5.8, 5.0, 5.6, 5.7, 5.7, 6.2, 5.1, 5.7, 6.3, 5.8, 7.1, 6.3, 6.5, 7.6, 4.9, 7.3, 6.7, 7.2, 6.5, 6.4, 6.8, 5.7, 5.8, 6.4, 6.5, 7.7, 7.7, 6.0, 6.9, 5.6, 7.7, 6.3, 6.7, 7.2, 6.2, 6.1, 6.4, 7.2, 7.4, 7.9, 6.4, 6.3, 6.1, 7.7, 6.3, 6.4, 6.0, 6.9, 6.7, 6.9, 5.8, 6.8, 6.7, 6.7, 6.3, 6.5, 6.2, 5.9], shape=[150], strides=[1], layout=CFcf (0xf), const ndim=1"
      ]
     },
     "execution_count": 40,
     "metadata": {},
     "output_type": "execute_result"
    }
   ],
   "source": [
    "numeric_iris_ndarray.column(1)"
   ]
  },
  {
   "cell_type": "markdown",
   "id": "ff9aa48a-7f29-46c2-a9cc-23c295a7aad6",
   "metadata": {},
   "source": [
    "Many thanks to [Brendan A R Sechter](https://github.com/sgeos) for fixing this bug in [#17](https://github.com/wiseaidev/rust-data-analysis/issues/17)."
   ]
  },
  {
   "cell_type": "code",
   "execution_count": 41,
   "id": "98276f31",
   "metadata": {},
   "outputs": [
    {
     "data": {
      "text/plain": [
       "[[5.1, 3.5],\n",
       " [4.9, 3.0],\n",
       " [4.7, 3.2],\n",
       " [4.6, 3.1],\n",
       " [5.0, 3.6],\n",
       " [5.4, 3.9],\n",
       " [4.6, 3.4],\n",
       " [5.0, 3.4],\n",
       " [4.4, 2.9],\n",
       " [4.9, 3.1],\n",
       " [5.4, 3.7],\n",
       " [4.8, 3.4],\n",
       " [4.8, 3.0],\n",
       " [4.3, 3.0],\n",
       " [5.8, 4.0],\n",
       " [5.7, 4.4],\n",
       " [5.4, 3.9],\n",
       " [5.1, 3.5],\n",
       " [5.7, 3.8],\n",
       " [5.1, 3.8],\n",
       " [5.4, 3.4],\n",
       " [5.1, 3.7],\n",
       " [4.6, 3.6],\n",
       " [5.1, 3.3],\n",
       " [4.8, 3.4],\n",
       " [5.0, 3.0],\n",
       " [5.0, 3.4],\n",
       " [5.2, 3.5],\n",
       " [5.2, 3.4],\n",
       " [4.7, 3.2],\n",
       " [4.8, 3.1],\n",
       " [5.4, 3.4],\n",
       " [5.2, 4.1],\n",
       " [5.5, 4.2],\n",
       " [4.9, 3.1],\n",
       " [5.0, 3.2],\n",
       " [5.5, 3.5],\n",
       " [4.9, 3.1],\n",
       " [4.4, 3.0],\n",
       " [5.1, 3.4],\n",
       " [5.0, 3.5],\n",
       " [4.5, 2.3],\n",
       " [4.4, 3.2],\n",
       " [5.0, 3.5],\n",
       " [5.1, 3.8],\n",
       " [4.8, 3.0],\n",
       " [5.1, 3.8],\n",
       " [4.6, 3.2],\n",
       " [5.3, 3.7],\n",
       " [5.0, 3.3],\n",
       " [7.0, 3.2],\n",
       " [6.4, 3.2],\n",
       " [6.9, 3.1],\n",
       " [5.5, 2.3],\n",
       " [6.5, 2.8],\n",
       " [5.7, 2.8],\n",
       " [6.3, 3.3],\n",
       " [4.9, 2.4],\n",
       " [6.6, 2.9],\n",
       " [5.2, 2.7],\n",
       " [5.0, 2.0],\n",
       " [5.9, 3.0],\n",
       " [6.0, 2.2],\n",
       " [6.1, 2.9],\n",
       " [5.6, 2.9],\n",
       " [6.7, 3.1],\n",
       " [5.6, 3.0],\n",
       " [5.8, 2.7],\n",
       " [6.2, 2.2],\n",
       " [5.6, 2.5],\n",
       " [5.9, 3.2],\n",
       " [6.1, 2.8],\n",
       " [6.3, 2.5],\n",
       " [6.1, 2.8],\n",
       " [6.4, 2.9],\n",
       " [6.6, 3.0],\n",
       " [6.8, 2.8],\n",
       " [6.7, 3.0],\n",
       " [6.0, 2.9],\n",
       " [5.7, 2.6],\n",
       " [5.5, 2.4],\n",
       " [5.5, 2.4],\n",
       " [5.8, 2.7],\n",
       " [6.0, 2.7],\n",
       " [5.4, 3.0],\n",
       " [6.0, 3.4],\n",
       " [6.7, 3.1],\n",
       " [6.3, 2.3],\n",
       " [5.6, 3.0],\n",
       " [5.5, 2.5],\n",
       " [5.5, 2.6],\n",
       " [6.1, 3.0],\n",
       " [5.8, 2.6],\n",
       " [5.0, 2.3],\n",
       " [5.6, 2.7],\n",
       " [5.7, 3.0],\n",
       " [5.7, 2.9],\n",
       " [6.2, 2.9],\n",
       " [5.1, 2.5],\n",
       " [5.7, 2.8],\n",
       " [6.3, 3.3],\n",
       " [5.8, 2.7],\n",
       " [7.1, 3.0],\n",
       " [6.3, 2.9],\n",
       " [6.5, 3.0],\n",
       " [7.6, 3.0],\n",
       " [4.9, 2.5],\n",
       " [7.3, 2.9],\n",
       " [6.7, 2.5],\n",
       " [7.2, 3.6],\n",
       " [6.5, 3.2],\n",
       " [6.4, 2.7],\n",
       " [6.8, 3.0],\n",
       " [5.7, 2.5],\n",
       " [5.8, 2.8],\n",
       " [6.4, 3.2],\n",
       " [6.5, 3.0],\n",
       " [7.7, 3.8],\n",
       " [7.7, 2.6],\n",
       " [6.0, 2.2],\n",
       " [6.9, 3.2],\n",
       " [5.6, 2.8],\n",
       " [7.7, 2.8],\n",
       " [6.3, 2.7],\n",
       " [6.7, 3.3],\n",
       " [7.2, 3.2],\n",
       " [6.2, 2.8],\n",
       " [6.1, 3.0],\n",
       " [6.4, 2.8],\n",
       " [7.2, 3.0],\n",
       " [7.4, 2.8],\n",
       " [7.9, 3.8],\n",
       " [6.4, 2.8],\n",
       " [6.3, 2.8],\n",
       " [6.1, 2.6],\n",
       " [7.7, 3.0],\n",
       " [6.3, 3.4],\n",
       " [6.4, 3.1],\n",
       " [6.0, 3.0],\n",
       " [6.9, 3.1],\n",
       " [6.7, 3.1],\n",
       " [6.9, 3.1],\n",
       " [5.8, 2.7],\n",
       " [6.8, 3.2],\n",
       " [6.7, 3.3],\n",
       " [6.7, 3.0],\n",
       " [6.3, 2.5],\n",
       " [6.5, 3.0],\n",
       " [6.2, 3.4],\n",
       " [5.9, 3.0]], shape=[150, 2], strides=[1, 150], layout=Ff (0xa), const ndim=2"
      ]
     },
     "execution_count": 41,
     "metadata": {},
     "output_type": "execute_result"
    }
   ],
   "source": [
    "{\n",
    "  let axis = Axis(1); // dropped at end of block\n",
    "  let array_data_a = numeric_iris_ndarray.column(1).insert_axis(axis); // dropped at end of block\n",
    "  let array_data_b = numeric_iris_ndarray.column(2).insert_axis(axis); // dropped at end of block\n",
    "  concatenate(axis, &[array_data_a, array_data_b])? // returned by block\n",
    "}"
   ]
  },
  {
   "cell_type": "code",
   "execution_count": 42,
   "id": "f95db658",
   "metadata": {},
   "outputs": [
    {
     "data": {
      "text/plain": [
       "[\"Id\", \"SepalLengthCm\", \"SepalWidthCm\", \"PetalLengthCm\", \"PetalWidthCm\"]"
      ]
     },
     "execution_count": 42,
     "metadata": {},
     "output_type": "execute_result"
    }
   ],
   "source": [
    "numeric_iris_df.get_column_names()"
   ]
  },
  {
   "cell_type": "markdown",
   "id": "123683c0-5c81-408d-a23a-9a1d89ec8d18",
   "metadata": {},
   "source": [
    "## Filter one label"
   ]
  },
  {
   "cell_type": "code",
   "execution_count": 43,
   "id": "a019756d-87ca-41c4-9e38-4884a8493f75",
   "metadata": {},
   "outputs": [
    {
     "data": {
      "text/plain": [
       "Ok(shape: (50, 6)\n",
       "┌─────┬───────────────┬──────────────┬───────────────┬──────────────┬────────────────┐\n",
       "│ Id  ┆ SepalLengthCm ┆ SepalWidthCm ┆ PetalLengthCm ┆ PetalWidthCm ┆ Species        │\n",
       "│ --- ┆ ---           ┆ ---          ┆ ---           ┆ ---          ┆ ---            │\n",
       "│ i64 ┆ f64           ┆ f64          ┆ f64           ┆ f64          ┆ str            │\n",
       "╞═════╪═══════════════╪══════════════╪═══════════════╪══════════════╪════════════════╡\n",
       "│ 101 ┆ 6.3           ┆ 3.3          ┆ 6.0           ┆ 2.5          ┆ Iris-virginica │\n",
       "│ 102 ┆ 5.8           ┆ 2.7          ┆ 5.1           ┆ 1.9          ┆ Iris-virginica │\n",
       "│ 103 ┆ 7.1           ┆ 3.0          ┆ 5.9           ┆ 2.1          ┆ Iris-virginica │\n",
       "│ 104 ┆ 6.3           ┆ 2.9          ┆ 5.6           ┆ 1.8          ┆ Iris-virginica │\n",
       "│ …   ┆ …             ┆ …            ┆ …             ┆ …            ┆ …              │\n",
       "│ 147 ┆ 6.3           ┆ 2.5          ┆ 5.0           ┆ 1.9          ┆ Iris-virginica │\n",
       "│ 148 ┆ 6.5           ┆ 3.0          ┆ 5.2           ┆ 2.0          ┆ Iris-virginica │\n",
       "│ 149 ┆ 6.2           ┆ 3.4          ┆ 5.4           ┆ 2.3          ┆ Iris-virginica │\n",
       "│ 150 ┆ 5.9           ┆ 3.0          ┆ 5.1           ┆ 1.8          ┆ Iris-virginica │\n",
       "└─────┴───────────────┴──────────────┴───────────────┴──────────────┴────────────────┘)"
      ]
     },
     "execution_count": 43,
     "metadata": {},
     "output_type": "execute_result"
    }
   ],
   "source": [
    "let column_name = \"Species\";\n",
    "let column_filter_value = \"Iris-virginica\";\n",
    "let mask = iris_df.column(column_name)?.equal(column_filter_value)?;\n",
    "let filtered_dataset = iris_df.filter(&mask);\n",
    "filtered_dataset"
   ]
  },
  {
   "cell_type": "markdown",
   "id": "183aa9f1",
   "metadata": {},
   "source": [
    "<hr />"
   ]
  },
  {
   "cell_type": "markdown",
   "id": "523bfbbf",
   "metadata": {},
   "source": [
    "## Scatter Plot"
   ]
  },
  {
   "cell_type": "markdown",
   "id": "331a7852",
   "metadata": {},
   "source": [
    "### Sepal"
   ]
  },
  {
   "cell_type": "code",
   "execution_count": 44,
   "id": "da5e36a8",
   "metadata": {},
   "outputs": [
    {
     "data": {
      "text/html": [
       "<div style=\"width:60%\"><svg width=\"640\" height=\"480\" viewBox=\"0 0 640 480\" xmlns=\"http://www.w3.org/2000/svg\">\n",
       "<text x=\"320\" y=\"5\" dy=\"0.76em\" text-anchor=\"middle\" font-family=\"Arial\" font-size=\"24.193548387096776\" opacity=\"1\" fill=\"#000000\">\n",
       "Iris Dataset\n",
       "</text>\n",
       "<line opacity=\"0.1\" stroke=\"#000000\" stroke-width=\"1\" x1=\"40\" y1=\"439\" x2=\"40\" y2=\"35\"/>\n",
       "<line opacity=\"0.1\" stroke=\"#000000\" stroke-width=\"1\" x1=\"47\" y1=\"439\" x2=\"47\" y2=\"35\"/>\n",
       "<line opacity=\"0.1\" stroke=\"#000000\" stroke-width=\"1\" x1=\"54\" y1=\"439\" x2=\"54\" y2=\"35\"/>\n",
       "<line opacity=\"0.1\" stroke=\"#000000\" stroke-width=\"1\" x1=\"62\" y1=\"439\" x2=\"62\" y2=\"35\"/>\n",
       "<line opacity=\"0.1\" stroke=\"#000000\" stroke-width=\"1\" x1=\"69\" y1=\"439\" x2=\"69\" y2=\"35\"/>\n",
       "<line opacity=\"0.1\" stroke=\"#000000\" stroke-width=\"1\" x1=\"77\" y1=\"439\" x2=\"77\" y2=\"35\"/>\n",
       "<line opacity=\"0.1\" stroke=\"#000000\" stroke-width=\"1\" x1=\"84\" y1=\"439\" x2=\"84\" y2=\"35\"/>\n",
       "<line opacity=\"0.1\" stroke=\"#000000\" stroke-width=\"1\" x1=\"92\" y1=\"439\" x2=\"92\" y2=\"35\"/>\n",
       "<line opacity=\"0.1\" stroke=\"#000000\" stroke-width=\"1\" x1=\"99\" y1=\"439\" x2=\"99\" y2=\"35\"/>\n",
       "<line opacity=\"0.1\" stroke=\"#000000\" stroke-width=\"1\" x1=\"107\" y1=\"439\" x2=\"107\" y2=\"35\"/>\n",
       "<line opacity=\"0.1\" stroke=\"#000000\" stroke-width=\"1\" x1=\"114\" y1=\"439\" x2=\"114\" y2=\"35\"/>\n",
       "<line opacity=\"0.1\" stroke=\"#000000\" stroke-width=\"1\" x1=\"122\" y1=\"439\" x2=\"122\" y2=\"35\"/>\n",
       "<line opacity=\"0.1\" stroke=\"#000000\" stroke-width=\"1\" x1=\"129\" y1=\"439\" x2=\"129\" y2=\"35\"/>\n",
       "<line opacity=\"0.1\" stroke=\"#000000\" stroke-width=\"1\" x1=\"137\" y1=\"439\" x2=\"137\" y2=\"35\"/>\n",
       "<line opacity=\"0.1\" stroke=\"#000000\" stroke-width=\"1\" x1=\"144\" y1=\"439\" x2=\"144\" y2=\"35\"/>\n",
       "<line opacity=\"0.1\" stroke=\"#000000\" stroke-width=\"1\" x1=\"152\" y1=\"439\" x2=\"152\" y2=\"35\"/>\n",
       "<line opacity=\"0.1\" stroke=\"#000000\" stroke-width=\"1\" x1=\"159\" y1=\"439\" x2=\"159\" y2=\"35\"/>\n",
       "<line opacity=\"0.1\" stroke=\"#000000\" stroke-width=\"1\" x1=\"167\" y1=\"439\" x2=\"167\" y2=\"35\"/>\n",
       "<line opacity=\"0.1\" stroke=\"#000000\" stroke-width=\"1\" x1=\"174\" y1=\"439\" x2=\"174\" y2=\"35\"/>\n",
       "<line opacity=\"0.1\" stroke=\"#000000\" stroke-width=\"1\" x1=\"182\" y1=\"439\" x2=\"182\" y2=\"35\"/>\n",
       "<line opacity=\"0.1\" stroke=\"#000000\" stroke-width=\"1\" x1=\"189\" y1=\"439\" x2=\"189\" y2=\"35\"/>\n",
       "<line opacity=\"0.1\" stroke=\"#000000\" stroke-width=\"1\" x1=\"197\" y1=\"439\" x2=\"197\" y2=\"35\"/>\n",
       "<line opacity=\"0.1\" stroke=\"#000000\" stroke-width=\"1\" x1=\"204\" y1=\"439\" x2=\"204\" y2=\"35\"/>\n",
       "<line opacity=\"0.1\" stroke=\"#000000\" stroke-width=\"1\" x1=\"212\" y1=\"439\" x2=\"212\" y2=\"35\"/>\n",
       "<line opacity=\"0.1\" stroke=\"#000000\" stroke-width=\"1\" x1=\"219\" y1=\"439\" x2=\"219\" y2=\"35\"/>\n",
       "<line opacity=\"0.1\" stroke=\"#000000\" stroke-width=\"1\" x1=\"227\" y1=\"439\" x2=\"227\" y2=\"35\"/>\n",
       "<line opacity=\"0.1\" stroke=\"#000000\" stroke-width=\"1\" x1=\"234\" y1=\"439\" x2=\"234\" y2=\"35\"/>\n",
       "<line opacity=\"0.1\" stroke=\"#000000\" stroke-width=\"1\" x1=\"242\" y1=\"439\" x2=\"242\" y2=\"35\"/>\n",
       "<line opacity=\"0.1\" stroke=\"#000000\" stroke-width=\"1\" x1=\"249\" y1=\"439\" x2=\"249\" y2=\"35\"/>\n",
       "<line opacity=\"0.1\" stroke=\"#000000\" stroke-width=\"1\" x1=\"257\" y1=\"439\" x2=\"257\" y2=\"35\"/>\n",
       "<line opacity=\"0.1\" stroke=\"#000000\" stroke-width=\"1\" x1=\"264\" y1=\"439\" x2=\"264\" y2=\"35\"/>\n",
       "<line opacity=\"0.1\" stroke=\"#000000\" stroke-width=\"1\" x1=\"272\" y1=\"439\" x2=\"272\" y2=\"35\"/>\n",
       "<line opacity=\"0.1\" stroke=\"#000000\" stroke-width=\"1\" x1=\"279\" y1=\"439\" x2=\"279\" y2=\"35\"/>\n",
       "<line opacity=\"0.1\" stroke=\"#000000\" stroke-width=\"1\" x1=\"287\" y1=\"439\" x2=\"287\" y2=\"35\"/>\n",
       "<line opacity=\"0.1\" stroke=\"#000000\" stroke-width=\"1\" x1=\"294\" y1=\"439\" x2=\"294\" y2=\"35\"/>\n",
       "<line opacity=\"0.1\" stroke=\"#000000\" stroke-width=\"1\" x1=\"302\" y1=\"439\" x2=\"302\" y2=\"35\"/>\n",
       "<line opacity=\"0.1\" stroke=\"#000000\" stroke-width=\"1\" x1=\"309\" y1=\"439\" x2=\"309\" y2=\"35\"/>\n",
       "<line opacity=\"0.1\" stroke=\"#000000\" stroke-width=\"1\" x1=\"317\" y1=\"439\" x2=\"317\" y2=\"35\"/>\n",
       "<line opacity=\"0.1\" stroke=\"#000000\" stroke-width=\"1\" x1=\"324\" y1=\"439\" x2=\"324\" y2=\"35\"/>\n",
       "<line opacity=\"0.1\" stroke=\"#000000\" stroke-width=\"1\" x1=\"332\" y1=\"439\" x2=\"332\" y2=\"35\"/>\n",
       "<line opacity=\"0.1\" stroke=\"#000000\" stroke-width=\"1\" x1=\"339\" y1=\"439\" x2=\"339\" y2=\"35\"/>\n",
       "<line opacity=\"0.1\" stroke=\"#000000\" stroke-width=\"1\" x1=\"346\" y1=\"439\" x2=\"346\" y2=\"35\"/>\n",
       "<line opacity=\"0.1\" stroke=\"#000000\" stroke-width=\"1\" x1=\"354\" y1=\"439\" x2=\"354\" y2=\"35\"/>\n",
       "<line opacity=\"0.1\" stroke=\"#000000\" stroke-width=\"1\" x1=\"361\" y1=\"439\" x2=\"361\" y2=\"35\"/>\n",
       "<line opacity=\"0.1\" stroke=\"#000000\" stroke-width=\"1\" x1=\"369\" y1=\"439\" x2=\"369\" y2=\"35\"/>\n",
       "<line opacity=\"0.1\" stroke=\"#000000\" stroke-width=\"1\" x1=\"376\" y1=\"439\" x2=\"376\" y2=\"35\"/>\n",
       "<line opacity=\"0.1\" stroke=\"#000000\" stroke-width=\"1\" x1=\"384\" y1=\"439\" x2=\"384\" y2=\"35\"/>\n",
       "<line opacity=\"0.1\" stroke=\"#000000\" stroke-width=\"1\" x1=\"391\" y1=\"439\" x2=\"391\" y2=\"35\"/>\n",
       "<line opacity=\"0.1\" stroke=\"#000000\" stroke-width=\"1\" x1=\"399\" y1=\"439\" x2=\"399\" y2=\"35\"/>\n",
       "<line opacity=\"0.1\" stroke=\"#000000\" stroke-width=\"1\" x1=\"406\" y1=\"439\" x2=\"406\" y2=\"35\"/>\n",
       "<line opacity=\"0.1\" stroke=\"#000000\" stroke-width=\"1\" x1=\"414\" y1=\"439\" x2=\"414\" y2=\"35\"/>\n",
       "<line opacity=\"0.1\" stroke=\"#000000\" stroke-width=\"1\" x1=\"421\" y1=\"439\" x2=\"421\" y2=\"35\"/>\n",
       "<line opacity=\"0.1\" stroke=\"#000000\" stroke-width=\"1\" x1=\"429\" y1=\"439\" x2=\"429\" y2=\"35\"/>\n",
       "<line opacity=\"0.1\" stroke=\"#000000\" stroke-width=\"1\" x1=\"436\" y1=\"439\" x2=\"436\" y2=\"35\"/>\n",
       "<line opacity=\"0.1\" stroke=\"#000000\" stroke-width=\"1\" x1=\"444\" y1=\"439\" x2=\"444\" y2=\"35\"/>\n",
       "<line opacity=\"0.1\" stroke=\"#000000\" stroke-width=\"1\" x1=\"451\" y1=\"439\" x2=\"451\" y2=\"35\"/>\n",
       "<line opacity=\"0.1\" stroke=\"#000000\" stroke-width=\"1\" x1=\"459\" y1=\"439\" x2=\"459\" y2=\"35\"/>\n",
       "<line opacity=\"0.1\" stroke=\"#000000\" stroke-width=\"1\" x1=\"466\" y1=\"439\" x2=\"466\" y2=\"35\"/>\n",
       "<line opacity=\"0.1\" stroke=\"#000000\" stroke-width=\"1\" x1=\"474\" y1=\"439\" x2=\"474\" y2=\"35\"/>\n",
       "<line opacity=\"0.1\" stroke=\"#000000\" stroke-width=\"1\" x1=\"481\" y1=\"439\" x2=\"481\" y2=\"35\"/>\n",
       "<line opacity=\"0.1\" stroke=\"#000000\" stroke-width=\"1\" x1=\"489\" y1=\"439\" x2=\"489\" y2=\"35\"/>\n",
       "<line opacity=\"0.1\" stroke=\"#000000\" stroke-width=\"1\" x1=\"496\" y1=\"439\" x2=\"496\" y2=\"35\"/>\n",
       "<line opacity=\"0.1\" stroke=\"#000000\" stroke-width=\"1\" x1=\"504\" y1=\"439\" x2=\"504\" y2=\"35\"/>\n",
       "<line opacity=\"0.1\" stroke=\"#000000\" stroke-width=\"1\" x1=\"511\" y1=\"439\" x2=\"511\" y2=\"35\"/>\n",
       "<line opacity=\"0.1\" stroke=\"#000000\" stroke-width=\"1\" x1=\"519\" y1=\"439\" x2=\"519\" y2=\"35\"/>\n",
       "<line opacity=\"0.1\" stroke=\"#000000\" stroke-width=\"1\" x1=\"526\" y1=\"439\" x2=\"526\" y2=\"35\"/>\n",
       "<line opacity=\"0.1\" stroke=\"#000000\" stroke-width=\"1\" x1=\"534\" y1=\"439\" x2=\"534\" y2=\"35\"/>\n",
       "<line opacity=\"0.1\" stroke=\"#000000\" stroke-width=\"1\" x1=\"541\" y1=\"439\" x2=\"541\" y2=\"35\"/>\n",
       "<line opacity=\"0.1\" stroke=\"#000000\" stroke-width=\"1\" x1=\"549\" y1=\"439\" x2=\"549\" y2=\"35\"/>\n",
       "<line opacity=\"0.1\" stroke=\"#000000\" stroke-width=\"1\" x1=\"556\" y1=\"439\" x2=\"556\" y2=\"35\"/>\n",
       "<line opacity=\"0.1\" stroke=\"#000000\" stroke-width=\"1\" x1=\"564\" y1=\"439\" x2=\"564\" y2=\"35\"/>\n",
       "<line opacity=\"0.1\" stroke=\"#000000\" stroke-width=\"1\" x1=\"571\" y1=\"439\" x2=\"571\" y2=\"35\"/>\n",
       "<line opacity=\"0.1\" stroke=\"#000000\" stroke-width=\"1\" x1=\"579\" y1=\"439\" x2=\"579\" y2=\"35\"/>\n",
       "<line opacity=\"0.1\" stroke=\"#000000\" stroke-width=\"1\" x1=\"586\" y1=\"439\" x2=\"586\" y2=\"35\"/>\n",
       "<line opacity=\"0.1\" stroke=\"#000000\" stroke-width=\"1\" x1=\"594\" y1=\"439\" x2=\"594\" y2=\"35\"/>\n",
       "<line opacity=\"0.1\" stroke=\"#000000\" stroke-width=\"1\" x1=\"601\" y1=\"439\" x2=\"601\" y2=\"35\"/>\n",
       "<line opacity=\"0.1\" stroke=\"#000000\" stroke-width=\"1\" x1=\"609\" y1=\"439\" x2=\"609\" y2=\"35\"/>\n",
       "<line opacity=\"0.1\" stroke=\"#000000\" stroke-width=\"1\" x1=\"616\" y1=\"439\" x2=\"616\" y2=\"35\"/>\n",
       "<line opacity=\"0.1\" stroke=\"#000000\" stroke-width=\"1\" x1=\"624\" y1=\"439\" x2=\"624\" y2=\"35\"/>\n",
       "<line opacity=\"0.1\" stroke=\"#000000\" stroke-width=\"1\" x1=\"631\" y1=\"439\" x2=\"631\" y2=\"35\"/>\n",
       "<line opacity=\"0.1\" stroke=\"#000000\" stroke-width=\"1\" x1=\"639\" y1=\"439\" x2=\"639\" y2=\"35\"/>\n",
       "<line opacity=\"0.1\" stroke=\"#000000\" stroke-width=\"1\" x1=\"40\" y1=\"439\" x2=\"639\" y2=\"439\"/>\n",
       "<line opacity=\"0.1\" stroke=\"#000000\" stroke-width=\"1\" x1=\"40\" y1=\"433\" x2=\"639\" y2=\"433\"/>\n",
       "<line opacity=\"0.1\" stroke=\"#000000\" stroke-width=\"1\" x1=\"40\" y1=\"426\" x2=\"639\" y2=\"426\"/>\n",
       "<line opacity=\"0.1\" stroke=\"#000000\" stroke-width=\"1\" x1=\"40\" y1=\"419\" x2=\"639\" y2=\"419\"/>\n",
       "<line opacity=\"0.1\" stroke=\"#000000\" stroke-width=\"1\" x1=\"40\" y1=\"413\" x2=\"639\" y2=\"413\"/>\n",
       "<line opacity=\"0.1\" stroke=\"#000000\" stroke-width=\"1\" x1=\"40\" y1=\"406\" x2=\"639\" y2=\"406\"/>\n",
       "<line opacity=\"0.1\" stroke=\"#000000\" stroke-width=\"1\" x1=\"40\" y1=\"399\" x2=\"639\" y2=\"399\"/>\n",
       "<line opacity=\"0.1\" stroke=\"#000000\" stroke-width=\"1\" x1=\"40\" y1=\"392\" x2=\"639\" y2=\"392\"/>\n",
       "<line opacity=\"0.1\" stroke=\"#000000\" stroke-width=\"1\" x1=\"40\" y1=\"386\" x2=\"639\" y2=\"386\"/>\n",
       "<line opacity=\"0.1\" stroke=\"#000000\" stroke-width=\"1\" x1=\"40\" y1=\"379\" x2=\"639\" y2=\"379\"/>\n",
       "<line opacity=\"0.1\" stroke=\"#000000\" stroke-width=\"1\" x1=\"40\" y1=\"372\" x2=\"639\" y2=\"372\"/>\n",
       "<line opacity=\"0.1\" stroke=\"#000000\" stroke-width=\"1\" x1=\"40\" y1=\"365\" x2=\"639\" y2=\"365\"/>\n",
       "<line opacity=\"0.1\" stroke=\"#000000\" stroke-width=\"1\" x1=\"40\" y1=\"359\" x2=\"639\" y2=\"359\"/>\n",
       "<line opacity=\"0.1\" stroke=\"#000000\" stroke-width=\"1\" x1=\"40\" y1=\"352\" x2=\"639\" y2=\"352\"/>\n",
       "<line opacity=\"0.1\" stroke=\"#000000\" stroke-width=\"1\" x1=\"40\" y1=\"345\" x2=\"639\" y2=\"345\"/>\n",
       "<line opacity=\"0.1\" stroke=\"#000000\" stroke-width=\"1\" x1=\"40\" y1=\"338\" x2=\"639\" y2=\"338\"/>\n",
       "<line opacity=\"0.1\" stroke=\"#000000\" stroke-width=\"1\" x1=\"40\" y1=\"332\" x2=\"639\" y2=\"332\"/>\n",
       "<line opacity=\"0.1\" stroke=\"#000000\" stroke-width=\"1\" x1=\"40\" y1=\"325\" x2=\"639\" y2=\"325\"/>\n",
       "<line opacity=\"0.1\" stroke=\"#000000\" stroke-width=\"1\" x1=\"40\" y1=\"318\" x2=\"639\" y2=\"318\"/>\n",
       "<line opacity=\"0.1\" stroke=\"#000000\" stroke-width=\"1\" x1=\"40\" y1=\"312\" x2=\"639\" y2=\"312\"/>\n",
       "<line opacity=\"0.1\" stroke=\"#000000\" stroke-width=\"1\" x1=\"40\" y1=\"305\" x2=\"639\" y2=\"305\"/>\n",
       "<line opacity=\"0.1\" stroke=\"#000000\" stroke-width=\"1\" x1=\"40\" y1=\"298\" x2=\"639\" y2=\"298\"/>\n",
       "<line opacity=\"0.1\" stroke=\"#000000\" stroke-width=\"1\" x1=\"40\" y1=\"291\" x2=\"639\" y2=\"291\"/>\n",
       "<line opacity=\"0.1\" stroke=\"#000000\" stroke-width=\"1\" x1=\"40\" y1=\"285\" x2=\"639\" y2=\"285\"/>\n",
       "<line opacity=\"0.1\" stroke=\"#000000\" stroke-width=\"1\" x1=\"40\" y1=\"278\" x2=\"639\" y2=\"278\"/>\n",
       "<line opacity=\"0.1\" stroke=\"#000000\" stroke-width=\"1\" x1=\"40\" y1=\"271\" x2=\"639\" y2=\"271\"/>\n",
       "<line opacity=\"0.1\" stroke=\"#000000\" stroke-width=\"1\" x1=\"40\" y1=\"264\" x2=\"639\" y2=\"264\"/>\n",
       "<line opacity=\"0.1\" stroke=\"#000000\" stroke-width=\"1\" x1=\"40\" y1=\"258\" x2=\"639\" y2=\"258\"/>\n",
       "<line opacity=\"0.1\" stroke=\"#000000\" stroke-width=\"1\" x1=\"40\" y1=\"251\" x2=\"639\" y2=\"251\"/>\n",
       "<line opacity=\"0.1\" stroke=\"#000000\" stroke-width=\"1\" x1=\"40\" y1=\"244\" x2=\"639\" y2=\"244\"/>\n",
       "<line opacity=\"0.1\" stroke=\"#000000\" stroke-width=\"1\" x1=\"40\" y1=\"237\" x2=\"639\" y2=\"237\"/>\n",
       "<line opacity=\"0.1\" stroke=\"#000000\" stroke-width=\"1\" x1=\"40\" y1=\"231\" x2=\"639\" y2=\"231\"/>\n",
       "<line opacity=\"0.1\" stroke=\"#000000\" stroke-width=\"1\" x1=\"40\" y1=\"224\" x2=\"639\" y2=\"224\"/>\n",
       "<line opacity=\"0.1\" stroke=\"#000000\" stroke-width=\"1\" x1=\"40\" y1=\"217\" x2=\"639\" y2=\"217\"/>\n",
       "<line opacity=\"0.1\" stroke=\"#000000\" stroke-width=\"1\" x1=\"40\" y1=\"211\" x2=\"639\" y2=\"211\"/>\n",
       "<line opacity=\"0.1\" stroke=\"#000000\" stroke-width=\"1\" x1=\"40\" y1=\"204\" x2=\"639\" y2=\"204\"/>\n",
       "<line opacity=\"0.1\" stroke=\"#000000\" stroke-width=\"1\" x1=\"40\" y1=\"197\" x2=\"639\" y2=\"197\"/>\n",
       "<line opacity=\"0.1\" stroke=\"#000000\" stroke-width=\"1\" x1=\"40\" y1=\"190\" x2=\"639\" y2=\"190\"/>\n",
       "<line opacity=\"0.1\" stroke=\"#000000\" stroke-width=\"1\" x1=\"40\" y1=\"184\" x2=\"639\" y2=\"184\"/>\n",
       "<line opacity=\"0.1\" stroke=\"#000000\" stroke-width=\"1\" x1=\"40\" y1=\"177\" x2=\"639\" y2=\"177\"/>\n",
       "<line opacity=\"0.1\" stroke=\"#000000\" stroke-width=\"1\" x1=\"40\" y1=\"170\" x2=\"639\" y2=\"170\"/>\n",
       "<line opacity=\"0.1\" stroke=\"#000000\" stroke-width=\"1\" x1=\"40\" y1=\"163\" x2=\"639\" y2=\"163\"/>\n",
       "<line opacity=\"0.1\" stroke=\"#000000\" stroke-width=\"1\" x1=\"40\" y1=\"157\" x2=\"639\" y2=\"157\"/>\n",
       "<line opacity=\"0.1\" stroke=\"#000000\" stroke-width=\"1\" x1=\"40\" y1=\"150\" x2=\"639\" y2=\"150\"/>\n",
       "<line opacity=\"0.1\" stroke=\"#000000\" stroke-width=\"1\" x1=\"40\" y1=\"143\" x2=\"639\" y2=\"143\"/>\n",
       "<line opacity=\"0.1\" stroke=\"#000000\" stroke-width=\"1\" x1=\"40\" y1=\"136\" x2=\"639\" y2=\"136\"/>\n",
       "<line opacity=\"0.1\" stroke=\"#000000\" stroke-width=\"1\" x1=\"40\" y1=\"130\" x2=\"639\" y2=\"130\"/>\n",
       "<line opacity=\"0.1\" stroke=\"#000000\" stroke-width=\"1\" x1=\"40\" y1=\"123\" x2=\"639\" y2=\"123\"/>\n",
       "<line opacity=\"0.1\" stroke=\"#000000\" stroke-width=\"1\" x1=\"40\" y1=\"116\" x2=\"639\" y2=\"116\"/>\n",
       "<line opacity=\"0.1\" stroke=\"#000000\" stroke-width=\"1\" x1=\"40\" y1=\"110\" x2=\"639\" y2=\"110\"/>\n",
       "<line opacity=\"0.1\" stroke=\"#000000\" stroke-width=\"1\" x1=\"40\" y1=\"103\" x2=\"639\" y2=\"103\"/>\n",
       "<line opacity=\"0.1\" stroke=\"#000000\" stroke-width=\"1\" x1=\"40\" y1=\"96\" x2=\"639\" y2=\"96\"/>\n",
       "<line opacity=\"0.1\" stroke=\"#000000\" stroke-width=\"1\" x1=\"40\" y1=\"89\" x2=\"639\" y2=\"89\"/>\n",
       "<line opacity=\"0.1\" stroke=\"#000000\" stroke-width=\"1\" x1=\"40\" y1=\"83\" x2=\"639\" y2=\"83\"/>\n",
       "<line opacity=\"0.1\" stroke=\"#000000\" stroke-width=\"1\" x1=\"40\" y1=\"76\" x2=\"639\" y2=\"76\"/>\n",
       "<line opacity=\"0.1\" stroke=\"#000000\" stroke-width=\"1\" x1=\"40\" y1=\"69\" x2=\"639\" y2=\"69\"/>\n",
       "<line opacity=\"0.1\" stroke=\"#000000\" stroke-width=\"1\" x1=\"40\" y1=\"62\" x2=\"639\" y2=\"62\"/>\n",
       "<line opacity=\"0.1\" stroke=\"#000000\" stroke-width=\"1\" x1=\"40\" y1=\"56\" x2=\"639\" y2=\"56\"/>\n",
       "<line opacity=\"0.1\" stroke=\"#000000\" stroke-width=\"1\" x1=\"40\" y1=\"49\" x2=\"639\" y2=\"49\"/>\n",
       "<line opacity=\"0.1\" stroke=\"#000000\" stroke-width=\"1\" x1=\"40\" y1=\"42\" x2=\"639\" y2=\"42\"/>\n",
       "<line opacity=\"0.1\" stroke=\"#000000\" stroke-width=\"1\" x1=\"40\" y1=\"35\" x2=\"639\" y2=\"35\"/>\n",
       "<text x=\"0\" y=\"237\" dy=\"0.76em\" text-anchor=\"middle\" font-family=\"sans-serif\" font-size=\"9.67741935483871\" opacity=\"1\" fill=\"#000000\" transform=\"rotate(270, 0, 237)\">\n",
       "Sepal Width (cm)\n",
       "</text>\n",
       "<text x=\"340\" y=\"480\" dy=\"-0.5ex\" text-anchor=\"middle\" font-family=\"sans-serif\" font-size=\"9.67741935483871\" opacity=\"1\" fill=\"#000000\">\n",
       "Sepal Length (cm)\n",
       "</text>\n",
       "<line opacity=\"0.2\" stroke=\"#000000\" stroke-width=\"1\" x1=\"40\" y1=\"439\" x2=\"40\" y2=\"35\"/>\n",
       "<line opacity=\"0.2\" stroke=\"#000000\" stroke-width=\"1\" x1=\"114\" y1=\"439\" x2=\"114\" y2=\"35\"/>\n",
       "<line opacity=\"0.2\" stroke=\"#000000\" stroke-width=\"1\" x1=\"189\" y1=\"439\" x2=\"189\" y2=\"35\"/>\n",
       "<line opacity=\"0.2\" stroke=\"#000000\" stroke-width=\"1\" x1=\"264\" y1=\"439\" x2=\"264\" y2=\"35\"/>\n",
       "<line opacity=\"0.2\" stroke=\"#000000\" stroke-width=\"1\" x1=\"339\" y1=\"439\" x2=\"339\" y2=\"35\"/>\n",
       "<line opacity=\"0.2\" stroke=\"#000000\" stroke-width=\"1\" x1=\"414\" y1=\"439\" x2=\"414\" y2=\"35\"/>\n",
       "<line opacity=\"0.2\" stroke=\"#000000\" stroke-width=\"1\" x1=\"489\" y1=\"439\" x2=\"489\" y2=\"35\"/>\n",
       "<line opacity=\"0.2\" stroke=\"#000000\" stroke-width=\"1\" x1=\"564\" y1=\"439\" x2=\"564\" y2=\"35\"/>\n",
       "<line opacity=\"0.2\" stroke=\"#000000\" stroke-width=\"1\" x1=\"639\" y1=\"439\" x2=\"639\" y2=\"35\"/>\n",
       "<line opacity=\"0.2\" stroke=\"#000000\" stroke-width=\"1\" x1=\"40\" y1=\"439\" x2=\"639\" y2=\"439\"/>\n",
       "<line opacity=\"0.2\" stroke=\"#000000\" stroke-width=\"1\" x1=\"40\" y1=\"372\" x2=\"639\" y2=\"372\"/>\n",
       "<line opacity=\"0.2\" stroke=\"#000000\" stroke-width=\"1\" x1=\"40\" y1=\"305\" x2=\"639\" y2=\"305\"/>\n",
       "<line opacity=\"0.2\" stroke=\"#000000\" stroke-width=\"1\" x1=\"40\" y1=\"237\" x2=\"639\" y2=\"237\"/>\n",
       "<line opacity=\"0.2\" stroke=\"#000000\" stroke-width=\"1\" x1=\"40\" y1=\"170\" x2=\"639\" y2=\"170\"/>\n",
       "<line opacity=\"0.2\" stroke=\"#000000\" stroke-width=\"1\" x1=\"40\" y1=\"103\" x2=\"639\" y2=\"103\"/>\n",
       "<line opacity=\"0.2\" stroke=\"#000000\" stroke-width=\"1\" x1=\"40\" y1=\"35\" x2=\"639\" y2=\"35\"/>\n",
       "<polyline fill=\"none\" opacity=\"1\" stroke=\"#000000\" stroke-width=\"1\" points=\"39,35 39,439 \"/>\n",
       "<text x=\"30\" y=\"439\" dy=\"0.5ex\" text-anchor=\"end\" font-family=\"sans-serif\" font-size=\"9.67741935483871\" opacity=\"1\" fill=\"#000000\">\n",
       "3.0\n",
       "</text>\n",
       "<polyline fill=\"none\" opacity=\"1\" stroke=\"#000000\" stroke-width=\"1\" points=\"34,439 39,439 \"/>\n",
       "<text x=\"30\" y=\"372\" dy=\"0.5ex\" text-anchor=\"end\" font-family=\"sans-serif\" font-size=\"9.67741935483871\" opacity=\"1\" fill=\"#000000\">\n",
       "4.0\n",
       "</text>\n",
       "<polyline fill=\"none\" opacity=\"1\" stroke=\"#000000\" stroke-width=\"1\" points=\"34,372 39,372 \"/>\n",
       "<text x=\"30\" y=\"305\" dy=\"0.5ex\" text-anchor=\"end\" font-family=\"sans-serif\" font-size=\"9.67741935483871\" opacity=\"1\" fill=\"#000000\">\n",
       "5.0\n",
       "</text>\n",
       "<polyline fill=\"none\" opacity=\"1\" stroke=\"#000000\" stroke-width=\"1\" points=\"34,305 39,305 \"/>\n",
       "<text x=\"30\" y=\"237\" dy=\"0.5ex\" text-anchor=\"end\" font-family=\"sans-serif\" font-size=\"9.67741935483871\" opacity=\"1\" fill=\"#000000\">\n",
       "6.0\n",
       "</text>\n",
       "<polyline fill=\"none\" opacity=\"1\" stroke=\"#000000\" stroke-width=\"1\" points=\"34,237 39,237 \"/>\n",
       "<text x=\"30\" y=\"170\" dy=\"0.5ex\" text-anchor=\"end\" font-family=\"sans-serif\" font-size=\"9.67741935483871\" opacity=\"1\" fill=\"#000000\">\n",
       "7.0\n",
       "</text>\n",
       "<polyline fill=\"none\" opacity=\"1\" stroke=\"#000000\" stroke-width=\"1\" points=\"34,170 39,170 \"/>\n",
       "<text x=\"30\" y=\"103\" dy=\"0.5ex\" text-anchor=\"end\" font-family=\"sans-serif\" font-size=\"9.67741935483871\" opacity=\"1\" fill=\"#000000\">\n",
       "8.0\n",
       "</text>\n",
       "<polyline fill=\"none\" opacity=\"1\" stroke=\"#000000\" stroke-width=\"1\" points=\"34,103 39,103 \"/>\n",
       "<text x=\"30\" y=\"35\" dy=\"0.5ex\" text-anchor=\"end\" font-family=\"sans-serif\" font-size=\"9.67741935483871\" opacity=\"1\" fill=\"#000000\">\n",
       "9.0\n",
       "</text>\n",
       "<polyline fill=\"none\" opacity=\"1\" stroke=\"#000000\" stroke-width=\"1\" points=\"34,35 39,35 \"/>\n",
       "<polyline fill=\"none\" opacity=\"1\" stroke=\"#000000\" stroke-width=\"1\" points=\"40,440 639,440 \"/>\n",
       "<text x=\"40\" y=\"450\" dy=\"0.76em\" text-anchor=\"middle\" font-family=\"sans-serif\" font-size=\"9.67741935483871\" opacity=\"1\" fill=\"#000000\">\n",
       "1.0\n",
       "</text>\n",
       "<polyline fill=\"none\" opacity=\"1\" stroke=\"#000000\" stroke-width=\"1\" points=\"40,440 40,445 \"/>\n",
       "<text x=\"114\" y=\"450\" dy=\"0.76em\" text-anchor=\"middle\" font-family=\"sans-serif\" font-size=\"9.67741935483871\" opacity=\"1\" fill=\"#000000\">\n",
       "1.5\n",
       "</text>\n",
       "<polyline fill=\"none\" opacity=\"1\" stroke=\"#000000\" stroke-width=\"1\" points=\"114,440 114,445 \"/>\n",
       "<text x=\"189\" y=\"450\" dy=\"0.76em\" text-anchor=\"middle\" font-family=\"sans-serif\" font-size=\"9.67741935483871\" opacity=\"1\" fill=\"#000000\">\n",
       "2.0\n",
       "</text>\n",
       "<polyline fill=\"none\" opacity=\"1\" stroke=\"#000000\" stroke-width=\"1\" points=\"189,440 189,445 \"/>\n",
       "<text x=\"264\" y=\"450\" dy=\"0.76em\" text-anchor=\"middle\" font-family=\"sans-serif\" font-size=\"9.67741935483871\" opacity=\"1\" fill=\"#000000\">\n",
       "2.5\n",
       "</text>\n",
       "<polyline fill=\"none\" opacity=\"1\" stroke=\"#000000\" stroke-width=\"1\" points=\"264,440 264,445 \"/>\n",
       "<text x=\"339\" y=\"450\" dy=\"0.76em\" text-anchor=\"middle\" font-family=\"sans-serif\" font-size=\"9.67741935483871\" opacity=\"1\" fill=\"#000000\">\n",
       "3.0\n",
       "</text>\n",
       "<polyline fill=\"none\" opacity=\"1\" stroke=\"#000000\" stroke-width=\"1\" points=\"339,440 339,445 \"/>\n",
       "<text x=\"414\" y=\"450\" dy=\"0.76em\" text-anchor=\"middle\" font-family=\"sans-serif\" font-size=\"9.67741935483871\" opacity=\"1\" fill=\"#000000\">\n",
       "3.5\n",
       "</text>\n",
       "<polyline fill=\"none\" opacity=\"1\" stroke=\"#000000\" stroke-width=\"1\" points=\"414,440 414,445 \"/>\n",
       "<text x=\"489\" y=\"450\" dy=\"0.76em\" text-anchor=\"middle\" font-family=\"sans-serif\" font-size=\"9.67741935483871\" opacity=\"1\" fill=\"#000000\">\n",
       "4.0\n",
       "</text>\n",
       "<polyline fill=\"none\" opacity=\"1\" stroke=\"#000000\" stroke-width=\"1\" points=\"489,440 489,445 \"/>\n",
       "<text x=\"564\" y=\"450\" dy=\"0.76em\" text-anchor=\"middle\" font-family=\"sans-serif\" font-size=\"9.67741935483871\" opacity=\"1\" fill=\"#000000\">\n",
       "4.5\n",
       "</text>\n",
       "<polyline fill=\"none\" opacity=\"1\" stroke=\"#000000\" stroke-width=\"1\" points=\"564,440 564,445 \"/>\n",
       "<text x=\"639\" y=\"450\" dy=\"0.76em\" text-anchor=\"middle\" font-family=\"sans-serif\" font-size=\"9.67741935483871\" opacity=\"1\" fill=\"#000000\">\n",
       "5.0\n",
       "</text>\n",
       "<polyline fill=\"none\" opacity=\"1\" stroke=\"#000000\" stroke-width=\"1\" points=\"639,440 639,445 \"/>\n",
       "<circle cx=\"414\" cy=\"298\" r=\"3\" opacity=\"1\" fill=\"#0000FF\" stroke=\"none\" stroke-width=\"1\"/>\n",
       "<circle cx=\"339\" cy=\"312\" r=\"3\" opacity=\"1\" fill=\"#0000FF\" stroke=\"none\" stroke-width=\"1\"/>\n",
       "<circle cx=\"369\" cy=\"325\" r=\"3\" opacity=\"1\" fill=\"#0000FF\" stroke=\"none\" stroke-width=\"1\"/>\n",
       "<circle cx=\"354\" cy=\"332\" r=\"3\" opacity=\"1\" fill=\"#0000FF\" stroke=\"none\" stroke-width=\"1\"/>\n",
       "<circle cx=\"429\" cy=\"305\" r=\"3\" opacity=\"1\" fill=\"#0000FF\" stroke=\"none\" stroke-width=\"1\"/>\n",
       "<circle cx=\"474\" cy=\"278\" r=\"3\" opacity=\"1\" fill=\"#0000FF\" stroke=\"none\" stroke-width=\"1\"/>\n",
       "<circle cx=\"399\" cy=\"332\" r=\"3\" opacity=\"1\" fill=\"#0000FF\" stroke=\"none\" stroke-width=\"1\"/>\n",
       "<circle cx=\"399\" cy=\"305\" r=\"3\" opacity=\"1\" fill=\"#0000FF\" stroke=\"none\" stroke-width=\"1\"/>\n",
       "<circle cx=\"324\" cy=\"345\" r=\"3\" opacity=\"1\" fill=\"#0000FF\" stroke=\"none\" stroke-width=\"1\"/>\n",
       "<circle cx=\"354\" cy=\"312\" r=\"3\" opacity=\"1\" fill=\"#0000FF\" stroke=\"none\" stroke-width=\"1\"/>\n",
       "<circle cx=\"444\" cy=\"278\" r=\"3\" opacity=\"1\" fill=\"#0000FF\" stroke=\"none\" stroke-width=\"1\"/>\n",
       "<circle cx=\"399\" cy=\"318\" r=\"3\" opacity=\"1\" fill=\"#0000FF\" stroke=\"none\" stroke-width=\"1\"/>\n",
       "<circle cx=\"339\" cy=\"318\" r=\"3\" opacity=\"1\" fill=\"#0000FF\" stroke=\"none\" stroke-width=\"1\"/>\n",
       "<circle cx=\"339\" cy=\"352\" r=\"3\" opacity=\"1\" fill=\"#0000FF\" stroke=\"none\" stroke-width=\"1\"/>\n",
       "<circle cx=\"489\" cy=\"251\" r=\"3\" opacity=\"1\" fill=\"#0000FF\" stroke=\"none\" stroke-width=\"1\"/>\n",
       "<circle cx=\"549\" cy=\"258\" r=\"3\" opacity=\"1\" fill=\"#0000FF\" stroke=\"none\" stroke-width=\"1\"/>\n",
       "<circle cx=\"474\" cy=\"278\" r=\"3\" opacity=\"1\" fill=\"#0000FF\" stroke=\"none\" stroke-width=\"1\"/>\n",
       "<circle cx=\"414\" cy=\"298\" r=\"3\" opacity=\"1\" fill=\"#0000FF\" stroke=\"none\" stroke-width=\"1\"/>\n",
       "<circle cx=\"459\" cy=\"258\" r=\"3\" opacity=\"1\" fill=\"#0000FF\" stroke=\"none\" stroke-width=\"1\"/>\n",
       "<circle cx=\"459\" cy=\"298\" r=\"3\" opacity=\"1\" fill=\"#0000FF\" stroke=\"none\" stroke-width=\"1\"/>\n",
       "<circle cx=\"399\" cy=\"278\" r=\"3\" opacity=\"1\" fill=\"#0000FF\" stroke=\"none\" stroke-width=\"1\"/>\n",
       "<circle cx=\"444\" cy=\"298\" r=\"3\" opacity=\"1\" fill=\"#0000FF\" stroke=\"none\" stroke-width=\"1\"/>\n",
       "<circle cx=\"429\" cy=\"332\" r=\"3\" opacity=\"1\" fill=\"#0000FF\" stroke=\"none\" stroke-width=\"1\"/>\n",
       "<circle cx=\"384\" cy=\"298\" r=\"3\" opacity=\"1\" fill=\"#0000FF\" stroke=\"none\" stroke-width=\"1\"/>\n",
       "<circle cx=\"399\" cy=\"318\" r=\"3\" opacity=\"1\" fill=\"#0000FF\" stroke=\"none\" stroke-width=\"1\"/>\n",
       "<circle cx=\"339\" cy=\"305\" r=\"3\" opacity=\"1\" fill=\"#0000FF\" stroke=\"none\" stroke-width=\"1\"/>\n",
       "<circle cx=\"399\" cy=\"305\" r=\"3\" opacity=\"1\" fill=\"#0000FF\" stroke=\"none\" stroke-width=\"1\"/>\n",
       "<circle cx=\"414\" cy=\"291\" r=\"3\" opacity=\"1\" fill=\"#0000FF\" stroke=\"none\" stroke-width=\"1\"/>\n",
       "<circle cx=\"399\" cy=\"291\" r=\"3\" opacity=\"1\" fill=\"#0000FF\" stroke=\"none\" stroke-width=\"1\"/>\n",
       "<circle cx=\"369\" cy=\"325\" r=\"3\" opacity=\"1\" fill=\"#0000FF\" stroke=\"none\" stroke-width=\"1\"/>\n",
       "<circle cx=\"354\" cy=\"318\" r=\"3\" opacity=\"1\" fill=\"#0000FF\" stroke=\"none\" stroke-width=\"1\"/>\n",
       "<circle cx=\"399\" cy=\"278\" r=\"3\" opacity=\"1\" fill=\"#0000FF\" stroke=\"none\" stroke-width=\"1\"/>\n",
       "<circle cx=\"504\" cy=\"291\" r=\"3\" opacity=\"1\" fill=\"#0000FF\" stroke=\"none\" stroke-width=\"1\"/>\n",
       "<circle cx=\"519\" cy=\"271\" r=\"3\" opacity=\"1\" fill=\"#0000FF\" stroke=\"none\" stroke-width=\"1\"/>\n",
       "<circle cx=\"354\" cy=\"312\" r=\"3\" opacity=\"1\" fill=\"#0000FF\" stroke=\"none\" stroke-width=\"1\"/>\n",
       "<circle cx=\"369\" cy=\"305\" r=\"3\" opacity=\"1\" fill=\"#0000FF\" stroke=\"none\" stroke-width=\"1\"/>\n",
       "<circle cx=\"414\" cy=\"271\" r=\"3\" opacity=\"1\" fill=\"#0000FF\" stroke=\"none\" stroke-width=\"1\"/>\n",
       "<circle cx=\"354\" cy=\"312\" r=\"3\" opacity=\"1\" fill=\"#0000FF\" stroke=\"none\" stroke-width=\"1\"/>\n",
       "<circle cx=\"339\" cy=\"345\" r=\"3\" opacity=\"1\" fill=\"#0000FF\" stroke=\"none\" stroke-width=\"1\"/>\n",
       "<circle cx=\"399\" cy=\"298\" r=\"3\" opacity=\"1\" fill=\"#0000FF\" stroke=\"none\" stroke-width=\"1\"/>\n",
       "<circle cx=\"414\" cy=\"305\" r=\"3\" opacity=\"1\" fill=\"#0000FF\" stroke=\"none\" stroke-width=\"1\"/>\n",
       "<circle cx=\"234\" cy=\"338\" r=\"3\" opacity=\"1\" fill=\"#0000FF\" stroke=\"none\" stroke-width=\"1\"/>\n",
       "<circle cx=\"369\" cy=\"345\" r=\"3\" opacity=\"1\" fill=\"#0000FF\" stroke=\"none\" stroke-width=\"1\"/>\n",
       "<circle cx=\"414\" cy=\"305\" r=\"3\" opacity=\"1\" fill=\"#0000FF\" stroke=\"none\" stroke-width=\"1\"/>\n",
       "<circle cx=\"459\" cy=\"298\" r=\"3\" opacity=\"1\" fill=\"#0000FF\" stroke=\"none\" stroke-width=\"1\"/>\n",
       "<circle cx=\"339\" cy=\"318\" r=\"3\" opacity=\"1\" fill=\"#0000FF\" stroke=\"none\" stroke-width=\"1\"/>\n",
       "<circle cx=\"459\" cy=\"298\" r=\"3\" opacity=\"1\" fill=\"#0000FF\" stroke=\"none\" stroke-width=\"1\"/>\n",
       "<circle cx=\"369\" cy=\"332\" r=\"3\" opacity=\"1\" fill=\"#0000FF\" stroke=\"none\" stroke-width=\"1\"/>\n",
       "<circle cx=\"444\" cy=\"285\" r=\"3\" opacity=\"1\" fill=\"#0000FF\" stroke=\"none\" stroke-width=\"1\"/>\n",
       "<circle cx=\"384\" cy=\"305\" r=\"3\" opacity=\"1\" fill=\"#0000FF\" stroke=\"none\" stroke-width=\"1\"/>\n",
       "<circle cx=\"369\" cy=\"170\" r=\"3\" opacity=\"1\" fill=\"#0000FF\" stroke=\"none\" stroke-width=\"1\"/>\n",
       "<circle cx=\"369\" cy=\"211\" r=\"3\" opacity=\"1\" fill=\"#0000FF\" stroke=\"none\" stroke-width=\"1\"/>\n",
       "<circle cx=\"354\" cy=\"177\" r=\"3\" opacity=\"1\" fill=\"#0000FF\" stroke=\"none\" stroke-width=\"1\"/>\n",
       "<circle cx=\"234\" cy=\"271\" r=\"3\" opacity=\"1\" fill=\"#0000FF\" stroke=\"none\" stroke-width=\"1\"/>\n",
       "<circle cx=\"309\" cy=\"204\" r=\"3\" opacity=\"1\" fill=\"#0000FF\" stroke=\"none\" stroke-width=\"1\"/>\n",
       "<circle cx=\"309\" cy=\"258\" r=\"3\" opacity=\"1\" fill=\"#0000FF\" stroke=\"none\" stroke-width=\"1\"/>\n",
       "<circle cx=\"384\" cy=\"217\" r=\"3\" opacity=\"1\" fill=\"#0000FF\" stroke=\"none\" stroke-width=\"1\"/>\n",
       "<circle cx=\"249\" cy=\"312\" r=\"3\" opacity=\"1\" fill=\"#0000FF\" stroke=\"none\" stroke-width=\"1\"/>\n",
       "<circle cx=\"324\" cy=\"197\" r=\"3\" opacity=\"1\" fill=\"#0000FF\" stroke=\"none\" stroke-width=\"1\"/>\n",
       "<circle cx=\"294\" cy=\"291\" r=\"3\" opacity=\"1\" fill=\"#0000FF\" stroke=\"none\" stroke-width=\"1\"/>\n",
       "<circle cx=\"189\" cy=\"305\" r=\"3\" opacity=\"1\" fill=\"#0000FF\" stroke=\"none\" stroke-width=\"1\"/>\n",
       "<circle cx=\"339\" cy=\"244\" r=\"3\" opacity=\"1\" fill=\"#0000FF\" stroke=\"none\" stroke-width=\"1\"/>\n",
       "<circle cx=\"219\" cy=\"237\" r=\"3\" opacity=\"1\" fill=\"#0000FF\" stroke=\"none\" stroke-width=\"1\"/>\n",
       "<circle cx=\"324\" cy=\"231\" r=\"3\" opacity=\"1\" fill=\"#0000FF\" stroke=\"none\" stroke-width=\"1\"/>\n",
       "<circle cx=\"324\" cy=\"264\" r=\"3\" opacity=\"1\" fill=\"#0000FF\" stroke=\"none\" stroke-width=\"1\"/>\n",
       "<circle cx=\"354\" cy=\"190\" r=\"3\" opacity=\"1\" fill=\"#0000FF\" stroke=\"none\" stroke-width=\"1\"/>\n",
       "<circle cx=\"339\" cy=\"264\" r=\"3\" opacity=\"1\" fill=\"#0000FF\" stroke=\"none\" stroke-width=\"1\"/>\n",
       "<circle cx=\"294\" cy=\"251\" r=\"3\" opacity=\"1\" fill=\"#0000FF\" stroke=\"none\" stroke-width=\"1\"/>\n",
       "<circle cx=\"219\" cy=\"224\" r=\"3\" opacity=\"1\" fill=\"#0000FF\" stroke=\"none\" stroke-width=\"1\"/>\n",
       "<circle cx=\"264\" cy=\"264\" r=\"3\" opacity=\"1\" fill=\"#0000FF\" stroke=\"none\" stroke-width=\"1\"/>\n",
       "<circle cx=\"369\" cy=\"244\" r=\"3\" opacity=\"1\" fill=\"#0000FF\" stroke=\"none\" stroke-width=\"1\"/>\n",
       "<circle cx=\"309\" cy=\"231\" r=\"3\" opacity=\"1\" fill=\"#0000FF\" stroke=\"none\" stroke-width=\"1\"/>\n",
       "<circle cx=\"264\" cy=\"217\" r=\"3\" opacity=\"1\" fill=\"#0000FF\" stroke=\"none\" stroke-width=\"1\"/>\n",
       "<circle cx=\"309\" cy=\"231\" r=\"3\" opacity=\"1\" fill=\"#0000FF\" stroke=\"none\" stroke-width=\"1\"/>\n",
       "<circle cx=\"324\" cy=\"211\" r=\"3\" opacity=\"1\" fill=\"#0000FF\" stroke=\"none\" stroke-width=\"1\"/>\n",
       "<circle cx=\"339\" cy=\"197\" r=\"3\" opacity=\"1\" fill=\"#0000FF\" stroke=\"none\" stroke-width=\"1\"/>\n",
       "<circle cx=\"309\" cy=\"184\" r=\"3\" opacity=\"1\" fill=\"#0000FF\" stroke=\"none\" stroke-width=\"1\"/>\n",
       "<circle cx=\"339\" cy=\"190\" r=\"3\" opacity=\"1\" fill=\"#0000FF\" stroke=\"none\" stroke-width=\"1\"/>\n",
       "<circle cx=\"324\" cy=\"237\" r=\"3\" opacity=\"1\" fill=\"#0000FF\" stroke=\"none\" stroke-width=\"1\"/>\n",
       "<circle cx=\"279\" cy=\"258\" r=\"3\" opacity=\"1\" fill=\"#0000FF\" stroke=\"none\" stroke-width=\"1\"/>\n",
       "<circle cx=\"249\" cy=\"271\" r=\"3\" opacity=\"1\" fill=\"#0000FF\" stroke=\"none\" stroke-width=\"1\"/>\n",
       "<circle cx=\"249\" cy=\"271\" r=\"3\" opacity=\"1\" fill=\"#0000FF\" stroke=\"none\" stroke-width=\"1\"/>\n",
       "<circle cx=\"294\" cy=\"251\" r=\"3\" opacity=\"1\" fill=\"#0000FF\" stroke=\"none\" stroke-width=\"1\"/>\n",
       "<circle cx=\"294\" cy=\"237\" r=\"3\" opacity=\"1\" fill=\"#0000FF\" stroke=\"none\" stroke-width=\"1\"/>\n",
       "<circle cx=\"339\" cy=\"278\" r=\"3\" opacity=\"1\" fill=\"#0000FF\" stroke=\"none\" stroke-width=\"1\"/>\n",
       "<circle cx=\"399\" cy=\"237\" r=\"3\" opacity=\"1\" fill=\"#0000FF\" stroke=\"none\" stroke-width=\"1\"/>\n",
       "<circle cx=\"354\" cy=\"190\" r=\"3\" opacity=\"1\" fill=\"#0000FF\" stroke=\"none\" stroke-width=\"1\"/>\n",
       "<circle cx=\"234\" cy=\"217\" r=\"3\" opacity=\"1\" fill=\"#0000FF\" stroke=\"none\" stroke-width=\"1\"/>\n",
       "<circle cx=\"339\" cy=\"264\" r=\"3\" opacity=\"1\" fill=\"#0000FF\" stroke=\"none\" stroke-width=\"1\"/>\n",
       "<circle cx=\"264\" cy=\"271\" r=\"3\" opacity=\"1\" fill=\"#0000FF\" stroke=\"none\" stroke-width=\"1\"/>\n",
       "<circle cx=\"279\" cy=\"271\" r=\"3\" opacity=\"1\" fill=\"#0000FF\" stroke=\"none\" stroke-width=\"1\"/>\n",
       "<circle cx=\"339\" cy=\"231\" r=\"3\" opacity=\"1\" fill=\"#0000FF\" stroke=\"none\" stroke-width=\"1\"/>\n",
       "<circle cx=\"279\" cy=\"251\" r=\"3\" opacity=\"1\" fill=\"#0000FF\" stroke=\"none\" stroke-width=\"1\"/>\n",
       "<circle cx=\"234\" cy=\"305\" r=\"3\" opacity=\"1\" fill=\"#0000FF\" stroke=\"none\" stroke-width=\"1\"/>\n",
       "<circle cx=\"294\" cy=\"264\" r=\"3\" opacity=\"1\" fill=\"#0000FF\" stroke=\"none\" stroke-width=\"1\"/>\n",
       "<circle cx=\"339\" cy=\"258\" r=\"3\" opacity=\"1\" fill=\"#0000FF\" stroke=\"none\" stroke-width=\"1\"/>\n",
       "<circle cx=\"324\" cy=\"258\" r=\"3\" opacity=\"1\" fill=\"#0000FF\" stroke=\"none\" stroke-width=\"1\"/>\n",
       "<circle cx=\"324\" cy=\"224\" r=\"3\" opacity=\"1\" fill=\"#0000FF\" stroke=\"none\" stroke-width=\"1\"/>\n",
       "<circle cx=\"264\" cy=\"298\" r=\"3\" opacity=\"1\" fill=\"#0000FF\" stroke=\"none\" stroke-width=\"1\"/>\n",
       "<circle cx=\"309\" cy=\"258\" r=\"3\" opacity=\"1\" fill=\"#0000FF\" stroke=\"none\" stroke-width=\"1\"/>\n",
       "<circle cx=\"384\" cy=\"217\" r=\"3\" opacity=\"1\" fill=\"#0000FF\" stroke=\"none\" stroke-width=\"1\"/>\n",
       "<circle cx=\"294\" cy=\"251\" r=\"3\" opacity=\"1\" fill=\"#0000FF\" stroke=\"none\" stroke-width=\"1\"/>\n",
       "<circle cx=\"339\" cy=\"163\" r=\"3\" opacity=\"1\" fill=\"#0000FF\" stroke=\"none\" stroke-width=\"1\"/>\n",
       "<circle cx=\"324\" cy=\"217\" r=\"3\" opacity=\"1\" fill=\"#0000FF\" stroke=\"none\" stroke-width=\"1\"/>\n",
       "<circle cx=\"339\" cy=\"204\" r=\"3\" opacity=\"1\" fill=\"#0000FF\" stroke=\"none\" stroke-width=\"1\"/>\n",
       "<circle cx=\"339\" cy=\"130\" r=\"3\" opacity=\"1\" fill=\"#0000FF\" stroke=\"none\" stroke-width=\"1\"/>\n",
       "<circle cx=\"264\" cy=\"312\" r=\"3\" opacity=\"1\" fill=\"#0000FF\" stroke=\"none\" stroke-width=\"1\"/>\n",
       "<circle cx=\"324\" cy=\"150\" r=\"3\" opacity=\"1\" fill=\"#0000FF\" stroke=\"none\" stroke-width=\"1\"/>\n",
       "<circle cx=\"264\" cy=\"190\" r=\"3\" opacity=\"1\" fill=\"#0000FF\" stroke=\"none\" stroke-width=\"1\"/>\n",
       "<circle cx=\"429\" cy=\"157\" r=\"3\" opacity=\"1\" fill=\"#0000FF\" stroke=\"none\" stroke-width=\"1\"/>\n",
       "<circle cx=\"369\" cy=\"204\" r=\"3\" opacity=\"1\" fill=\"#0000FF\" stroke=\"none\" stroke-width=\"1\"/>\n",
       "<circle cx=\"294\" cy=\"211\" r=\"3\" opacity=\"1\" fill=\"#0000FF\" stroke=\"none\" stroke-width=\"1\"/>\n",
       "<circle cx=\"339\" cy=\"184\" r=\"3\" opacity=\"1\" fill=\"#0000FF\" stroke=\"none\" stroke-width=\"1\"/>\n",
       "<circle cx=\"264\" cy=\"258\" r=\"3\" opacity=\"1\" fill=\"#0000FF\" stroke=\"none\" stroke-width=\"1\"/>\n",
       "<circle cx=\"309\" cy=\"251\" r=\"3\" opacity=\"1\" fill=\"#0000FF\" stroke=\"none\" stroke-width=\"1\"/>\n",
       "<circle cx=\"369\" cy=\"211\" r=\"3\" opacity=\"1\" fill=\"#0000FF\" stroke=\"none\" stroke-width=\"1\"/>\n",
       "<circle cx=\"339\" cy=\"204\" r=\"3\" opacity=\"1\" fill=\"#0000FF\" stroke=\"none\" stroke-width=\"1\"/>\n",
       "<circle cx=\"459\" cy=\"123\" r=\"3\" opacity=\"1\" fill=\"#0000FF\" stroke=\"none\" stroke-width=\"1\"/>\n",
       "<circle cx=\"279\" cy=\"123\" r=\"3\" opacity=\"1\" fill=\"#0000FF\" stroke=\"none\" stroke-width=\"1\"/>\n",
       "<circle cx=\"219\" cy=\"237\" r=\"3\" opacity=\"1\" fill=\"#0000FF\" stroke=\"none\" stroke-width=\"1\"/>\n",
       "<circle cx=\"369\" cy=\"177\" r=\"3\" opacity=\"1\" fill=\"#0000FF\" stroke=\"none\" stroke-width=\"1\"/>\n",
       "<circle cx=\"309\" cy=\"264\" r=\"3\" opacity=\"1\" fill=\"#0000FF\" stroke=\"none\" stroke-width=\"1\"/>\n",
       "<circle cx=\"309\" cy=\"123\" r=\"3\" opacity=\"1\" fill=\"#0000FF\" stroke=\"none\" stroke-width=\"1\"/>\n",
       "<circle cx=\"294\" cy=\"217\" r=\"3\" opacity=\"1\" fill=\"#0000FF\" stroke=\"none\" stroke-width=\"1\"/>\n",
       "<circle cx=\"384\" cy=\"190\" r=\"3\" opacity=\"1\" fill=\"#0000FF\" stroke=\"none\" stroke-width=\"1\"/>\n",
       "<circle cx=\"369\" cy=\"157\" r=\"3\" opacity=\"1\" fill=\"#0000FF\" stroke=\"none\" stroke-width=\"1\"/>\n",
       "<circle cx=\"309\" cy=\"224\" r=\"3\" opacity=\"1\" fill=\"#0000FF\" stroke=\"none\" stroke-width=\"1\"/>\n",
       "<circle cx=\"339\" cy=\"231\" r=\"3\" opacity=\"1\" fill=\"#0000FF\" stroke=\"none\" stroke-width=\"1\"/>\n",
       "<circle cx=\"309\" cy=\"211\" r=\"3\" opacity=\"1\" fill=\"#0000FF\" stroke=\"none\" stroke-width=\"1\"/>\n",
       "<circle cx=\"339\" cy=\"157\" r=\"3\" opacity=\"1\" fill=\"#0000FF\" stroke=\"none\" stroke-width=\"1\"/>\n",
       "<circle cx=\"309\" cy=\"143\" r=\"3\" opacity=\"1\" fill=\"#0000FF\" stroke=\"none\" stroke-width=\"1\"/>\n",
       "<circle cx=\"459\" cy=\"110\" r=\"3\" opacity=\"1\" fill=\"#0000FF\" stroke=\"none\" stroke-width=\"1\"/>\n",
       "<circle cx=\"309\" cy=\"211\" r=\"3\" opacity=\"1\" fill=\"#0000FF\" stroke=\"none\" stroke-width=\"1\"/>\n",
       "<circle cx=\"309\" cy=\"217\" r=\"3\" opacity=\"1\" fill=\"#0000FF\" stroke=\"none\" stroke-width=\"1\"/>\n",
       "<circle cx=\"279\" cy=\"231\" r=\"3\" opacity=\"1\" fill=\"#0000FF\" stroke=\"none\" stroke-width=\"1\"/>\n",
       "<circle cx=\"339\" cy=\"123\" r=\"3\" opacity=\"1\" fill=\"#0000FF\" stroke=\"none\" stroke-width=\"1\"/>\n",
       "<circle cx=\"399\" cy=\"217\" r=\"3\" opacity=\"1\" fill=\"#0000FF\" stroke=\"none\" stroke-width=\"1\"/>\n",
       "<circle cx=\"354\" cy=\"211\" r=\"3\" opacity=\"1\" fill=\"#0000FF\" stroke=\"none\" stroke-width=\"1\"/>\n",
       "<circle cx=\"339\" cy=\"237\" r=\"3\" opacity=\"1\" fill=\"#0000FF\" stroke=\"none\" stroke-width=\"1\"/>\n",
       "<circle cx=\"354\" cy=\"177\" r=\"3\" opacity=\"1\" fill=\"#0000FF\" stroke=\"none\" stroke-width=\"1\"/>\n",
       "<circle cx=\"354\" cy=\"190\" r=\"3\" opacity=\"1\" fill=\"#0000FF\" stroke=\"none\" stroke-width=\"1\"/>\n",
       "<circle cx=\"354\" cy=\"177\" r=\"3\" opacity=\"1\" fill=\"#0000FF\" stroke=\"none\" stroke-width=\"1\"/>\n",
       "<circle cx=\"294\" cy=\"251\" r=\"3\" opacity=\"1\" fill=\"#0000FF\" stroke=\"none\" stroke-width=\"1\"/>\n",
       "<circle cx=\"369\" cy=\"184\" r=\"3\" opacity=\"1\" fill=\"#0000FF\" stroke=\"none\" stroke-width=\"1\"/>\n",
       "<circle cx=\"384\" cy=\"190\" r=\"3\" opacity=\"1\" fill=\"#0000FF\" stroke=\"none\" stroke-width=\"1\"/>\n",
       "<circle cx=\"339\" cy=\"190\" r=\"3\" opacity=\"1\" fill=\"#0000FF\" stroke=\"none\" stroke-width=\"1\"/>\n",
       "<circle cx=\"264\" cy=\"217\" r=\"3\" opacity=\"1\" fill=\"#0000FF\" stroke=\"none\" stroke-width=\"1\"/>\n",
       "<circle cx=\"339\" cy=\"204\" r=\"3\" opacity=\"1\" fill=\"#0000FF\" stroke=\"none\" stroke-width=\"1\"/>\n",
       "<circle cx=\"399\" cy=\"224\" r=\"3\" opacity=\"1\" fill=\"#0000FF\" stroke=\"none\" stroke-width=\"1\"/>\n",
       "<circle cx=\"339\" cy=\"244\" r=\"3\" opacity=\"1\" fill=\"#0000FF\" stroke=\"none\" stroke-width=\"1\"/>\n",
       "</svg>\n",
       "</div>"
      ]
     },
     "execution_count": 44,
     "metadata": {},
     "output_type": "execute_result"
    }
   ],
   "source": [
    "let sepal_samples:Vec<(f64,f64)> = {\n",
    "    let sepal_length_cm: DataFrame = iris_df.select(vec![\"SepalLengthCm\"]).unwrap();\n",
    "    let mut sepal_length = sepal_length_cm.to_ndarray::<Float64Type>(IndexOrder::Fortran).unwrap().into_raw_vec().into_iter();\n",
    "    let sepal_width_cm: DataFrame = iris_df.select(vec![\"SepalWidthCm\"]).unwrap();\n",
    "    let mut sepal_width = sepal_width_cm.to_ndarray::<Float64Type>(IndexOrder::Fortran).unwrap().into_raw_vec().into_iter();\n",
    "    sepal_width.zip(sepal_length).collect()\n",
    "};\n",
    "\n",
    "evcxr_figure((640, 480), |root| {\n",
    "    let mut chart = ChartBuilder::on(&root)\n",
    "        .caption(\"Iris Dataset\", (\"Arial\", 30).into_font())\n",
    "        .x_label_area_size(40)\n",
    "        .y_label_area_size(40)\n",
    "        .build_cartesian_2d(1f64..5f64, 3f64..9f64)?;\n",
    "    \n",
    "    chart.configure_mesh()\n",
    "        .x_desc(\"Sepal Length (cm)\")\n",
    "        .y_desc(\"Sepal Width (cm)\")\n",
    "        .draw()?;\n",
    "    \n",
    "    chart.draw_series(sepal_samples.iter().map(|(x, y)| Circle::new((*x,*y), 3, BLUE.filled())));\n",
    "\n",
    "    Ok(())\n",
    "}).style(\"width:60%\")"
   ]
  },
  {
   "cell_type": "markdown",
   "id": "9182ebce",
   "metadata": {},
   "source": [
    "### Petal"
   ]
  },
  {
   "cell_type": "code",
   "execution_count": 45,
   "id": "b2d5f0b1",
   "metadata": {},
   "outputs": [
    {
     "data": {
      "text/html": [
       "<div style=\"width:60%\"><svg width=\"640\" height=\"480\" viewBox=\"0 0 640 480\" xmlns=\"http://www.w3.org/2000/svg\">\n",
       "<text x=\"320\" y=\"5\" dy=\"0.76em\" text-anchor=\"middle\" font-family=\"Arial\" font-size=\"24.193548387096776\" opacity=\"1\" fill=\"#000000\">\n",
       "Iris Dataset\n",
       "</text>\n",
       "<line opacity=\"0.1\" stroke=\"#000000\" stroke-width=\"1\" x1=\"40\" y1=\"439\" x2=\"40\" y2=\"35\"/>\n",
       "<line opacity=\"0.1\" stroke=\"#000000\" stroke-width=\"1\" x1=\"49\" y1=\"439\" x2=\"49\" y2=\"35\"/>\n",
       "<line opacity=\"0.1\" stroke=\"#000000\" stroke-width=\"1\" x1=\"59\" y1=\"439\" x2=\"59\" y2=\"35\"/>\n",
       "<line opacity=\"0.1\" stroke=\"#000000\" stroke-width=\"1\" x1=\"69\" y1=\"439\" x2=\"69\" y2=\"35\"/>\n",
       "<line opacity=\"0.1\" stroke=\"#000000\" stroke-width=\"1\" x1=\"79\" y1=\"439\" x2=\"79\" y2=\"35\"/>\n",
       "<line opacity=\"0.1\" stroke=\"#000000\" stroke-width=\"1\" x1=\"89\" y1=\"439\" x2=\"89\" y2=\"35\"/>\n",
       "<line opacity=\"0.1\" stroke=\"#000000\" stroke-width=\"1\" x1=\"99\" y1=\"439\" x2=\"99\" y2=\"35\"/>\n",
       "<line opacity=\"0.1\" stroke=\"#000000\" stroke-width=\"1\" x1=\"109\" y1=\"439\" x2=\"109\" y2=\"35\"/>\n",
       "<line opacity=\"0.1\" stroke=\"#000000\" stroke-width=\"1\" x1=\"119\" y1=\"439\" x2=\"119\" y2=\"35\"/>\n",
       "<line opacity=\"0.1\" stroke=\"#000000\" stroke-width=\"1\" x1=\"129\" y1=\"439\" x2=\"129\" y2=\"35\"/>\n",
       "<line opacity=\"0.1\" stroke=\"#000000\" stroke-width=\"1\" x1=\"139\" y1=\"439\" x2=\"139\" y2=\"35\"/>\n",
       "<line opacity=\"0.1\" stroke=\"#000000\" stroke-width=\"1\" x1=\"149\" y1=\"439\" x2=\"149\" y2=\"35\"/>\n",
       "<line opacity=\"0.1\" stroke=\"#000000\" stroke-width=\"1\" x1=\"159\" y1=\"439\" x2=\"159\" y2=\"35\"/>\n",
       "<line opacity=\"0.1\" stroke=\"#000000\" stroke-width=\"1\" x1=\"169\" y1=\"439\" x2=\"169\" y2=\"35\"/>\n",
       "<line opacity=\"0.1\" stroke=\"#000000\" stroke-width=\"1\" x1=\"179\" y1=\"439\" x2=\"179\" y2=\"35\"/>\n",
       "<line opacity=\"0.1\" stroke=\"#000000\" stroke-width=\"1\" x1=\"189\" y1=\"439\" x2=\"189\" y2=\"35\"/>\n",
       "<line opacity=\"0.1\" stroke=\"#000000\" stroke-width=\"1\" x1=\"199\" y1=\"439\" x2=\"199\" y2=\"35\"/>\n",
       "<line opacity=\"0.1\" stroke=\"#000000\" stroke-width=\"1\" x1=\"209\" y1=\"439\" x2=\"209\" y2=\"35\"/>\n",
       "<line opacity=\"0.1\" stroke=\"#000000\" stroke-width=\"1\" x1=\"219\" y1=\"439\" x2=\"219\" y2=\"35\"/>\n",
       "<line opacity=\"0.1\" stroke=\"#000000\" stroke-width=\"1\" x1=\"229\" y1=\"439\" x2=\"229\" y2=\"35\"/>\n",
       "<line opacity=\"0.1\" stroke=\"#000000\" stroke-width=\"1\" x1=\"239\" y1=\"439\" x2=\"239\" y2=\"35\"/>\n",
       "<line opacity=\"0.1\" stroke=\"#000000\" stroke-width=\"1\" x1=\"249\" y1=\"439\" x2=\"249\" y2=\"35\"/>\n",
       "<line opacity=\"0.1\" stroke=\"#000000\" stroke-width=\"1\" x1=\"259\" y1=\"439\" x2=\"259\" y2=\"35\"/>\n",
       "<line opacity=\"0.1\" stroke=\"#000000\" stroke-width=\"1\" x1=\"269\" y1=\"439\" x2=\"269\" y2=\"35\"/>\n",
       "<line opacity=\"0.1\" stroke=\"#000000\" stroke-width=\"1\" x1=\"279\" y1=\"439\" x2=\"279\" y2=\"35\"/>\n",
       "<line opacity=\"0.1\" stroke=\"#000000\" stroke-width=\"1\" x1=\"289\" y1=\"439\" x2=\"289\" y2=\"35\"/>\n",
       "<line opacity=\"0.1\" stroke=\"#000000\" stroke-width=\"1\" x1=\"299\" y1=\"439\" x2=\"299\" y2=\"35\"/>\n",
       "<line opacity=\"0.1\" stroke=\"#000000\" stroke-width=\"1\" x1=\"309\" y1=\"439\" x2=\"309\" y2=\"35\"/>\n",
       "<line opacity=\"0.1\" stroke=\"#000000\" stroke-width=\"1\" x1=\"319\" y1=\"439\" x2=\"319\" y2=\"35\"/>\n",
       "<line opacity=\"0.1\" stroke=\"#000000\" stroke-width=\"1\" x1=\"329\" y1=\"439\" x2=\"329\" y2=\"35\"/>\n",
       "<line opacity=\"0.1\" stroke=\"#000000\" stroke-width=\"1\" x1=\"339\" y1=\"439\" x2=\"339\" y2=\"35\"/>\n",
       "<line opacity=\"0.1\" stroke=\"#000000\" stroke-width=\"1\" x1=\"349\" y1=\"439\" x2=\"349\" y2=\"35\"/>\n",
       "<line opacity=\"0.1\" stroke=\"#000000\" stroke-width=\"1\" x1=\"359\" y1=\"439\" x2=\"359\" y2=\"35\"/>\n",
       "<line opacity=\"0.1\" stroke=\"#000000\" stroke-width=\"1\" x1=\"369\" y1=\"439\" x2=\"369\" y2=\"35\"/>\n",
       "<line opacity=\"0.1\" stroke=\"#000000\" stroke-width=\"1\" x1=\"379\" y1=\"439\" x2=\"379\" y2=\"35\"/>\n",
       "<line opacity=\"0.1\" stroke=\"#000000\" stroke-width=\"1\" x1=\"389\" y1=\"439\" x2=\"389\" y2=\"35\"/>\n",
       "<line opacity=\"0.1\" stroke=\"#000000\" stroke-width=\"1\" x1=\"399\" y1=\"439\" x2=\"399\" y2=\"35\"/>\n",
       "<line opacity=\"0.1\" stroke=\"#000000\" stroke-width=\"1\" x1=\"409\" y1=\"439\" x2=\"409\" y2=\"35\"/>\n",
       "<line opacity=\"0.1\" stroke=\"#000000\" stroke-width=\"1\" x1=\"419\" y1=\"439\" x2=\"419\" y2=\"35\"/>\n",
       "<line opacity=\"0.1\" stroke=\"#000000\" stroke-width=\"1\" x1=\"429\" y1=\"439\" x2=\"429\" y2=\"35\"/>\n",
       "<line opacity=\"0.1\" stroke=\"#000000\" stroke-width=\"1\" x1=\"439\" y1=\"439\" x2=\"439\" y2=\"35\"/>\n",
       "<line opacity=\"0.1\" stroke=\"#000000\" stroke-width=\"1\" x1=\"449\" y1=\"439\" x2=\"449\" y2=\"35\"/>\n",
       "<line opacity=\"0.1\" stroke=\"#000000\" stroke-width=\"1\" x1=\"459\" y1=\"439\" x2=\"459\" y2=\"35\"/>\n",
       "<line opacity=\"0.1\" stroke=\"#000000\" stroke-width=\"1\" x1=\"469\" y1=\"439\" x2=\"469\" y2=\"35\"/>\n",
       "<line opacity=\"0.1\" stroke=\"#000000\" stroke-width=\"1\" x1=\"479\" y1=\"439\" x2=\"479\" y2=\"35\"/>\n",
       "<line opacity=\"0.1\" stroke=\"#000000\" stroke-width=\"1\" x1=\"489\" y1=\"439\" x2=\"489\" y2=\"35\"/>\n",
       "<line opacity=\"0.1\" stroke=\"#000000\" stroke-width=\"1\" x1=\"499\" y1=\"439\" x2=\"499\" y2=\"35\"/>\n",
       "<line opacity=\"0.1\" stroke=\"#000000\" stroke-width=\"1\" x1=\"509\" y1=\"439\" x2=\"509\" y2=\"35\"/>\n",
       "<line opacity=\"0.1\" stroke=\"#000000\" stroke-width=\"1\" x1=\"519\" y1=\"439\" x2=\"519\" y2=\"35\"/>\n",
       "<line opacity=\"0.1\" stroke=\"#000000\" stroke-width=\"1\" x1=\"529\" y1=\"439\" x2=\"529\" y2=\"35\"/>\n",
       "<line opacity=\"0.1\" stroke=\"#000000\" stroke-width=\"1\" x1=\"539\" y1=\"439\" x2=\"539\" y2=\"35\"/>\n",
       "<line opacity=\"0.1\" stroke=\"#000000\" stroke-width=\"1\" x1=\"549\" y1=\"439\" x2=\"549\" y2=\"35\"/>\n",
       "<line opacity=\"0.1\" stroke=\"#000000\" stroke-width=\"1\" x1=\"559\" y1=\"439\" x2=\"559\" y2=\"35\"/>\n",
       "<line opacity=\"0.1\" stroke=\"#000000\" stroke-width=\"1\" x1=\"569\" y1=\"439\" x2=\"569\" y2=\"35\"/>\n",
       "<line opacity=\"0.1\" stroke=\"#000000\" stroke-width=\"1\" x1=\"579\" y1=\"439\" x2=\"579\" y2=\"35\"/>\n",
       "<line opacity=\"0.1\" stroke=\"#000000\" stroke-width=\"1\" x1=\"589\" y1=\"439\" x2=\"589\" y2=\"35\"/>\n",
       "<line opacity=\"0.1\" stroke=\"#000000\" stroke-width=\"1\" x1=\"599\" y1=\"439\" x2=\"599\" y2=\"35\"/>\n",
       "<line opacity=\"0.1\" stroke=\"#000000\" stroke-width=\"1\" x1=\"609\" y1=\"439\" x2=\"609\" y2=\"35\"/>\n",
       "<line opacity=\"0.1\" stroke=\"#000000\" stroke-width=\"1\" x1=\"619\" y1=\"439\" x2=\"619\" y2=\"35\"/>\n",
       "<line opacity=\"0.1\" stroke=\"#000000\" stroke-width=\"1\" x1=\"629\" y1=\"439\" x2=\"629\" y2=\"35\"/>\n",
       "<line opacity=\"0.1\" stroke=\"#000000\" stroke-width=\"1\" x1=\"639\" y1=\"439\" x2=\"639\" y2=\"35\"/>\n",
       "<line opacity=\"0.1\" stroke=\"#000000\" stroke-width=\"1\" x1=\"40\" y1=\"439\" x2=\"639\" y2=\"439\"/>\n",
       "<line opacity=\"0.1\" stroke=\"#000000\" stroke-width=\"1\" x1=\"40\" y1=\"434\" x2=\"639\" y2=\"434\"/>\n",
       "<line opacity=\"0.1\" stroke=\"#000000\" stroke-width=\"1\" x1=\"40\" y1=\"429\" x2=\"639\" y2=\"429\"/>\n",
       "<line opacity=\"0.1\" stroke=\"#000000\" stroke-width=\"1\" x1=\"40\" y1=\"424\" x2=\"639\" y2=\"424\"/>\n",
       "<line opacity=\"0.1\" stroke=\"#000000\" stroke-width=\"1\" x1=\"40\" y1=\"419\" x2=\"639\" y2=\"419\"/>\n",
       "<line opacity=\"0.1\" stroke=\"#000000\" stroke-width=\"1\" x1=\"40\" y1=\"414\" x2=\"639\" y2=\"414\"/>\n",
       "<line opacity=\"0.1\" stroke=\"#000000\" stroke-width=\"1\" x1=\"40\" y1=\"409\" x2=\"639\" y2=\"409\"/>\n",
       "<line opacity=\"0.1\" stroke=\"#000000\" stroke-width=\"1\" x1=\"40\" y1=\"404\" x2=\"639\" y2=\"404\"/>\n",
       "<line opacity=\"0.1\" stroke=\"#000000\" stroke-width=\"1\" x1=\"40\" y1=\"399\" x2=\"639\" y2=\"399\"/>\n",
       "<line opacity=\"0.1\" stroke=\"#000000\" stroke-width=\"1\" x1=\"40\" y1=\"394\" x2=\"639\" y2=\"394\"/>\n",
       "<line opacity=\"0.1\" stroke=\"#000000\" stroke-width=\"1\" x1=\"40\" y1=\"389\" x2=\"639\" y2=\"389\"/>\n",
       "<line opacity=\"0.1\" stroke=\"#000000\" stroke-width=\"1\" x1=\"40\" y1=\"384\" x2=\"639\" y2=\"384\"/>\n",
       "<line opacity=\"0.1\" stroke=\"#000000\" stroke-width=\"1\" x1=\"40\" y1=\"379\" x2=\"639\" y2=\"379\"/>\n",
       "<line opacity=\"0.1\" stroke=\"#000000\" stroke-width=\"1\" x1=\"40\" y1=\"374\" x2=\"639\" y2=\"374\"/>\n",
       "<line opacity=\"0.1\" stroke=\"#000000\" stroke-width=\"1\" x1=\"40\" y1=\"369\" x2=\"639\" y2=\"369\"/>\n",
       "<line opacity=\"0.1\" stroke=\"#000000\" stroke-width=\"1\" x1=\"40\" y1=\"364\" x2=\"639\" y2=\"364\"/>\n",
       "<line opacity=\"0.1\" stroke=\"#000000\" stroke-width=\"1\" x1=\"40\" y1=\"359\" x2=\"639\" y2=\"359\"/>\n",
       "<line opacity=\"0.1\" stroke=\"#000000\" stroke-width=\"1\" x1=\"40\" y1=\"354\" x2=\"639\" y2=\"354\"/>\n",
       "<line opacity=\"0.1\" stroke=\"#000000\" stroke-width=\"1\" x1=\"40\" y1=\"349\" x2=\"639\" y2=\"349\"/>\n",
       "<line opacity=\"0.1\" stroke=\"#000000\" stroke-width=\"1\" x1=\"40\" y1=\"344\" x2=\"639\" y2=\"344\"/>\n",
       "<line opacity=\"0.1\" stroke=\"#000000\" stroke-width=\"1\" x1=\"40\" y1=\"338\" x2=\"639\" y2=\"338\"/>\n",
       "<line opacity=\"0.1\" stroke=\"#000000\" stroke-width=\"1\" x1=\"40\" y1=\"333\" x2=\"639\" y2=\"333\"/>\n",
       "<line opacity=\"0.1\" stroke=\"#000000\" stroke-width=\"1\" x1=\"40\" y1=\"328\" x2=\"639\" y2=\"328\"/>\n",
       "<line opacity=\"0.1\" stroke=\"#000000\" stroke-width=\"1\" x1=\"40\" y1=\"323\" x2=\"639\" y2=\"323\"/>\n",
       "<line opacity=\"0.1\" stroke=\"#000000\" stroke-width=\"1\" x1=\"40\" y1=\"318\" x2=\"639\" y2=\"318\"/>\n",
       "<line opacity=\"0.1\" stroke=\"#000000\" stroke-width=\"1\" x1=\"40\" y1=\"313\" x2=\"639\" y2=\"313\"/>\n",
       "<line opacity=\"0.1\" stroke=\"#000000\" stroke-width=\"1\" x1=\"40\" y1=\"308\" x2=\"639\" y2=\"308\"/>\n",
       "<line opacity=\"0.1\" stroke=\"#000000\" stroke-width=\"1\" x1=\"40\" y1=\"303\" x2=\"639\" y2=\"303\"/>\n",
       "<line opacity=\"0.1\" stroke=\"#000000\" stroke-width=\"1\" x1=\"40\" y1=\"298\" x2=\"639\" y2=\"298\"/>\n",
       "<line opacity=\"0.1\" stroke=\"#000000\" stroke-width=\"1\" x1=\"40\" y1=\"293\" x2=\"639\" y2=\"293\"/>\n",
       "<line opacity=\"0.1\" stroke=\"#000000\" stroke-width=\"1\" x1=\"40\" y1=\"288\" x2=\"639\" y2=\"288\"/>\n",
       "<line opacity=\"0.1\" stroke=\"#000000\" stroke-width=\"1\" x1=\"40\" y1=\"283\" x2=\"639\" y2=\"283\"/>\n",
       "<line opacity=\"0.1\" stroke=\"#000000\" stroke-width=\"1\" x1=\"40\" y1=\"278\" x2=\"639\" y2=\"278\"/>\n",
       "<line opacity=\"0.1\" stroke=\"#000000\" stroke-width=\"1\" x1=\"40\" y1=\"273\" x2=\"639\" y2=\"273\"/>\n",
       "<line opacity=\"0.1\" stroke=\"#000000\" stroke-width=\"1\" x1=\"40\" y1=\"268\" x2=\"639\" y2=\"268\"/>\n",
       "<line opacity=\"0.1\" stroke=\"#000000\" stroke-width=\"1\" x1=\"40\" y1=\"263\" x2=\"639\" y2=\"263\"/>\n",
       "<line opacity=\"0.1\" stroke=\"#000000\" stroke-width=\"1\" x1=\"40\" y1=\"258\" x2=\"639\" y2=\"258\"/>\n",
       "<line opacity=\"0.1\" stroke=\"#000000\" stroke-width=\"1\" x1=\"40\" y1=\"253\" x2=\"639\" y2=\"253\"/>\n",
       "<line opacity=\"0.1\" stroke=\"#000000\" stroke-width=\"1\" x1=\"40\" y1=\"248\" x2=\"639\" y2=\"248\"/>\n",
       "<line opacity=\"0.1\" stroke=\"#000000\" stroke-width=\"1\" x1=\"40\" y1=\"243\" x2=\"639\" y2=\"243\"/>\n",
       "<line opacity=\"0.1\" stroke=\"#000000\" stroke-width=\"1\" x1=\"40\" y1=\"237\" x2=\"639\" y2=\"237\"/>\n",
       "<line opacity=\"0.1\" stroke=\"#000000\" stroke-width=\"1\" x1=\"40\" y1=\"232\" x2=\"639\" y2=\"232\"/>\n",
       "<line opacity=\"0.1\" stroke=\"#000000\" stroke-width=\"1\" x1=\"40\" y1=\"227\" x2=\"639\" y2=\"227\"/>\n",
       "<line opacity=\"0.1\" stroke=\"#000000\" stroke-width=\"1\" x1=\"40\" y1=\"222\" x2=\"639\" y2=\"222\"/>\n",
       "<line opacity=\"0.1\" stroke=\"#000000\" stroke-width=\"1\" x1=\"40\" y1=\"217\" x2=\"639\" y2=\"217\"/>\n",
       "<line opacity=\"0.1\" stroke=\"#000000\" stroke-width=\"1\" x1=\"40\" y1=\"212\" x2=\"639\" y2=\"212\"/>\n",
       "<line opacity=\"0.1\" stroke=\"#000000\" stroke-width=\"1\" x1=\"40\" y1=\"207\" x2=\"639\" y2=\"207\"/>\n",
       "<line opacity=\"0.1\" stroke=\"#000000\" stroke-width=\"1\" x1=\"40\" y1=\"202\" x2=\"639\" y2=\"202\"/>\n",
       "<line opacity=\"0.1\" stroke=\"#000000\" stroke-width=\"1\" x1=\"40\" y1=\"197\" x2=\"639\" y2=\"197\"/>\n",
       "<line opacity=\"0.1\" stroke=\"#000000\" stroke-width=\"1\" x1=\"40\" y1=\"192\" x2=\"639\" y2=\"192\"/>\n",
       "<line opacity=\"0.1\" stroke=\"#000000\" stroke-width=\"1\" x1=\"40\" y1=\"187\" x2=\"639\" y2=\"187\"/>\n",
       "<line opacity=\"0.1\" stroke=\"#000000\" stroke-width=\"1\" x1=\"40\" y1=\"182\" x2=\"639\" y2=\"182\"/>\n",
       "<line opacity=\"0.1\" stroke=\"#000000\" stroke-width=\"1\" x1=\"40\" y1=\"177\" x2=\"639\" y2=\"177\"/>\n",
       "<line opacity=\"0.1\" stroke=\"#000000\" stroke-width=\"1\" x1=\"40\" y1=\"172\" x2=\"639\" y2=\"172\"/>\n",
       "<line opacity=\"0.1\" stroke=\"#000000\" stroke-width=\"1\" x1=\"40\" y1=\"167\" x2=\"639\" y2=\"167\"/>\n",
       "<line opacity=\"0.1\" stroke=\"#000000\" stroke-width=\"1\" x1=\"40\" y1=\"162\" x2=\"639\" y2=\"162\"/>\n",
       "<line opacity=\"0.1\" stroke=\"#000000\" stroke-width=\"1\" x1=\"40\" y1=\"157\" x2=\"639\" y2=\"157\"/>\n",
       "<line opacity=\"0.1\" stroke=\"#000000\" stroke-width=\"1\" x1=\"40\" y1=\"152\" x2=\"639\" y2=\"152\"/>\n",
       "<line opacity=\"0.1\" stroke=\"#000000\" stroke-width=\"1\" x1=\"40\" y1=\"147\" x2=\"639\" y2=\"147\"/>\n",
       "<line opacity=\"0.1\" stroke=\"#000000\" stroke-width=\"1\" x1=\"40\" y1=\"142\" x2=\"639\" y2=\"142\"/>\n",
       "<line opacity=\"0.1\" stroke=\"#000000\" stroke-width=\"1\" x1=\"40\" y1=\"136\" x2=\"639\" y2=\"136\"/>\n",
       "<line opacity=\"0.1\" stroke=\"#000000\" stroke-width=\"1\" x1=\"40\" y1=\"131\" x2=\"639\" y2=\"131\"/>\n",
       "<line opacity=\"0.1\" stroke=\"#000000\" stroke-width=\"1\" x1=\"40\" y1=\"126\" x2=\"639\" y2=\"126\"/>\n",
       "<line opacity=\"0.1\" stroke=\"#000000\" stroke-width=\"1\" x1=\"40\" y1=\"121\" x2=\"639\" y2=\"121\"/>\n",
       "<line opacity=\"0.1\" stroke=\"#000000\" stroke-width=\"1\" x1=\"40\" y1=\"116\" x2=\"639\" y2=\"116\"/>\n",
       "<line opacity=\"0.1\" stroke=\"#000000\" stroke-width=\"1\" x1=\"40\" y1=\"111\" x2=\"639\" y2=\"111\"/>\n",
       "<line opacity=\"0.1\" stroke=\"#000000\" stroke-width=\"1\" x1=\"40\" y1=\"106\" x2=\"639\" y2=\"106\"/>\n",
       "<line opacity=\"0.1\" stroke=\"#000000\" stroke-width=\"1\" x1=\"40\" y1=\"101\" x2=\"639\" y2=\"101\"/>\n",
       "<line opacity=\"0.1\" stroke=\"#000000\" stroke-width=\"1\" x1=\"40\" y1=\"96\" x2=\"639\" y2=\"96\"/>\n",
       "<line opacity=\"0.1\" stroke=\"#000000\" stroke-width=\"1\" x1=\"40\" y1=\"91\" x2=\"639\" y2=\"91\"/>\n",
       "<line opacity=\"0.1\" stroke=\"#000000\" stroke-width=\"1\" x1=\"40\" y1=\"86\" x2=\"639\" y2=\"86\"/>\n",
       "<line opacity=\"0.1\" stroke=\"#000000\" stroke-width=\"1\" x1=\"40\" y1=\"81\" x2=\"639\" y2=\"81\"/>\n",
       "<line opacity=\"0.1\" stroke=\"#000000\" stroke-width=\"1\" x1=\"40\" y1=\"76\" x2=\"639\" y2=\"76\"/>\n",
       "<line opacity=\"0.1\" stroke=\"#000000\" stroke-width=\"1\" x1=\"40\" y1=\"71\" x2=\"639\" y2=\"71\"/>\n",
       "<line opacity=\"0.1\" stroke=\"#000000\" stroke-width=\"1\" x1=\"40\" y1=\"66\" x2=\"639\" y2=\"66\"/>\n",
       "<line opacity=\"0.1\" stroke=\"#000000\" stroke-width=\"1\" x1=\"40\" y1=\"61\" x2=\"639\" y2=\"61\"/>\n",
       "<line opacity=\"0.1\" stroke=\"#000000\" stroke-width=\"1\" x1=\"40\" y1=\"56\" x2=\"639\" y2=\"56\"/>\n",
       "<line opacity=\"0.1\" stroke=\"#000000\" stroke-width=\"1\" x1=\"40\" y1=\"51\" x2=\"639\" y2=\"51\"/>\n",
       "<line opacity=\"0.1\" stroke=\"#000000\" stroke-width=\"1\" x1=\"40\" y1=\"46\" x2=\"639\" y2=\"46\"/>\n",
       "<line opacity=\"0.1\" stroke=\"#000000\" stroke-width=\"1\" x1=\"40\" y1=\"41\" x2=\"639\" y2=\"41\"/>\n",
       "<line opacity=\"0.1\" stroke=\"#000000\" stroke-width=\"1\" x1=\"40\" y1=\"35\" x2=\"639\" y2=\"35\"/>\n",
       "<text x=\"0\" y=\"237\" dy=\"0.76em\" text-anchor=\"middle\" font-family=\"sans-serif\" font-size=\"9.67741935483871\" opacity=\"1\" fill=\"#000000\" transform=\"rotate(270, 0, 237)\">\n",
       "Petal Width (cm)\n",
       "</text>\n",
       "<text x=\"340\" y=\"480\" dy=\"-0.5ex\" text-anchor=\"middle\" font-family=\"sans-serif\" font-size=\"9.67741935483871\" opacity=\"1\" fill=\"#000000\">\n",
       "Petal Length (cm)\n",
       "</text>\n",
       "<line opacity=\"0.2\" stroke=\"#000000\" stroke-width=\"1\" x1=\"40\" y1=\"439\" x2=\"40\" y2=\"35\"/>\n",
       "<line opacity=\"0.2\" stroke=\"#000000\" stroke-width=\"1\" x1=\"139\" y1=\"439\" x2=\"139\" y2=\"35\"/>\n",
       "<line opacity=\"0.2\" stroke=\"#000000\" stroke-width=\"1\" x1=\"239\" y1=\"439\" x2=\"239\" y2=\"35\"/>\n",
       "<line opacity=\"0.2\" stroke=\"#000000\" stroke-width=\"1\" x1=\"339\" y1=\"439\" x2=\"339\" y2=\"35\"/>\n",
       "<line opacity=\"0.2\" stroke=\"#000000\" stroke-width=\"1\" x1=\"439\" y1=\"439\" x2=\"439\" y2=\"35\"/>\n",
       "<line opacity=\"0.2\" stroke=\"#000000\" stroke-width=\"1\" x1=\"539\" y1=\"439\" x2=\"539\" y2=\"35\"/>\n",
       "<line opacity=\"0.2\" stroke=\"#000000\" stroke-width=\"1\" x1=\"639\" y1=\"439\" x2=\"639\" y2=\"35\"/>\n",
       "<line opacity=\"0.2\" stroke=\"#000000\" stroke-width=\"1\" x1=\"40\" y1=\"439\" x2=\"639\" y2=\"439\"/>\n",
       "<line opacity=\"0.2\" stroke=\"#000000\" stroke-width=\"1\" x1=\"40\" y1=\"389\" x2=\"639\" y2=\"389\"/>\n",
       "<line opacity=\"0.2\" stroke=\"#000000\" stroke-width=\"1\" x1=\"40\" y1=\"338\" x2=\"639\" y2=\"338\"/>\n",
       "<line opacity=\"0.2\" stroke=\"#000000\" stroke-width=\"1\" x1=\"40\" y1=\"288\" x2=\"639\" y2=\"288\"/>\n",
       "<line opacity=\"0.2\" stroke=\"#000000\" stroke-width=\"1\" x1=\"40\" y1=\"237\" x2=\"639\" y2=\"237\"/>\n",
       "<line opacity=\"0.2\" stroke=\"#000000\" stroke-width=\"1\" x1=\"40\" y1=\"187\" x2=\"639\" y2=\"187\"/>\n",
       "<line opacity=\"0.2\" stroke=\"#000000\" stroke-width=\"1\" x1=\"40\" y1=\"136\" x2=\"639\" y2=\"136\"/>\n",
       "<line opacity=\"0.2\" stroke=\"#000000\" stroke-width=\"1\" x1=\"40\" y1=\"86\" x2=\"639\" y2=\"86\"/>\n",
       "<line opacity=\"0.2\" stroke=\"#000000\" stroke-width=\"1\" x1=\"40\" y1=\"35\" x2=\"639\" y2=\"35\"/>\n",
       "<polyline fill=\"none\" opacity=\"1\" stroke=\"#000000\" stroke-width=\"1\" points=\"39,35 39,439 \"/>\n",
       "<text x=\"30\" y=\"439\" dy=\"0.5ex\" text-anchor=\"end\" font-family=\"sans-serif\" font-size=\"9.67741935483871\" opacity=\"1\" fill=\"#000000\">\n",
       "0.0\n",
       "</text>\n",
       "<polyline fill=\"none\" opacity=\"1\" stroke=\"#000000\" stroke-width=\"1\" points=\"34,439 39,439 \"/>\n",
       "<text x=\"30\" y=\"389\" dy=\"0.5ex\" text-anchor=\"end\" font-family=\"sans-serif\" font-size=\"9.67741935483871\" opacity=\"1\" fill=\"#000000\">\n",
       "1.0\n",
       "</text>\n",
       "<polyline fill=\"none\" opacity=\"1\" stroke=\"#000000\" stroke-width=\"1\" points=\"34,389 39,389 \"/>\n",
       "<text x=\"30\" y=\"338\" dy=\"0.5ex\" text-anchor=\"end\" font-family=\"sans-serif\" font-size=\"9.67741935483871\" opacity=\"1\" fill=\"#000000\">\n",
       "2.0\n",
       "</text>\n",
       "<polyline fill=\"none\" opacity=\"1\" stroke=\"#000000\" stroke-width=\"1\" points=\"34,338 39,338 \"/>\n",
       "<text x=\"30\" y=\"288\" dy=\"0.5ex\" text-anchor=\"end\" font-family=\"sans-serif\" font-size=\"9.67741935483871\" opacity=\"1\" fill=\"#000000\">\n",
       "3.0\n",
       "</text>\n",
       "<polyline fill=\"none\" opacity=\"1\" stroke=\"#000000\" stroke-width=\"1\" points=\"34,288 39,288 \"/>\n",
       "<text x=\"30\" y=\"237\" dy=\"0.5ex\" text-anchor=\"end\" font-family=\"sans-serif\" font-size=\"9.67741935483871\" opacity=\"1\" fill=\"#000000\">\n",
       "4.0\n",
       "</text>\n",
       "<polyline fill=\"none\" opacity=\"1\" stroke=\"#000000\" stroke-width=\"1\" points=\"34,237 39,237 \"/>\n",
       "<text x=\"30\" y=\"187\" dy=\"0.5ex\" text-anchor=\"end\" font-family=\"sans-serif\" font-size=\"9.67741935483871\" opacity=\"1\" fill=\"#000000\">\n",
       "5.0\n",
       "</text>\n",
       "<polyline fill=\"none\" opacity=\"1\" stroke=\"#000000\" stroke-width=\"1\" points=\"34,187 39,187 \"/>\n",
       "<text x=\"30\" y=\"136\" dy=\"0.5ex\" text-anchor=\"end\" font-family=\"sans-serif\" font-size=\"9.67741935483871\" opacity=\"1\" fill=\"#000000\">\n",
       "6.0\n",
       "</text>\n",
       "<polyline fill=\"none\" opacity=\"1\" stroke=\"#000000\" stroke-width=\"1\" points=\"34,136 39,136 \"/>\n",
       "<text x=\"30\" y=\"86\" dy=\"0.5ex\" text-anchor=\"end\" font-family=\"sans-serif\" font-size=\"9.67741935483871\" opacity=\"1\" fill=\"#000000\">\n",
       "7.0\n",
       "</text>\n",
       "<polyline fill=\"none\" opacity=\"1\" stroke=\"#000000\" stroke-width=\"1\" points=\"34,86 39,86 \"/>\n",
       "<text x=\"30\" y=\"35\" dy=\"0.5ex\" text-anchor=\"end\" font-family=\"sans-serif\" font-size=\"9.67741935483871\" opacity=\"1\" fill=\"#000000\">\n",
       "8.0\n",
       "</text>\n",
       "<polyline fill=\"none\" opacity=\"1\" stroke=\"#000000\" stroke-width=\"1\" points=\"34,35 39,35 \"/>\n",
       "<polyline fill=\"none\" opacity=\"1\" stroke=\"#000000\" stroke-width=\"1\" points=\"40,440 639,440 \"/>\n",
       "<text x=\"40\" y=\"450\" dy=\"0.76em\" text-anchor=\"middle\" font-family=\"sans-serif\" font-size=\"9.67741935483871\" opacity=\"1\" fill=\"#000000\">\n",
       "0.0\n",
       "</text>\n",
       "<polyline fill=\"none\" opacity=\"1\" stroke=\"#000000\" stroke-width=\"1\" points=\"40,440 40,445 \"/>\n",
       "<text x=\"139\" y=\"450\" dy=\"0.76em\" text-anchor=\"middle\" font-family=\"sans-serif\" font-size=\"9.67741935483871\" opacity=\"1\" fill=\"#000000\">\n",
       "0.5\n",
       "</text>\n",
       "<polyline fill=\"none\" opacity=\"1\" stroke=\"#000000\" stroke-width=\"1\" points=\"139,440 139,445 \"/>\n",
       "<text x=\"239\" y=\"450\" dy=\"0.76em\" text-anchor=\"middle\" font-family=\"sans-serif\" font-size=\"9.67741935483871\" opacity=\"1\" fill=\"#000000\">\n",
       "1.0\n",
       "</text>\n",
       "<polyline fill=\"none\" opacity=\"1\" stroke=\"#000000\" stroke-width=\"1\" points=\"239,440 239,445 \"/>\n",
       "<text x=\"339\" y=\"450\" dy=\"0.76em\" text-anchor=\"middle\" font-family=\"sans-serif\" font-size=\"9.67741935483871\" opacity=\"1\" fill=\"#000000\">\n",
       "1.5\n",
       "</text>\n",
       "<polyline fill=\"none\" opacity=\"1\" stroke=\"#000000\" stroke-width=\"1\" points=\"339,440 339,445 \"/>\n",
       "<text x=\"439\" y=\"450\" dy=\"0.76em\" text-anchor=\"middle\" font-family=\"sans-serif\" font-size=\"9.67741935483871\" opacity=\"1\" fill=\"#000000\">\n",
       "2.0\n",
       "</text>\n",
       "<polyline fill=\"none\" opacity=\"1\" stroke=\"#000000\" stroke-width=\"1\" points=\"439,440 439,445 \"/>\n",
       "<text x=\"539\" y=\"450\" dy=\"0.76em\" text-anchor=\"middle\" font-family=\"sans-serif\" font-size=\"9.67741935483871\" opacity=\"1\" fill=\"#000000\">\n",
       "2.5\n",
       "</text>\n",
       "<polyline fill=\"none\" opacity=\"1\" stroke=\"#000000\" stroke-width=\"1\" points=\"539,440 539,445 \"/>\n",
       "<text x=\"639\" y=\"450\" dy=\"0.76em\" text-anchor=\"middle\" font-family=\"sans-serif\" font-size=\"9.67741935483871\" opacity=\"1\" fill=\"#000000\">\n",
       "3.0\n",
       "</text>\n",
       "<polyline fill=\"none\" opacity=\"1\" stroke=\"#000000\" stroke-width=\"1\" points=\"639,440 639,445 \"/>\n",
       "<circle cx=\"79\" cy=\"369\" r=\"3\" opacity=\"1\" fill=\"#00FF00\" stroke=\"none\" stroke-width=\"1\"/>\n",
       "<circle cx=\"79\" cy=\"369\" r=\"3\" opacity=\"1\" fill=\"#00FF00\" stroke=\"none\" stroke-width=\"1\"/>\n",
       "<circle cx=\"79\" cy=\"374\" r=\"3\" opacity=\"1\" fill=\"#00FF00\" stroke=\"none\" stroke-width=\"1\"/>\n",
       "<circle cx=\"79\" cy=\"364\" r=\"3\" opacity=\"1\" fill=\"#00FF00\" stroke=\"none\" stroke-width=\"1\"/>\n",
       "<circle cx=\"79\" cy=\"369\" r=\"3\" opacity=\"1\" fill=\"#00FF00\" stroke=\"none\" stroke-width=\"1\"/>\n",
       "<circle cx=\"119\" cy=\"354\" r=\"3\" opacity=\"1\" fill=\"#00FF00\" stroke=\"none\" stroke-width=\"1\"/>\n",
       "<circle cx=\"99\" cy=\"369\" r=\"3\" opacity=\"1\" fill=\"#00FF00\" stroke=\"none\" stroke-width=\"1\"/>\n",
       "<circle cx=\"79\" cy=\"364\" r=\"3\" opacity=\"1\" fill=\"#00FF00\" stroke=\"none\" stroke-width=\"1\"/>\n",
       "<circle cx=\"79\" cy=\"369\" r=\"3\" opacity=\"1\" fill=\"#00FF00\" stroke=\"none\" stroke-width=\"1\"/>\n",
       "<circle cx=\"59\" cy=\"364\" r=\"3\" opacity=\"1\" fill=\"#00FF00\" stroke=\"none\" stroke-width=\"1\"/>\n",
       "<circle cx=\"79\" cy=\"364\" r=\"3\" opacity=\"1\" fill=\"#00FF00\" stroke=\"none\" stroke-width=\"1\"/>\n",
       "<circle cx=\"79\" cy=\"359\" r=\"3\" opacity=\"1\" fill=\"#00FF00\" stroke=\"none\" stroke-width=\"1\"/>\n",
       "<circle cx=\"59\" cy=\"369\" r=\"3\" opacity=\"1\" fill=\"#00FF00\" stroke=\"none\" stroke-width=\"1\"/>\n",
       "<circle cx=\"59\" cy=\"384\" r=\"3\" opacity=\"1\" fill=\"#00FF00\" stroke=\"none\" stroke-width=\"1\"/>\n",
       "<circle cx=\"79\" cy=\"379\" r=\"3\" opacity=\"1\" fill=\"#00FF00\" stroke=\"none\" stroke-width=\"1\"/>\n",
       "<circle cx=\"119\" cy=\"364\" r=\"3\" opacity=\"1\" fill=\"#00FF00\" stroke=\"none\" stroke-width=\"1\"/>\n",
       "<circle cx=\"119\" cy=\"374\" r=\"3\" opacity=\"1\" fill=\"#00FF00\" stroke=\"none\" stroke-width=\"1\"/>\n",
       "<circle cx=\"99\" cy=\"369\" r=\"3\" opacity=\"1\" fill=\"#00FF00\" stroke=\"none\" stroke-width=\"1\"/>\n",
       "<circle cx=\"99\" cy=\"354\" r=\"3\" opacity=\"1\" fill=\"#00FF00\" stroke=\"none\" stroke-width=\"1\"/>\n",
       "<circle cx=\"99\" cy=\"364\" r=\"3\" opacity=\"1\" fill=\"#00FF00\" stroke=\"none\" stroke-width=\"1\"/>\n",
       "<circle cx=\"79\" cy=\"354\" r=\"3\" opacity=\"1\" fill=\"#00FF00\" stroke=\"none\" stroke-width=\"1\"/>\n",
       "<circle cx=\"119\" cy=\"364\" r=\"3\" opacity=\"1\" fill=\"#00FF00\" stroke=\"none\" stroke-width=\"1\"/>\n",
       "<circle cx=\"79\" cy=\"389\" r=\"3\" opacity=\"1\" fill=\"#00FF00\" stroke=\"none\" stroke-width=\"1\"/>\n",
       "<circle cx=\"139\" cy=\"354\" r=\"3\" opacity=\"1\" fill=\"#00FF00\" stroke=\"none\" stroke-width=\"1\"/>\n",
       "<circle cx=\"79\" cy=\"344\" r=\"3\" opacity=\"1\" fill=\"#00FF00\" stroke=\"none\" stroke-width=\"1\"/>\n",
       "<circle cx=\"79\" cy=\"359\" r=\"3\" opacity=\"1\" fill=\"#00FF00\" stroke=\"none\" stroke-width=\"1\"/>\n",
       "<circle cx=\"119\" cy=\"359\" r=\"3\" opacity=\"1\" fill=\"#00FF00\" stroke=\"none\" stroke-width=\"1\"/>\n",
       "<circle cx=\"79\" cy=\"364\" r=\"3\" opacity=\"1\" fill=\"#00FF00\" stroke=\"none\" stroke-width=\"1\"/>\n",
       "<circle cx=\"79\" cy=\"369\" r=\"3\" opacity=\"1\" fill=\"#00FF00\" stroke=\"none\" stroke-width=\"1\"/>\n",
       "<circle cx=\"79\" cy=\"359\" r=\"3\" opacity=\"1\" fill=\"#00FF00\" stroke=\"none\" stroke-width=\"1\"/>\n",
       "<circle cx=\"79\" cy=\"359\" r=\"3\" opacity=\"1\" fill=\"#00FF00\" stroke=\"none\" stroke-width=\"1\"/>\n",
       "<circle cx=\"119\" cy=\"364\" r=\"3\" opacity=\"1\" fill=\"#00FF00\" stroke=\"none\" stroke-width=\"1\"/>\n",
       "<circle cx=\"59\" cy=\"364\" r=\"3\" opacity=\"1\" fill=\"#00FF00\" stroke=\"none\" stroke-width=\"1\"/>\n",
       "<circle cx=\"79\" cy=\"369\" r=\"3\" opacity=\"1\" fill=\"#00FF00\" stroke=\"none\" stroke-width=\"1\"/>\n",
       "<circle cx=\"59\" cy=\"364\" r=\"3\" opacity=\"1\" fill=\"#00FF00\" stroke=\"none\" stroke-width=\"1\"/>\n",
       "<circle cx=\"79\" cy=\"379\" r=\"3\" opacity=\"1\" fill=\"#00FF00\" stroke=\"none\" stroke-width=\"1\"/>\n",
       "<circle cx=\"79\" cy=\"374\" r=\"3\" opacity=\"1\" fill=\"#00FF00\" stroke=\"none\" stroke-width=\"1\"/>\n",
       "<circle cx=\"59\" cy=\"364\" r=\"3\" opacity=\"1\" fill=\"#00FF00\" stroke=\"none\" stroke-width=\"1\"/>\n",
       "<circle cx=\"79\" cy=\"374\" r=\"3\" opacity=\"1\" fill=\"#00FF00\" stroke=\"none\" stroke-width=\"1\"/>\n",
       "<circle cx=\"79\" cy=\"364\" r=\"3\" opacity=\"1\" fill=\"#00FF00\" stroke=\"none\" stroke-width=\"1\"/>\n",
       "<circle cx=\"99\" cy=\"374\" r=\"3\" opacity=\"1\" fill=\"#00FF00\" stroke=\"none\" stroke-width=\"1\"/>\n",
       "<circle cx=\"99\" cy=\"374\" r=\"3\" opacity=\"1\" fill=\"#00FF00\" stroke=\"none\" stroke-width=\"1\"/>\n",
       "<circle cx=\"79\" cy=\"374\" r=\"3\" opacity=\"1\" fill=\"#00FF00\" stroke=\"none\" stroke-width=\"1\"/>\n",
       "<circle cx=\"159\" cy=\"359\" r=\"3\" opacity=\"1\" fill=\"#00FF00\" stroke=\"none\" stroke-width=\"1\"/>\n",
       "<circle cx=\"119\" cy=\"344\" r=\"3\" opacity=\"1\" fill=\"#00FF00\" stroke=\"none\" stroke-width=\"1\"/>\n",
       "<circle cx=\"99\" cy=\"369\" r=\"3\" opacity=\"1\" fill=\"#00FF00\" stroke=\"none\" stroke-width=\"1\"/>\n",
       "<circle cx=\"79\" cy=\"359\" r=\"3\" opacity=\"1\" fill=\"#00FF00\" stroke=\"none\" stroke-width=\"1\"/>\n",
       "<circle cx=\"79\" cy=\"369\" r=\"3\" opacity=\"1\" fill=\"#00FF00\" stroke=\"none\" stroke-width=\"1\"/>\n",
       "<circle cx=\"79\" cy=\"364\" r=\"3\" opacity=\"1\" fill=\"#00FF00\" stroke=\"none\" stroke-width=\"1\"/>\n",
       "<circle cx=\"79\" cy=\"369\" r=\"3\" opacity=\"1\" fill=\"#00FF00\" stroke=\"none\" stroke-width=\"1\"/>\n",
       "<circle cx=\"319\" cy=\"202\" r=\"3\" opacity=\"1\" fill=\"#00FF00\" stroke=\"none\" stroke-width=\"1\"/>\n",
       "<circle cx=\"339\" cy=\"212\" r=\"3\" opacity=\"1\" fill=\"#00FF00\" stroke=\"none\" stroke-width=\"1\"/>\n",
       "<circle cx=\"339\" cy=\"192\" r=\"3\" opacity=\"1\" fill=\"#00FF00\" stroke=\"none\" stroke-width=\"1\"/>\n",
       "<circle cx=\"299\" cy=\"237\" r=\"3\" opacity=\"1\" fill=\"#00FF00\" stroke=\"none\" stroke-width=\"1\"/>\n",
       "<circle cx=\"339\" cy=\"207\" r=\"3\" opacity=\"1\" fill=\"#00FF00\" stroke=\"none\" stroke-width=\"1\"/>\n",
       "<circle cx=\"299\" cy=\"212\" r=\"3\" opacity=\"1\" fill=\"#00FF00\" stroke=\"none\" stroke-width=\"1\"/>\n",
       "<circle cx=\"359\" cy=\"202\" r=\"3\" opacity=\"1\" fill=\"#00FF00\" stroke=\"none\" stroke-width=\"1\"/>\n",
       "<circle cx=\"239\" cy=\"273\" r=\"3\" opacity=\"1\" fill=\"#00FF00\" stroke=\"none\" stroke-width=\"1\"/>\n",
       "<circle cx=\"299\" cy=\"207\" r=\"3\" opacity=\"1\" fill=\"#00FF00\" stroke=\"none\" stroke-width=\"1\"/>\n",
       "<circle cx=\"319\" cy=\"243\" r=\"3\" opacity=\"1\" fill=\"#00FF00\" stroke=\"none\" stroke-width=\"1\"/>\n",
       "<circle cx=\"239\" cy=\"263\" r=\"3\" opacity=\"1\" fill=\"#00FF00\" stroke=\"none\" stroke-width=\"1\"/>\n",
       "<circle cx=\"339\" cy=\"227\" r=\"3\" opacity=\"1\" fill=\"#00FF00\" stroke=\"none\" stroke-width=\"1\"/>\n",
       "<circle cx=\"239\" cy=\"237\" r=\"3\" opacity=\"1\" fill=\"#00FF00\" stroke=\"none\" stroke-width=\"1\"/>\n",
       "<circle cx=\"319\" cy=\"202\" r=\"3\" opacity=\"1\" fill=\"#00FF00\" stroke=\"none\" stroke-width=\"1\"/>\n",
       "<circle cx=\"299\" cy=\"258\" r=\"3\" opacity=\"1\" fill=\"#00FF00\" stroke=\"none\" stroke-width=\"1\"/>\n",
       "<circle cx=\"319\" cy=\"217\" r=\"3\" opacity=\"1\" fill=\"#00FF00\" stroke=\"none\" stroke-width=\"1\"/>\n",
       "<circle cx=\"339\" cy=\"212\" r=\"3\" opacity=\"1\" fill=\"#00FF00\" stroke=\"none\" stroke-width=\"1\"/>\n",
       "<circle cx=\"239\" cy=\"232\" r=\"3\" opacity=\"1\" fill=\"#00FF00\" stroke=\"none\" stroke-width=\"1\"/>\n",
       "<circle cx=\"339\" cy=\"212\" r=\"3\" opacity=\"1\" fill=\"#00FF00\" stroke=\"none\" stroke-width=\"1\"/>\n",
       "<circle cx=\"259\" cy=\"243\" r=\"3\" opacity=\"1\" fill=\"#00FF00\" stroke=\"none\" stroke-width=\"1\"/>\n",
       "<circle cx=\"399\" cy=\"197\" r=\"3\" opacity=\"1\" fill=\"#00FF00\" stroke=\"none\" stroke-width=\"1\"/>\n",
       "<circle cx=\"299\" cy=\"237\" r=\"3\" opacity=\"1\" fill=\"#00FF00\" stroke=\"none\" stroke-width=\"1\"/>\n",
       "<circle cx=\"339\" cy=\"192\" r=\"3\" opacity=\"1\" fill=\"#00FF00\" stroke=\"none\" stroke-width=\"1\"/>\n",
       "<circle cx=\"279\" cy=\"202\" r=\"3\" opacity=\"1\" fill=\"#00FF00\" stroke=\"none\" stroke-width=\"1\"/>\n",
       "<circle cx=\"299\" cy=\"222\" r=\"3\" opacity=\"1\" fill=\"#00FF00\" stroke=\"none\" stroke-width=\"1\"/>\n",
       "<circle cx=\"319\" cy=\"217\" r=\"3\" opacity=\"1\" fill=\"#00FF00\" stroke=\"none\" stroke-width=\"1\"/>\n",
       "<circle cx=\"319\" cy=\"197\" r=\"3\" opacity=\"1\" fill=\"#00FF00\" stroke=\"none\" stroke-width=\"1\"/>\n",
       "<circle cx=\"379\" cy=\"187\" r=\"3\" opacity=\"1\" fill=\"#00FF00\" stroke=\"none\" stroke-width=\"1\"/>\n",
       "<circle cx=\"339\" cy=\"212\" r=\"3\" opacity=\"1\" fill=\"#00FF00\" stroke=\"none\" stroke-width=\"1\"/>\n",
       "<circle cx=\"239\" cy=\"263\" r=\"3\" opacity=\"1\" fill=\"#00FF00\" stroke=\"none\" stroke-width=\"1\"/>\n",
       "<circle cx=\"259\" cy=\"248\" r=\"3\" opacity=\"1\" fill=\"#00FF00\" stroke=\"none\" stroke-width=\"1\"/>\n",
       "<circle cx=\"239\" cy=\"253\" r=\"3\" opacity=\"1\" fill=\"#00FF00\" stroke=\"none\" stroke-width=\"1\"/>\n",
       "<circle cx=\"279\" cy=\"243\" r=\"3\" opacity=\"1\" fill=\"#00FF00\" stroke=\"none\" stroke-width=\"1\"/>\n",
       "<circle cx=\"359\" cy=\"182\" r=\"3\" opacity=\"1\" fill=\"#00FF00\" stroke=\"none\" stroke-width=\"1\"/>\n",
       "<circle cx=\"339\" cy=\"212\" r=\"3\" opacity=\"1\" fill=\"#00FF00\" stroke=\"none\" stroke-width=\"1\"/>\n",
       "<circle cx=\"359\" cy=\"212\" r=\"3\" opacity=\"1\" fill=\"#00FF00\" stroke=\"none\" stroke-width=\"1\"/>\n",
       "<circle cx=\"339\" cy=\"202\" r=\"3\" opacity=\"1\" fill=\"#00FF00\" stroke=\"none\" stroke-width=\"1\"/>\n",
       "<circle cx=\"299\" cy=\"217\" r=\"3\" opacity=\"1\" fill=\"#00FF00\" stroke=\"none\" stroke-width=\"1\"/>\n",
       "<circle cx=\"299\" cy=\"232\" r=\"3\" opacity=\"1\" fill=\"#00FF00\" stroke=\"none\" stroke-width=\"1\"/>\n",
       "<circle cx=\"299\" cy=\"237\" r=\"3\" opacity=\"1\" fill=\"#00FF00\" stroke=\"none\" stroke-width=\"1\"/>\n",
       "<circle cx=\"279\" cy=\"217\" r=\"3\" opacity=\"1\" fill=\"#00FF00\" stroke=\"none\" stroke-width=\"1\"/>\n",
       "<circle cx=\"319\" cy=\"207\" r=\"3\" opacity=\"1\" fill=\"#00FF00\" stroke=\"none\" stroke-width=\"1\"/>\n",
       "<circle cx=\"279\" cy=\"237\" r=\"3\" opacity=\"1\" fill=\"#00FF00\" stroke=\"none\" stroke-width=\"1\"/>\n",
       "<circle cx=\"239\" cy=\"273\" r=\"3\" opacity=\"1\" fill=\"#00FF00\" stroke=\"none\" stroke-width=\"1\"/>\n",
       "<circle cx=\"299\" cy=\"227\" r=\"3\" opacity=\"1\" fill=\"#00FF00\" stroke=\"none\" stroke-width=\"1\"/>\n",
       "<circle cx=\"279\" cy=\"227\" r=\"3\" opacity=\"1\" fill=\"#00FF00\" stroke=\"none\" stroke-width=\"1\"/>\n",
       "<circle cx=\"299\" cy=\"227\" r=\"3\" opacity=\"1\" fill=\"#00FF00\" stroke=\"none\" stroke-width=\"1\"/>\n",
       "<circle cx=\"299\" cy=\"222\" r=\"3\" opacity=\"1\" fill=\"#00FF00\" stroke=\"none\" stroke-width=\"1\"/>\n",
       "<circle cx=\"259\" cy=\"288\" r=\"3\" opacity=\"1\" fill=\"#00FF00\" stroke=\"none\" stroke-width=\"1\"/>\n",
       "<circle cx=\"299\" cy=\"232\" r=\"3\" opacity=\"1\" fill=\"#00FF00\" stroke=\"none\" stroke-width=\"1\"/>\n",
       "<circle cx=\"539\" cy=\"136\" r=\"3\" opacity=\"1\" fill=\"#00FF00\" stroke=\"none\" stroke-width=\"1\"/>\n",
       "<circle cx=\"419\" cy=\"182\" r=\"3\" opacity=\"1\" fill=\"#00FF00\" stroke=\"none\" stroke-width=\"1\"/>\n",
       "<circle cx=\"459\" cy=\"142\" r=\"3\" opacity=\"1\" fill=\"#00FF00\" stroke=\"none\" stroke-width=\"1\"/>\n",
       "<circle cx=\"399\" cy=\"157\" r=\"3\" opacity=\"1\" fill=\"#00FF00\" stroke=\"none\" stroke-width=\"1\"/>\n",
       "<circle cx=\"479\" cy=\"147\" r=\"3\" opacity=\"1\" fill=\"#00FF00\" stroke=\"none\" stroke-width=\"1\"/>\n",
       "<circle cx=\"459\" cy=\"106\" r=\"3\" opacity=\"1\" fill=\"#00FF00\" stroke=\"none\" stroke-width=\"1\"/>\n",
       "<circle cx=\"379\" cy=\"212\" r=\"3\" opacity=\"1\" fill=\"#00FF00\" stroke=\"none\" stroke-width=\"1\"/>\n",
       "<circle cx=\"399\" cy=\"121\" r=\"3\" opacity=\"1\" fill=\"#00FF00\" stroke=\"none\" stroke-width=\"1\"/>\n",
       "<circle cx=\"399\" cy=\"147\" r=\"3\" opacity=\"1\" fill=\"#00FF00\" stroke=\"none\" stroke-width=\"1\"/>\n",
       "<circle cx=\"539\" cy=\"131\" r=\"3\" opacity=\"1\" fill=\"#00FF00\" stroke=\"none\" stroke-width=\"1\"/>\n",
       "<circle cx=\"439\" cy=\"182\" r=\"3\" opacity=\"1\" fill=\"#00FF00\" stroke=\"none\" stroke-width=\"1\"/>\n",
       "<circle cx=\"419\" cy=\"172\" r=\"3\" opacity=\"1\" fill=\"#00FF00\" stroke=\"none\" stroke-width=\"1\"/>\n",
       "<circle cx=\"459\" cy=\"162\" r=\"3\" opacity=\"1\" fill=\"#00FF00\" stroke=\"none\" stroke-width=\"1\"/>\n",
       "<circle cx=\"439\" cy=\"187\" r=\"3\" opacity=\"1\" fill=\"#00FF00\" stroke=\"none\" stroke-width=\"1\"/>\n",
       "<circle cx=\"519\" cy=\"182\" r=\"3\" opacity=\"1\" fill=\"#00FF00\" stroke=\"none\" stroke-width=\"1\"/>\n",
       "<circle cx=\"499\" cy=\"172\" r=\"3\" opacity=\"1\" fill=\"#00FF00\" stroke=\"none\" stroke-width=\"1\"/>\n",
       "<circle cx=\"399\" cy=\"162\" r=\"3\" opacity=\"1\" fill=\"#00FF00\" stroke=\"none\" stroke-width=\"1\"/>\n",
       "<circle cx=\"479\" cy=\"101\" r=\"3\" opacity=\"1\" fill=\"#00FF00\" stroke=\"none\" stroke-width=\"1\"/>\n",
       "<circle cx=\"499\" cy=\"91\" r=\"3\" opacity=\"1\" fill=\"#00FF00\" stroke=\"none\" stroke-width=\"1\"/>\n",
       "<circle cx=\"339\" cy=\"187\" r=\"3\" opacity=\"1\" fill=\"#00FF00\" stroke=\"none\" stroke-width=\"1\"/>\n",
       "<circle cx=\"499\" cy=\"152\" r=\"3\" opacity=\"1\" fill=\"#00FF00\" stroke=\"none\" stroke-width=\"1\"/>\n",
       "<circle cx=\"439\" cy=\"192\" r=\"3\" opacity=\"1\" fill=\"#00FF00\" stroke=\"none\" stroke-width=\"1\"/>\n",
       "<circle cx=\"439\" cy=\"101\" r=\"3\" opacity=\"1\" fill=\"#00FF00\" stroke=\"none\" stroke-width=\"1\"/>\n",
       "<circle cx=\"399\" cy=\"192\" r=\"3\" opacity=\"1\" fill=\"#00FF00\" stroke=\"none\" stroke-width=\"1\"/>\n",
       "<circle cx=\"459\" cy=\"152\" r=\"3\" opacity=\"1\" fill=\"#00FF00\" stroke=\"none\" stroke-width=\"1\"/>\n",
       "<circle cx=\"399\" cy=\"136\" r=\"3\" opacity=\"1\" fill=\"#00FF00\" stroke=\"none\" stroke-width=\"1\"/>\n",
       "<circle cx=\"399\" cy=\"197\" r=\"3\" opacity=\"1\" fill=\"#00FF00\" stroke=\"none\" stroke-width=\"1\"/>\n",
       "<circle cx=\"399\" cy=\"192\" r=\"3\" opacity=\"1\" fill=\"#00FF00\" stroke=\"none\" stroke-width=\"1\"/>\n",
       "<circle cx=\"459\" cy=\"157\" r=\"3\" opacity=\"1\" fill=\"#00FF00\" stroke=\"none\" stroke-width=\"1\"/>\n",
       "<circle cx=\"359\" cy=\"147\" r=\"3\" opacity=\"1\" fill=\"#00FF00\" stroke=\"none\" stroke-width=\"1\"/>\n",
       "<circle cx=\"419\" cy=\"131\" r=\"3\" opacity=\"1\" fill=\"#00FF00\" stroke=\"none\" stroke-width=\"1\"/>\n",
       "<circle cx=\"439\" cy=\"116\" r=\"3\" opacity=\"1\" fill=\"#00FF00\" stroke=\"none\" stroke-width=\"1\"/>\n",
       "<circle cx=\"479\" cy=\"157\" r=\"3\" opacity=\"1\" fill=\"#00FF00\" stroke=\"none\" stroke-width=\"1\"/>\n",
       "<circle cx=\"339\" cy=\"182\" r=\"3\" opacity=\"1\" fill=\"#00FF00\" stroke=\"none\" stroke-width=\"1\"/>\n",
       "<circle cx=\"319\" cy=\"157\" r=\"3\" opacity=\"1\" fill=\"#00FF00\" stroke=\"none\" stroke-width=\"1\"/>\n",
       "<circle cx=\"499\" cy=\"131\" r=\"3\" opacity=\"1\" fill=\"#00FF00\" stroke=\"none\" stroke-width=\"1\"/>\n",
       "<circle cx=\"519\" cy=\"157\" r=\"3\" opacity=\"1\" fill=\"#00FF00\" stroke=\"none\" stroke-width=\"1\"/>\n",
       "<circle cx=\"399\" cy=\"162\" r=\"3\" opacity=\"1\" fill=\"#00FF00\" stroke=\"none\" stroke-width=\"1\"/>\n",
       "<circle cx=\"399\" cy=\"197\" r=\"3\" opacity=\"1\" fill=\"#00FF00\" stroke=\"none\" stroke-width=\"1\"/>\n",
       "<circle cx=\"459\" cy=\"167\" r=\"3\" opacity=\"1\" fill=\"#00FF00\" stroke=\"none\" stroke-width=\"1\"/>\n",
       "<circle cx=\"519\" cy=\"157\" r=\"3\" opacity=\"1\" fill=\"#00FF00\" stroke=\"none\" stroke-width=\"1\"/>\n",
       "<circle cx=\"499\" cy=\"182\" r=\"3\" opacity=\"1\" fill=\"#00FF00\" stroke=\"none\" stroke-width=\"1\"/>\n",
       "<circle cx=\"419\" cy=\"182\" r=\"3\" opacity=\"1\" fill=\"#00FF00\" stroke=\"none\" stroke-width=\"1\"/>\n",
       "<circle cx=\"499\" cy=\"142\" r=\"3\" opacity=\"1\" fill=\"#00FF00\" stroke=\"none\" stroke-width=\"1\"/>\n",
       "<circle cx=\"539\" cy=\"152\" r=\"3\" opacity=\"1\" fill=\"#00FF00\" stroke=\"none\" stroke-width=\"1\"/>\n",
       "<circle cx=\"499\" cy=\"177\" r=\"3\" opacity=\"1\" fill=\"#00FF00\" stroke=\"none\" stroke-width=\"1\"/>\n",
       "<circle cx=\"419\" cy=\"187\" r=\"3\" opacity=\"1\" fill=\"#00FF00\" stroke=\"none\" stroke-width=\"1\"/>\n",
       "<circle cx=\"439\" cy=\"177\" r=\"3\" opacity=\"1\" fill=\"#00FF00\" stroke=\"none\" stroke-width=\"1\"/>\n",
       "<circle cx=\"499\" cy=\"167\" r=\"3\" opacity=\"1\" fill=\"#00FF00\" stroke=\"none\" stroke-width=\"1\"/>\n",
       "<circle cx=\"399\" cy=\"182\" r=\"3\" opacity=\"1\" fill=\"#00FF00\" stroke=\"none\" stroke-width=\"1\"/>\n",
       "</svg>\n",
       "</div>"
      ]
     },
     "execution_count": 45,
     "metadata": {},
     "output_type": "execute_result"
    }
   ],
   "source": [
    "let petal_samples: Vec<(f64,f64)> = {\n",
    "    let petal_length_cm: DataFrame = iris_df.select(vec![\"PetalLengthCm\"]).unwrap();\n",
    "    let mut petal_length = petal_length_cm.to_ndarray::<Float64Type>(IndexOrder::Fortran).unwrap().into_raw_vec().into_iter();\n",
    "    let petal_width_cm: DataFrame = iris_df.select(vec![\"PetalWidthCm\"]).unwrap();\n",
    "    let mut petal_width = petal_width_cm.to_ndarray::<Float64Type>(IndexOrder::Fortran).unwrap().into_raw_vec().into_iter();\n",
    "    petal_width.zip(petal_length).collect()\n",
    "};\n",
    "\n",
    "evcxr_figure((640, 480), |root| {\n",
    "    let mut chart = ChartBuilder::on(&root)\n",
    "        .caption(\"Iris Dataset\", (\"Arial\", 30).into_font())\n",
    "        .x_label_area_size(40)\n",
    "        .y_label_area_size(40)\n",
    "        .build_cartesian_2d(0f64..3f64, 0f64..8f64)?;\n",
    "    \n",
    "    chart.configure_mesh()\n",
    "        .x_desc(\"Petal Length (cm)\")\n",
    "        .y_desc(\"Petal Width (cm)\")\n",
    "        .draw()?;\n",
    "    \n",
    "    chart.draw_series(petal_samples.iter().map(|(x, y)| Circle::new((*x,*y), 3, GREEN.filled())));\n",
    "\n",
    "    Ok(())\n",
    "}).style(\"width:60%\")"
   ]
  },
  {
   "cell_type": "markdown",
   "id": "1942870b",
   "metadata": {},
   "source": [
    "## Histogram"
   ]
  },
  {
   "cell_type": "code",
   "execution_count": 46,
   "id": "3fedc85a-94a7-49aa-9233-b6230a1ba111",
   "metadata": {},
   "outputs": [
    {
     "data": {
      "text/html": [
       "<div style=\"width:100%\"><svg width=\"640\" height=\"480\" viewBox=\"0 0 640 480\" xmlns=\"http://www.w3.org/2000/svg\">\n",
       "<rect x=\"0\" y=\"0\" width=\"640\" height=\"480\" opacity=\"1\" fill=\"#FFFFFF\" stroke=\"none\"/>\n",
       "<text x=\"320\" y=\"5\" dy=\"0.76em\" text-anchor=\"middle\" font-family=\"Arial\" font-size=\"16.129032258064516\" opacity=\"1\" fill=\"#000000\">\n",
       "Histogram\n",
       "</text>\n",
       "<polyline fill=\"none\" opacity=\"1\" stroke=\"#000000\" stroke-width=\"1\" points=\"49,26 49,429 \"/>\n",
       "<text x=\"40\" y=\"429\" dy=\"0.5ex\" text-anchor=\"end\" font-family=\"sans-serif\" font-size=\"9.67741935483871\" opacity=\"1\" fill=\"#000000\">\n",
       "0%\n",
       "</text>\n",
       "<polyline fill=\"none\" opacity=\"1\" stroke=\"#000000\" stroke-width=\"1\" points=\"44,429 49,429 \"/>\n",
       "<text x=\"40\" y=\"228\" dy=\"0.5ex\" text-anchor=\"end\" font-family=\"sans-serif\" font-size=\"9.67741935483871\" opacity=\"1\" fill=\"#000000\">\n",
       "50%\n",
       "</text>\n",
       "<polyline fill=\"none\" opacity=\"1\" stroke=\"#000000\" stroke-width=\"1\" points=\"44,228 49,228 \"/>\n",
       "<text x=\"40\" y=\"26\" dy=\"0.5ex\" text-anchor=\"end\" font-family=\"sans-serif\" font-size=\"9.67741935483871\" opacity=\"1\" fill=\"#000000\">\n",
       "100%\n",
       "</text>\n",
       "<polyline fill=\"none\" opacity=\"1\" stroke=\"#000000\" stroke-width=\"1\" points=\"44,26 49,26 \"/>\n",
       "<polyline fill=\"none\" opacity=\"1\" stroke=\"#000000\" stroke-width=\"1\" points=\"50,430 639,430 \"/>\n",
       "<text x=\"50\" y=\"440\" dy=\"0.76em\" text-anchor=\"middle\" font-family=\"sans-serif\" font-size=\"9.67741935483871\" opacity=\"1\" fill=\"#000000\">\n",
       "1\n",
       "</text>\n",
       "<polyline fill=\"none\" opacity=\"1\" stroke=\"#000000\" stroke-width=\"1\" points=\"50,430 50,435 \"/>\n",
       "<text x=\"197\" y=\"440\" dy=\"0.76em\" text-anchor=\"middle\" font-family=\"sans-serif\" font-size=\"9.67741935483871\" opacity=\"1\" fill=\"#000000\">\n",
       "2\n",
       "</text>\n",
       "<polyline fill=\"none\" opacity=\"1\" stroke=\"#000000\" stroke-width=\"1\" points=\"197,430 197,435 \"/>\n",
       "<text x=\"344\" y=\"440\" dy=\"0.76em\" text-anchor=\"middle\" font-family=\"sans-serif\" font-size=\"9.67741935483871\" opacity=\"1\" fill=\"#000000\">\n",
       "3\n",
       "</text>\n",
       "<polyline fill=\"none\" opacity=\"1\" stroke=\"#000000\" stroke-width=\"1\" points=\"344,430 344,435 \"/>\n",
       "<text x=\"491\" y=\"440\" dy=\"0.76em\" text-anchor=\"middle\" font-family=\"sans-serif\" font-size=\"9.67741935483871\" opacity=\"1\" fill=\"#000000\">\n",
       "4\n",
       "</text>\n",
       "<polyline fill=\"none\" opacity=\"1\" stroke=\"#000000\" stroke-width=\"1\" points=\"491,430 491,435 \"/>\n",
       "<text x=\"639\" y=\"440\" dy=\"0.76em\" text-anchor=\"middle\" font-family=\"sans-serif\" font-size=\"9.67741935483871\" opacity=\"1\" fill=\"#000000\">\n",
       "5\n",
       "</text>\n",
       "<polyline fill=\"none\" opacity=\"1\" stroke=\"#000000\" stroke-width=\"1\" points=\"639,430 639,435 \"/>\n",
       "<rect x=\"344\" y=\"71\" width=\"147\" height=\"358\" opacity=\"1\" fill=\"#FF0000\" stroke=\"none\"/>\n",
       "<rect x=\"197\" y=\"200\" width=\"147\" height=\"229\" opacity=\"1\" fill=\"#FF0000\" stroke=\"none\"/>\n",
       "<rect x=\"491\" y=\"413\" width=\"148\" height=\"16\" opacity=\"1\" fill=\"#FF0000\" stroke=\"none\"/>\n",
       "</svg>\n",
       "</div>"
      ]
     },
     "execution_count": 46,
     "metadata": {},
     "output_type": "execute_result"
    }
   ],
   "source": [
    "evcxr_figure((640, 480), |root| {\n",
    "    _ = root.fill(&WHITE);\n",
    "\n",
    "    let mut chart = ChartBuilder::on(&root)\n",
    "        .caption(\"Histogram\", (\"Arial\", 20).into_font())\n",
    "        .x_label_area_size(50)\n",
    "        .y_label_area_size(50)\n",
    "        .build_cartesian_2d(1u32..5u32, 0f64..1f64)?;\n",
    "\n",
    "    chart.configure_mesh()\n",
    "        .disable_x_mesh()\n",
    "        .disable_y_mesh()\n",
    "        .y_labels(5)\n",
    "        .y_label_formatter(&|y| format!(\"{}%\", (*y * 100.0) as u32))\n",
    "        .draw()?;\n",
    "\n",
    "    let hist = Histogram::vertical(&chart)\n",
    "        .style(RED.filled())\n",
    "        .margin(0)\n",
    "        .data(sepal_samples.iter().map(|(x,_)| (*x as u32, 0.01)));\n",
    "\n",
    "    let _ = chart.draw_series(hist);\n",
    "    \n",
    "    Ok(())\n",
    "}).style(\"width:100%\")"
   ]
  },
  {
   "cell_type": "markdown",
   "id": "9acf4c06",
   "metadata": {},
   "source": [
    "## Combination of Histogram and Scatter"
   ]
  },
  {
   "cell_type": "markdown",
   "id": "ab1a62dc-4a3b-4a93-b6a4-dac3041441e8",
   "metadata": {},
   "source": [
    "Many thanks to [Brendan A R Sechter](https://github.com/sgeos) for implementing this feature in [#17](https://github.com/wiseaidev/rust-data-analysis/issues/17)."
   ]
  },
  {
   "cell_type": "code",
   "execution_count": 47,
   "id": "5ae2d0cb",
   "metadata": {},
   "outputs": [
    {
     "data": {
      "text/html": [
       "<div style=\"width:60%\"><svg width=\"640\" height=\"480\" viewBox=\"0 0 640 480\" xmlns=\"http://www.w3.org/2000/svg\">\n",
       "<text x=\"320\" y=\"5\" dy=\"0.76em\" text-anchor=\"middle\" font-family=\"Arial\" font-size=\"16.129032258064516\" opacity=\"1\" fill=\"#000000\">\n",
       "Scatter with Histogram Example\n",
       "</text>\n",
       "<polyline fill=\"none\" opacity=\"1\" stroke=\"#000000\" stroke-width=\"1\" points=\"39,106 39,439 \"/>\n",
       "<text x=\"30\" y=\"439\" dy=\"0.5ex\" text-anchor=\"end\" font-family=\"sans-serif\" font-size=\"9.67741935483871\" opacity=\"1\" fill=\"#000000\">\n",
       "3.0\n",
       "</text>\n",
       "<polyline fill=\"none\" opacity=\"1\" stroke=\"#000000\" stroke-width=\"1\" points=\"34,439 39,439 \"/>\n",
       "<text x=\"30\" y=\"384\" dy=\"0.5ex\" text-anchor=\"end\" font-family=\"sans-serif\" font-size=\"9.67741935483871\" opacity=\"1\" fill=\"#000000\">\n",
       "4.0\n",
       "</text>\n",
       "<polyline fill=\"none\" opacity=\"1\" stroke=\"#000000\" stroke-width=\"1\" points=\"34,384 39,384 \"/>\n",
       "<text x=\"30\" y=\"328\" dy=\"0.5ex\" text-anchor=\"end\" font-family=\"sans-serif\" font-size=\"9.67741935483871\" opacity=\"1\" fill=\"#000000\">\n",
       "5.0\n",
       "</text>\n",
       "<polyline fill=\"none\" opacity=\"1\" stroke=\"#000000\" stroke-width=\"1\" points=\"34,328 39,328 \"/>\n",
       "<text x=\"30\" y=\"273\" dy=\"0.5ex\" text-anchor=\"end\" font-family=\"sans-serif\" font-size=\"9.67741935483871\" opacity=\"1\" fill=\"#000000\">\n",
       "6.0\n",
       "</text>\n",
       "<polyline fill=\"none\" opacity=\"1\" stroke=\"#000000\" stroke-width=\"1\" points=\"34,273 39,273 \"/>\n",
       "<text x=\"30\" y=\"217\" dy=\"0.5ex\" text-anchor=\"end\" font-family=\"sans-serif\" font-size=\"9.67741935483871\" opacity=\"1\" fill=\"#000000\">\n",
       "7.0\n",
       "</text>\n",
       "<polyline fill=\"none\" opacity=\"1\" stroke=\"#000000\" stroke-width=\"1\" points=\"34,217 39,217 \"/>\n",
       "<text x=\"30\" y=\"162\" dy=\"0.5ex\" text-anchor=\"end\" font-family=\"sans-serif\" font-size=\"9.67741935483871\" opacity=\"1\" fill=\"#000000\">\n",
       "8.0\n",
       "</text>\n",
       "<polyline fill=\"none\" opacity=\"1\" stroke=\"#000000\" stroke-width=\"1\" points=\"34,162 39,162 \"/>\n",
       "<text x=\"30\" y=\"106\" dy=\"0.5ex\" text-anchor=\"end\" font-family=\"sans-serif\" font-size=\"9.67741935483871\" opacity=\"1\" fill=\"#000000\">\n",
       "9.0\n",
       "</text>\n",
       "<polyline fill=\"none\" opacity=\"1\" stroke=\"#000000\" stroke-width=\"1\" points=\"34,106 39,106 \"/>\n",
       "<polyline fill=\"none\" opacity=\"1\" stroke=\"#000000\" stroke-width=\"1\" points=\"40,440 559,440 \"/>\n",
       "<text x=\"40\" y=\"450\" dy=\"0.76em\" text-anchor=\"middle\" font-family=\"sans-serif\" font-size=\"9.67741935483871\" opacity=\"1\" fill=\"#000000\">\n",
       "1.0\n",
       "</text>\n",
       "<polyline fill=\"none\" opacity=\"1\" stroke=\"#000000\" stroke-width=\"1\" points=\"40,440 40,445 \"/>\n",
       "<text x=\"104\" y=\"450\" dy=\"0.76em\" text-anchor=\"middle\" font-family=\"sans-serif\" font-size=\"9.67741935483871\" opacity=\"1\" fill=\"#000000\">\n",
       "1.5\n",
       "</text>\n",
       "<polyline fill=\"none\" opacity=\"1\" stroke=\"#000000\" stroke-width=\"1\" points=\"104,440 104,445 \"/>\n",
       "<text x=\"169\" y=\"450\" dy=\"0.76em\" text-anchor=\"middle\" font-family=\"sans-serif\" font-size=\"9.67741935483871\" opacity=\"1\" fill=\"#000000\">\n",
       "2.0\n",
       "</text>\n",
       "<polyline fill=\"none\" opacity=\"1\" stroke=\"#000000\" stroke-width=\"1\" points=\"169,440 169,445 \"/>\n",
       "<text x=\"234\" y=\"450\" dy=\"0.76em\" text-anchor=\"middle\" font-family=\"sans-serif\" font-size=\"9.67741935483871\" opacity=\"1\" fill=\"#000000\">\n",
       "2.5\n",
       "</text>\n",
       "<polyline fill=\"none\" opacity=\"1\" stroke=\"#000000\" stroke-width=\"1\" points=\"234,440 234,445 \"/>\n",
       "<text x=\"299\" y=\"450\" dy=\"0.76em\" text-anchor=\"middle\" font-family=\"sans-serif\" font-size=\"9.67741935483871\" opacity=\"1\" fill=\"#000000\">\n",
       "3.0\n",
       "</text>\n",
       "<polyline fill=\"none\" opacity=\"1\" stroke=\"#000000\" stroke-width=\"1\" points=\"299,440 299,445 \"/>\n",
       "<text x=\"364\" y=\"450\" dy=\"0.76em\" text-anchor=\"middle\" font-family=\"sans-serif\" font-size=\"9.67741935483871\" opacity=\"1\" fill=\"#000000\">\n",
       "3.5\n",
       "</text>\n",
       "<polyline fill=\"none\" opacity=\"1\" stroke=\"#000000\" stroke-width=\"1\" points=\"364,440 364,445 \"/>\n",
       "<text x=\"429\" y=\"450\" dy=\"0.76em\" text-anchor=\"middle\" font-family=\"sans-serif\" font-size=\"9.67741935483871\" opacity=\"1\" fill=\"#000000\">\n",
       "4.0\n",
       "</text>\n",
       "<polyline fill=\"none\" opacity=\"1\" stroke=\"#000000\" stroke-width=\"1\" points=\"429,440 429,445 \"/>\n",
       "<text x=\"494\" y=\"450\" dy=\"0.76em\" text-anchor=\"middle\" font-family=\"sans-serif\" font-size=\"9.67741935483871\" opacity=\"1\" fill=\"#000000\">\n",
       "4.5\n",
       "</text>\n",
       "<polyline fill=\"none\" opacity=\"1\" stroke=\"#000000\" stroke-width=\"1\" points=\"494,440 494,445 \"/>\n",
       "<text x=\"559\" y=\"450\" dy=\"0.76em\" text-anchor=\"middle\" font-family=\"sans-serif\" font-size=\"9.67741935483871\" opacity=\"1\" fill=\"#000000\">\n",
       "5.0\n",
       "</text>\n",
       "<polyline fill=\"none\" opacity=\"1\" stroke=\"#000000\" stroke-width=\"1\" points=\"559,440 559,445 \"/>\n",
       "<circle cx=\"364\" cy=\"323\" r=\"3\" opacity=\"1\" fill=\"#0000FF\" stroke=\"none\" stroke-width=\"1\"/>\n",
       "<circle cx=\"299\" cy=\"334\" r=\"3\" opacity=\"1\" fill=\"#0000FF\" stroke=\"none\" stroke-width=\"1\"/>\n",
       "<circle cx=\"325\" cy=\"345\" r=\"3\" opacity=\"1\" fill=\"#0000FF\" stroke=\"none\" stroke-width=\"1\"/>\n",
       "<circle cx=\"312\" cy=\"351\" r=\"3\" opacity=\"1\" fill=\"#0000FF\" stroke=\"none\" stroke-width=\"1\"/>\n",
       "<circle cx=\"377\" cy=\"328\" r=\"3\" opacity=\"1\" fill=\"#0000FF\" stroke=\"none\" stroke-width=\"1\"/>\n",
       "<circle cx=\"416\" cy=\"306\" r=\"3\" opacity=\"1\" fill=\"#0000FF\" stroke=\"none\" stroke-width=\"1\"/>\n",
       "<circle cx=\"351\" cy=\"351\" r=\"3\" opacity=\"1\" fill=\"#0000FF\" stroke=\"none\" stroke-width=\"1\"/>\n",
       "<circle cx=\"351\" cy=\"328\" r=\"3\" opacity=\"1\" fill=\"#0000FF\" stroke=\"none\" stroke-width=\"1\"/>\n",
       "<circle cx=\"286\" cy=\"362\" r=\"3\" opacity=\"1\" fill=\"#0000FF\" stroke=\"none\" stroke-width=\"1\"/>\n",
       "<circle cx=\"312\" cy=\"334\" r=\"3\" opacity=\"1\" fill=\"#0000FF\" stroke=\"none\" stroke-width=\"1\"/>\n",
       "<circle cx=\"390\" cy=\"306\" r=\"3\" opacity=\"1\" fill=\"#0000FF\" stroke=\"none\" stroke-width=\"1\"/>\n",
       "<circle cx=\"351\" cy=\"340\" r=\"3\" opacity=\"1\" fill=\"#0000FF\" stroke=\"none\" stroke-width=\"1\"/>\n",
       "<circle cx=\"299\" cy=\"340\" r=\"3\" opacity=\"1\" fill=\"#0000FF\" stroke=\"none\" stroke-width=\"1\"/>\n",
       "<circle cx=\"299\" cy=\"367\" r=\"3\" opacity=\"1\" fill=\"#0000FF\" stroke=\"none\" stroke-width=\"1\"/>\n",
       "<circle cx=\"429\" cy=\"284\" r=\"3\" opacity=\"1\" fill=\"#0000FF\" stroke=\"none\" stroke-width=\"1\"/>\n",
       "<circle cx=\"481\" cy=\"290\" r=\"3\" opacity=\"1\" fill=\"#0000FF\" stroke=\"none\" stroke-width=\"1\"/>\n",
       "<circle cx=\"416\" cy=\"306\" r=\"3\" opacity=\"1\" fill=\"#0000FF\" stroke=\"none\" stroke-width=\"1\"/>\n",
       "<circle cx=\"364\" cy=\"323\" r=\"3\" opacity=\"1\" fill=\"#0000FF\" stroke=\"none\" stroke-width=\"1\"/>\n",
       "<circle cx=\"403\" cy=\"290\" r=\"3\" opacity=\"1\" fill=\"#0000FF\" stroke=\"none\" stroke-width=\"1\"/>\n",
       "<circle cx=\"403\" cy=\"323\" r=\"3\" opacity=\"1\" fill=\"#0000FF\" stroke=\"none\" stroke-width=\"1\"/>\n",
       "<circle cx=\"351\" cy=\"306\" r=\"3\" opacity=\"1\" fill=\"#0000FF\" stroke=\"none\" stroke-width=\"1\"/>\n",
       "<circle cx=\"390\" cy=\"323\" r=\"3\" opacity=\"1\" fill=\"#0000FF\" stroke=\"none\" stroke-width=\"1\"/>\n",
       "<circle cx=\"377\" cy=\"351\" r=\"3\" opacity=\"1\" fill=\"#0000FF\" stroke=\"none\" stroke-width=\"1\"/>\n",
       "<circle cx=\"338\" cy=\"323\" r=\"3\" opacity=\"1\" fill=\"#0000FF\" stroke=\"none\" stroke-width=\"1\"/>\n",
       "<circle cx=\"351\" cy=\"340\" r=\"3\" opacity=\"1\" fill=\"#0000FF\" stroke=\"none\" stroke-width=\"1\"/>\n",
       "<circle cx=\"299\" cy=\"328\" r=\"3\" opacity=\"1\" fill=\"#0000FF\" stroke=\"none\" stroke-width=\"1\"/>\n",
       "<circle cx=\"351\" cy=\"328\" r=\"3\" opacity=\"1\" fill=\"#0000FF\" stroke=\"none\" stroke-width=\"1\"/>\n",
       "<circle cx=\"364\" cy=\"317\" r=\"3\" opacity=\"1\" fill=\"#0000FF\" stroke=\"none\" stroke-width=\"1\"/>\n",
       "<circle cx=\"351\" cy=\"317\" r=\"3\" opacity=\"1\" fill=\"#0000FF\" stroke=\"none\" stroke-width=\"1\"/>\n",
       "<circle cx=\"325\" cy=\"345\" r=\"3\" opacity=\"1\" fill=\"#0000FF\" stroke=\"none\" stroke-width=\"1\"/>\n",
       "<circle cx=\"312\" cy=\"340\" r=\"3\" opacity=\"1\" fill=\"#0000FF\" stroke=\"none\" stroke-width=\"1\"/>\n",
       "<circle cx=\"351\" cy=\"306\" r=\"3\" opacity=\"1\" fill=\"#0000FF\" stroke=\"none\" stroke-width=\"1\"/>\n",
       "<circle cx=\"442\" cy=\"317\" r=\"3\" opacity=\"1\" fill=\"#0000FF\" stroke=\"none\" stroke-width=\"1\"/>\n",
       "<circle cx=\"455\" cy=\"301\" r=\"3\" opacity=\"1\" fill=\"#0000FF\" stroke=\"none\" stroke-width=\"1\"/>\n",
       "<circle cx=\"312\" cy=\"334\" r=\"3\" opacity=\"1\" fill=\"#0000FF\" stroke=\"none\" stroke-width=\"1\"/>\n",
       "<circle cx=\"325\" cy=\"328\" r=\"3\" opacity=\"1\" fill=\"#0000FF\" stroke=\"none\" stroke-width=\"1\"/>\n",
       "<circle cx=\"364\" cy=\"301\" r=\"3\" opacity=\"1\" fill=\"#0000FF\" stroke=\"none\" stroke-width=\"1\"/>\n",
       "<circle cx=\"312\" cy=\"334\" r=\"3\" opacity=\"1\" fill=\"#0000FF\" stroke=\"none\" stroke-width=\"1\"/>\n",
       "<circle cx=\"299\" cy=\"362\" r=\"3\" opacity=\"1\" fill=\"#0000FF\" stroke=\"none\" stroke-width=\"1\"/>\n",
       "<circle cx=\"351\" cy=\"323\" r=\"3\" opacity=\"1\" fill=\"#0000FF\" stroke=\"none\" stroke-width=\"1\"/>\n",
       "<circle cx=\"364\" cy=\"328\" r=\"3\" opacity=\"1\" fill=\"#0000FF\" stroke=\"none\" stroke-width=\"1\"/>\n",
       "<circle cx=\"208\" cy=\"356\" r=\"3\" opacity=\"1\" fill=\"#0000FF\" stroke=\"none\" stroke-width=\"1\"/>\n",
       "<circle cx=\"325\" cy=\"362\" r=\"3\" opacity=\"1\" fill=\"#0000FF\" stroke=\"none\" stroke-width=\"1\"/>\n",
       "<circle cx=\"364\" cy=\"328\" r=\"3\" opacity=\"1\" fill=\"#0000FF\" stroke=\"none\" stroke-width=\"1\"/>\n",
       "<circle cx=\"403\" cy=\"323\" r=\"3\" opacity=\"1\" fill=\"#0000FF\" stroke=\"none\" stroke-width=\"1\"/>\n",
       "<circle cx=\"299\" cy=\"340\" r=\"3\" opacity=\"1\" fill=\"#0000FF\" stroke=\"none\" stroke-width=\"1\"/>\n",
       "<circle cx=\"403\" cy=\"323\" r=\"3\" opacity=\"1\" fill=\"#0000FF\" stroke=\"none\" stroke-width=\"1\"/>\n",
       "<circle cx=\"325\" cy=\"351\" r=\"3\" opacity=\"1\" fill=\"#0000FF\" stroke=\"none\" stroke-width=\"1\"/>\n",
       "<circle cx=\"390\" cy=\"312\" r=\"3\" opacity=\"1\" fill=\"#0000FF\" stroke=\"none\" stroke-width=\"1\"/>\n",
       "<circle cx=\"338\" cy=\"328\" r=\"3\" opacity=\"1\" fill=\"#0000FF\" stroke=\"none\" stroke-width=\"1\"/>\n",
       "<circle cx=\"325\" cy=\"217\" r=\"3\" opacity=\"1\" fill=\"#0000FF\" stroke=\"none\" stroke-width=\"1\"/>\n",
       "<circle cx=\"325\" cy=\"251\" r=\"3\" opacity=\"1\" fill=\"#0000FF\" stroke=\"none\" stroke-width=\"1\"/>\n",
       "<circle cx=\"312\" cy=\"223\" r=\"3\" opacity=\"1\" fill=\"#0000FF\" stroke=\"none\" stroke-width=\"1\"/>\n",
       "<circle cx=\"208\" cy=\"301\" r=\"3\" opacity=\"1\" fill=\"#0000FF\" stroke=\"none\" stroke-width=\"1\"/>\n",
       "<circle cx=\"273\" cy=\"245\" r=\"3\" opacity=\"1\" fill=\"#0000FF\" stroke=\"none\" stroke-width=\"1\"/>\n",
       "<circle cx=\"273\" cy=\"290\" r=\"3\" opacity=\"1\" fill=\"#0000FF\" stroke=\"none\" stroke-width=\"1\"/>\n",
       "<circle cx=\"338\" cy=\"256\" r=\"3\" opacity=\"1\" fill=\"#0000FF\" stroke=\"none\" stroke-width=\"1\"/>\n",
       "<circle cx=\"221\" cy=\"334\" r=\"3\" opacity=\"1\" fill=\"#0000FF\" stroke=\"none\" stroke-width=\"1\"/>\n",
       "<circle cx=\"286\" cy=\"240\" r=\"3\" opacity=\"1\" fill=\"#0000FF\" stroke=\"none\" stroke-width=\"1\"/>\n",
       "<circle cx=\"260\" cy=\"317\" r=\"3\" opacity=\"1\" fill=\"#0000FF\" stroke=\"none\" stroke-width=\"1\"/>\n",
       "<circle cx=\"169\" cy=\"328\" r=\"3\" opacity=\"1\" fill=\"#0000FF\" stroke=\"none\" stroke-width=\"1\"/>\n",
       "<circle cx=\"299\" cy=\"279\" r=\"3\" opacity=\"1\" fill=\"#0000FF\" stroke=\"none\" stroke-width=\"1\"/>\n",
       "<circle cx=\"195\" cy=\"273\" r=\"3\" opacity=\"1\" fill=\"#0000FF\" stroke=\"none\" stroke-width=\"1\"/>\n",
       "<circle cx=\"286\" cy=\"267\" r=\"3\" opacity=\"1\" fill=\"#0000FF\" stroke=\"none\" stroke-width=\"1\"/>\n",
       "<circle cx=\"286\" cy=\"295\" r=\"3\" opacity=\"1\" fill=\"#0000FF\" stroke=\"none\" stroke-width=\"1\"/>\n",
       "<circle cx=\"312\" cy=\"234\" r=\"3\" opacity=\"1\" fill=\"#0000FF\" stroke=\"none\" stroke-width=\"1\"/>\n",
       "<circle cx=\"299\" cy=\"295\" r=\"3\" opacity=\"1\" fill=\"#0000FF\" stroke=\"none\" stroke-width=\"1\"/>\n",
       "<circle cx=\"260\" cy=\"284\" r=\"3\" opacity=\"1\" fill=\"#0000FF\" stroke=\"none\" stroke-width=\"1\"/>\n",
       "<circle cx=\"195\" cy=\"262\" r=\"3\" opacity=\"1\" fill=\"#0000FF\" stroke=\"none\" stroke-width=\"1\"/>\n",
       "<circle cx=\"234\" cy=\"295\" r=\"3\" opacity=\"1\" fill=\"#0000FF\" stroke=\"none\" stroke-width=\"1\"/>\n",
       "<circle cx=\"325\" cy=\"279\" r=\"3\" opacity=\"1\" fill=\"#0000FF\" stroke=\"none\" stroke-width=\"1\"/>\n",
       "<circle cx=\"273\" cy=\"267\" r=\"3\" opacity=\"1\" fill=\"#0000FF\" stroke=\"none\" stroke-width=\"1\"/>\n",
       "<circle cx=\"234\" cy=\"256\" r=\"3\" opacity=\"1\" fill=\"#0000FF\" stroke=\"none\" stroke-width=\"1\"/>\n",
       "<circle cx=\"273\" cy=\"267\" r=\"3\" opacity=\"1\" fill=\"#0000FF\" stroke=\"none\" stroke-width=\"1\"/>\n",
       "<circle cx=\"286\" cy=\"251\" r=\"3\" opacity=\"1\" fill=\"#0000FF\" stroke=\"none\" stroke-width=\"1\"/>\n",
       "<circle cx=\"299\" cy=\"240\" r=\"3\" opacity=\"1\" fill=\"#0000FF\" stroke=\"none\" stroke-width=\"1\"/>\n",
       "<circle cx=\"273\" cy=\"229\" r=\"3\" opacity=\"1\" fill=\"#0000FF\" stroke=\"none\" stroke-width=\"1\"/>\n",
       "<circle cx=\"299\" cy=\"234\" r=\"3\" opacity=\"1\" fill=\"#0000FF\" stroke=\"none\" stroke-width=\"1\"/>\n",
       "<circle cx=\"286\" cy=\"273\" r=\"3\" opacity=\"1\" fill=\"#0000FF\" stroke=\"none\" stroke-width=\"1\"/>\n",
       "<circle cx=\"247\" cy=\"290\" r=\"3\" opacity=\"1\" fill=\"#0000FF\" stroke=\"none\" stroke-width=\"1\"/>\n",
       "<circle cx=\"221\" cy=\"301\" r=\"3\" opacity=\"1\" fill=\"#0000FF\" stroke=\"none\" stroke-width=\"1\"/>\n",
       "<circle cx=\"221\" cy=\"301\" r=\"3\" opacity=\"1\" fill=\"#0000FF\" stroke=\"none\" stroke-width=\"1\"/>\n",
       "<circle cx=\"260\" cy=\"284\" r=\"3\" opacity=\"1\" fill=\"#0000FF\" stroke=\"none\" stroke-width=\"1\"/>\n",
       "<circle cx=\"260\" cy=\"273\" r=\"3\" opacity=\"1\" fill=\"#0000FF\" stroke=\"none\" stroke-width=\"1\"/>\n",
       "<circle cx=\"299\" cy=\"306\" r=\"3\" opacity=\"1\" fill=\"#0000FF\" stroke=\"none\" stroke-width=\"1\"/>\n",
       "<circle cx=\"351\" cy=\"273\" r=\"3\" opacity=\"1\" fill=\"#0000FF\" stroke=\"none\" stroke-width=\"1\"/>\n",
       "<circle cx=\"312\" cy=\"234\" r=\"3\" opacity=\"1\" fill=\"#0000FF\" stroke=\"none\" stroke-width=\"1\"/>\n",
       "<circle cx=\"208\" cy=\"256\" r=\"3\" opacity=\"1\" fill=\"#0000FF\" stroke=\"none\" stroke-width=\"1\"/>\n",
       "<circle cx=\"299\" cy=\"295\" r=\"3\" opacity=\"1\" fill=\"#0000FF\" stroke=\"none\" stroke-width=\"1\"/>\n",
       "<circle cx=\"234\" cy=\"301\" r=\"3\" opacity=\"1\" fill=\"#0000FF\" stroke=\"none\" stroke-width=\"1\"/>\n",
       "<circle cx=\"247\" cy=\"301\" r=\"3\" opacity=\"1\" fill=\"#0000FF\" stroke=\"none\" stroke-width=\"1\"/>\n",
       "<circle cx=\"299\" cy=\"267\" r=\"3\" opacity=\"1\" fill=\"#0000FF\" stroke=\"none\" stroke-width=\"1\"/>\n",
       "<circle cx=\"247\" cy=\"284\" r=\"3\" opacity=\"1\" fill=\"#0000FF\" stroke=\"none\" stroke-width=\"1\"/>\n",
       "<circle cx=\"208\" cy=\"328\" r=\"3\" opacity=\"1\" fill=\"#0000FF\" stroke=\"none\" stroke-width=\"1\"/>\n",
       "<circle cx=\"260\" cy=\"295\" r=\"3\" opacity=\"1\" fill=\"#0000FF\" stroke=\"none\" stroke-width=\"1\"/>\n",
       "<circle cx=\"299\" cy=\"290\" r=\"3\" opacity=\"1\" fill=\"#0000FF\" stroke=\"none\" stroke-width=\"1\"/>\n",
       "<circle cx=\"286\" cy=\"290\" r=\"3\" opacity=\"1\" fill=\"#0000FF\" stroke=\"none\" stroke-width=\"1\"/>\n",
       "<circle cx=\"286\" cy=\"262\" r=\"3\" opacity=\"1\" fill=\"#0000FF\" stroke=\"none\" stroke-width=\"1\"/>\n",
       "<circle cx=\"234\" cy=\"323\" r=\"3\" opacity=\"1\" fill=\"#0000FF\" stroke=\"none\" stroke-width=\"1\"/>\n",
       "<circle cx=\"273\" cy=\"290\" r=\"3\" opacity=\"1\" fill=\"#0000FF\" stroke=\"none\" stroke-width=\"1\"/>\n",
       "<circle cx=\"338\" cy=\"256\" r=\"3\" opacity=\"1\" fill=\"#0000FF\" stroke=\"none\" stroke-width=\"1\"/>\n",
       "<circle cx=\"260\" cy=\"284\" r=\"3\" opacity=\"1\" fill=\"#0000FF\" stroke=\"none\" stroke-width=\"1\"/>\n",
       "<circle cx=\"299\" cy=\"212\" r=\"3\" opacity=\"1\" fill=\"#0000FF\" stroke=\"none\" stroke-width=\"1\"/>\n",
       "<circle cx=\"286\" cy=\"256\" r=\"3\" opacity=\"1\" fill=\"#0000FF\" stroke=\"none\" stroke-width=\"1\"/>\n",
       "<circle cx=\"299\" cy=\"245\" r=\"3\" opacity=\"1\" fill=\"#0000FF\" stroke=\"none\" stroke-width=\"1\"/>\n",
       "<circle cx=\"299\" cy=\"184\" r=\"3\" opacity=\"1\" fill=\"#0000FF\" stroke=\"none\" stroke-width=\"1\"/>\n",
       "<circle cx=\"234\" cy=\"334\" r=\"3\" opacity=\"1\" fill=\"#0000FF\" stroke=\"none\" stroke-width=\"1\"/>\n",
       "<circle cx=\"286\" cy=\"201\" r=\"3\" opacity=\"1\" fill=\"#0000FF\" stroke=\"none\" stroke-width=\"1\"/>\n",
       "<circle cx=\"234\" cy=\"234\" r=\"3\" opacity=\"1\" fill=\"#0000FF\" stroke=\"none\" stroke-width=\"1\"/>\n",
       "<circle cx=\"377\" cy=\"206\" r=\"3\" opacity=\"1\" fill=\"#0000FF\" stroke=\"none\" stroke-width=\"1\"/>\n",
       "<circle cx=\"325\" cy=\"245\" r=\"3\" opacity=\"1\" fill=\"#0000FF\" stroke=\"none\" stroke-width=\"1\"/>\n",
       "<circle cx=\"260\" cy=\"251\" r=\"3\" opacity=\"1\" fill=\"#0000FF\" stroke=\"none\" stroke-width=\"1\"/>\n",
       "<circle cx=\"299\" cy=\"229\" r=\"3\" opacity=\"1\" fill=\"#0000FF\" stroke=\"none\" stroke-width=\"1\"/>\n",
       "<circle cx=\"234\" cy=\"290\" r=\"3\" opacity=\"1\" fill=\"#0000FF\" stroke=\"none\" stroke-width=\"1\"/>\n",
       "<circle cx=\"273\" cy=\"284\" r=\"3\" opacity=\"1\" fill=\"#0000FF\" stroke=\"none\" stroke-width=\"1\"/>\n",
       "<circle cx=\"325\" cy=\"251\" r=\"3\" opacity=\"1\" fill=\"#0000FF\" stroke=\"none\" stroke-width=\"1\"/>\n",
       "<circle cx=\"299\" cy=\"245\" r=\"3\" opacity=\"1\" fill=\"#0000FF\" stroke=\"none\" stroke-width=\"1\"/>\n",
       "<circle cx=\"403\" cy=\"179\" r=\"3\" opacity=\"1\" fill=\"#0000FF\" stroke=\"none\" stroke-width=\"1\"/>\n",
       "<circle cx=\"247\" cy=\"179\" r=\"3\" opacity=\"1\" fill=\"#0000FF\" stroke=\"none\" stroke-width=\"1\"/>\n",
       "<circle cx=\"195\" cy=\"273\" r=\"3\" opacity=\"1\" fill=\"#0000FF\" stroke=\"none\" stroke-width=\"1\"/>\n",
       "<circle cx=\"325\" cy=\"223\" r=\"3\" opacity=\"1\" fill=\"#0000FF\" stroke=\"none\" stroke-width=\"1\"/>\n",
       "<circle cx=\"273\" cy=\"295\" r=\"3\" opacity=\"1\" fill=\"#0000FF\" stroke=\"none\" stroke-width=\"1\"/>\n",
       "<circle cx=\"273\" cy=\"179\" r=\"3\" opacity=\"1\" fill=\"#0000FF\" stroke=\"none\" stroke-width=\"1\"/>\n",
       "<circle cx=\"260\" cy=\"256\" r=\"3\" opacity=\"1\" fill=\"#0000FF\" stroke=\"none\" stroke-width=\"1\"/>\n",
       "<circle cx=\"338\" cy=\"234\" r=\"3\" opacity=\"1\" fill=\"#0000FF\" stroke=\"none\" stroke-width=\"1\"/>\n",
       "<circle cx=\"325\" cy=\"206\" r=\"3\" opacity=\"1\" fill=\"#0000FF\" stroke=\"none\" stroke-width=\"1\"/>\n",
       "<circle cx=\"273\" cy=\"262\" r=\"3\" opacity=\"1\" fill=\"#0000FF\" stroke=\"none\" stroke-width=\"1\"/>\n",
       "<circle cx=\"299\" cy=\"267\" r=\"3\" opacity=\"1\" fill=\"#0000FF\" stroke=\"none\" stroke-width=\"1\"/>\n",
       "<circle cx=\"273\" cy=\"251\" r=\"3\" opacity=\"1\" fill=\"#0000FF\" stroke=\"none\" stroke-width=\"1\"/>\n",
       "<circle cx=\"299\" cy=\"206\" r=\"3\" opacity=\"1\" fill=\"#0000FF\" stroke=\"none\" stroke-width=\"1\"/>\n",
       "<circle cx=\"273\" cy=\"195\" r=\"3\" opacity=\"1\" fill=\"#0000FF\" stroke=\"none\" stroke-width=\"1\"/>\n",
       "<circle cx=\"403\" cy=\"168\" r=\"3\" opacity=\"1\" fill=\"#0000FF\" stroke=\"none\" stroke-width=\"1\"/>\n",
       "<circle cx=\"273\" cy=\"251\" r=\"3\" opacity=\"1\" fill=\"#0000FF\" stroke=\"none\" stroke-width=\"1\"/>\n",
       "<circle cx=\"273\" cy=\"256\" r=\"3\" opacity=\"1\" fill=\"#0000FF\" stroke=\"none\" stroke-width=\"1\"/>\n",
       "<circle cx=\"247\" cy=\"267\" r=\"3\" opacity=\"1\" fill=\"#0000FF\" stroke=\"none\" stroke-width=\"1\"/>\n",
       "<circle cx=\"299\" cy=\"179\" r=\"3\" opacity=\"1\" fill=\"#0000FF\" stroke=\"none\" stroke-width=\"1\"/>\n",
       "<circle cx=\"351\" cy=\"256\" r=\"3\" opacity=\"1\" fill=\"#0000FF\" stroke=\"none\" stroke-width=\"1\"/>\n",
       "<circle cx=\"312\" cy=\"251\" r=\"3\" opacity=\"1\" fill=\"#0000FF\" stroke=\"none\" stroke-width=\"1\"/>\n",
       "<circle cx=\"299\" cy=\"273\" r=\"3\" opacity=\"1\" fill=\"#0000FF\" stroke=\"none\" stroke-width=\"1\"/>\n",
       "<circle cx=\"312\" cy=\"223\" r=\"3\" opacity=\"1\" fill=\"#0000FF\" stroke=\"none\" stroke-width=\"1\"/>\n",
       "<circle cx=\"312\" cy=\"234\" r=\"3\" opacity=\"1\" fill=\"#0000FF\" stroke=\"none\" stroke-width=\"1\"/>\n",
       "<circle cx=\"312\" cy=\"223\" r=\"3\" opacity=\"1\" fill=\"#0000FF\" stroke=\"none\" stroke-width=\"1\"/>\n",
       "<circle cx=\"260\" cy=\"284\" r=\"3\" opacity=\"1\" fill=\"#0000FF\" stroke=\"none\" stroke-width=\"1\"/>\n",
       "<circle cx=\"325\" cy=\"229\" r=\"3\" opacity=\"1\" fill=\"#0000FF\" stroke=\"none\" stroke-width=\"1\"/>\n",
       "<circle cx=\"338\" cy=\"234\" r=\"3\" opacity=\"1\" fill=\"#0000FF\" stroke=\"none\" stroke-width=\"1\"/>\n",
       "<circle cx=\"299\" cy=\"234\" r=\"3\" opacity=\"1\" fill=\"#0000FF\" stroke=\"none\" stroke-width=\"1\"/>\n",
       "<circle cx=\"234\" cy=\"256\" r=\"3\" opacity=\"1\" fill=\"#0000FF\" stroke=\"none\" stroke-width=\"1\"/>\n",
       "<circle cx=\"299\" cy=\"245\" r=\"3\" opacity=\"1\" fill=\"#0000FF\" stroke=\"none\" stroke-width=\"1\"/>\n",
       "<circle cx=\"351\" cy=\"262\" r=\"3\" opacity=\"1\" fill=\"#0000FF\" stroke=\"none\" stroke-width=\"1\"/>\n",
       "<circle cx=\"299\" cy=\"279\" r=\"3\" opacity=\"1\" fill=\"#0000FF\" stroke=\"none\" stroke-width=\"1\"/>\n",
       "<rect x=\"169\" y=\"26\" width=\"130\" height=\"40\" opacity=\"1\" fill=\"#FF0000\" stroke=\"none\"/>\n",
       "<rect x=\"299\" y=\"26\" width=\"130\" height=\"40\" opacity=\"1\" fill=\"#FF0000\" stroke=\"none\"/>\n",
       "<rect x=\"429\" y=\"59\" width=\"130\" height=\"7\" opacity=\"1\" fill=\"#FF0000\" stroke=\"none\"/>\n",
       "<rect x=\"600\" y=\"273\" width=\"40\" height=\"55\" opacity=\"1\" fill=\"#00FF00\" stroke=\"none\"/>\n",
       "<rect x=\"600\" y=\"162\" width=\"40\" height=\"55\" opacity=\"1\" fill=\"#00FF00\" stroke=\"none\"/>\n",
       "<rect x=\"600\" y=\"328\" width=\"40\" height=\"56\" opacity=\"1\" fill=\"#00FF00\" stroke=\"none\"/>\n",
       "<rect x=\"600\" y=\"217\" width=\"40\" height=\"56\" opacity=\"1\" fill=\"#00FF00\" stroke=\"none\"/>\n",
       "</svg>\n",
       "</div>"
      ]
     },
     "execution_count": 47,
     "metadata": {},
     "output_type": "execute_result"
    }
   ],
   "source": [
    "evcxr_figure((640, 480), |root| {\n",
    "    let root = root.titled(\"Scatter with Histogram Example\", (\"Arial\", 20).into_font())?;\n",
    "    \n",
    "    let areas = root.split_by_breakpoints([560], [80]);\n",
    "\n",
    "    let mut x_hist_ctx = ChartBuilder::on(&areas[0])\n",
    "     .x_label_area_size(40)\n",
    "        .y_label_area_size(40)\n",
    "        .build_cartesian_2d(1..5, 3..9)?;\n",
    "    let mut y_hist_ctx = ChartBuilder::on(&areas[3])\n",
    "        .x_label_area_size(40)\n",
    "     .y_label_area_size(40)\n",
    "        .build_cartesian_2d(1..5, 3..9)?;\n",
    "    let mut scatter_ctx = ChartBuilder::on(&areas[2])\n",
    "        .x_label_area_size(40)\n",
    "        .y_label_area_size(40)\n",
    "        .build_cartesian_2d(1f64..5f64, 3f64..9f64)?;\n",
    "    scatter_ctx.configure_mesh()\n",
    "        .disable_x_mesh()\n",
    "        .disable_y_mesh()\n",
    "        .draw()?;\n",
    "    scatter_ctx.draw_series(sepal_samples.iter().map(|(x,y)| Circle::new((*x,*y), 3, BLUE.filled())))?;\n",
    "\n",
    "    let x_hist = Histogram::vertical(&x_hist_ctx)\n",
    "        .style(RED.filled())\n",
    "        .margin(0)\n",
    "        .data(sepal_samples.iter().map(|(x,_)| (*x as i32, 1)));\n",
    "    x_hist_ctx.draw_series(x_hist)?;\n",
    "\n",
    "    let y_hist = Histogram::horizontal(&y_hist_ctx)\n",
    "        .style(GREEN.filled())\n",
    "        .margin(0)\n",
    "        .data(sepal_samples.iter().map(|(_,y)| (*y as i32, 1)));\n",
    "    y_hist_ctx.draw_series(y_hist)?;\n",
    "\n",
    "    Ok(())\n",
    "}).style(\"width:60%\")"
   ]
  },
  {
   "cell_type": "markdown",
   "id": "235733b3",
   "metadata": {},
   "source": [
    "## ML Model"
   ]
  },
  {
   "cell_type": "code",
   "execution_count": 48,
   "id": "662024b4",
   "metadata": {},
   "outputs": [],
   "source": [
    "let features: DataFrame = iris_df.select(vec![\"SepalLengthCm\", \"SepalWidthCm\", \"PetalLengthCm\", \"PetalWidthCm\"]).unwrap();"
   ]
  },
  {
   "cell_type": "code",
   "execution_count": 49,
   "id": "712540c4",
   "metadata": {},
   "outputs": [],
   "source": [
    "let features: DataFrame = iris_df.select(vec![\"SepalLengthCm\"]).unwrap();\n",
    "let array = features.to_ndarray::<Float64Type>(IndexOrder::Fortran).unwrap().into_raw_vec();"
   ]
  },
  {
   "cell_type": "code",
   "execution_count": 50,
   "id": "2cb2a939",
   "metadata": {},
   "outputs": [
    {
     "data": {
      "text/plain": [
       "[5.1, 4.9, 4.7, 4.6, 5.0, 5.4, 4.6, 5.0, 4.4, 4.9, 5.4, 4.8, 4.8, 4.3, 5.8, 5.7, 5.4, 5.1, 5.7, 5.1, 5.4, 5.1, 4.6, 5.1, 4.8, 5.0, 5.0, 5.2, 5.2, 4.7, 4.8, 5.4, 5.2, 5.5, 4.9, 5.0, 5.5, 4.9, 4.4, 5.1, 5.0, 4.5, 4.4, 5.0, 5.1, 4.8, 5.1, 4.6, 5.3, 5.0, 7.0, 6.4, 6.9, 5.5, 6.5, 5.7, 6.3, 4.9, 6.6, 5.2, 5.0, 5.9, 6.0, 6.1, 5.6, 6.7, 5.6, 5.8, 6.2, 5.6, 5.9, 6.1, 6.3, 6.1, 6.4, 6.6, 6.8, 6.7, 6.0, 5.7, 5.5, 5.5, 5.8, 6.0, 5.4, 6.0, 6.7, 6.3, 5.6, 5.5, 5.5, 6.1, 5.8, 5.0, 5.6, 5.7, 5.7, 6.2, 5.1, 5.7, 6.3, 5.8, 7.1, 6.3, 6.5, 7.6, 4.9, 7.3, 6.7, 7.2, 6.5, 6.4, 6.8, 5.7, 5.8, 6.4, 6.5, 7.7, 7.7, 6.0, 6.9, 5.6, 7.7, 6.3, 6.7, 7.2, 6.2, 6.1, 6.4, 7.2, 7.4, 7.9, 6.4, 6.3, 6.1, 7.7, 6.3, 6.4, 6.0, 6.9, 6.7, 6.9, 5.8, 6.8, 6.7, 6.7, 6.3, 6.5, 6.2, 5.9]"
      ]
     },
     "execution_count": 50,
     "metadata": {},
     "output_type": "execute_result"
    }
   ],
   "source": [
    "array"
   ]
  },
  {
   "cell_type": "code",
   "execution_count": 51,
   "id": "2fa9338a",
   "metadata": {},
   "outputs": [],
   "source": [
    "let features: DataFrame = iris_df.select(vec![\"SepalWidthCm\"]).unwrap();\n",
    "let array = features.to_ndarray::<Float64Type>(IndexOrder::Fortran).unwrap().into_raw_vec();"
   ]
  },
  {
   "cell_type": "code",
   "execution_count": 52,
   "id": "76727c69-124d-471f-a239-1c7543ee620a",
   "metadata": {},
   "outputs": [
    {
     "data": {
      "text/plain": [
       "[3.5, 3.0, 3.2, 3.1, 3.6, 3.9, 3.4, 3.4, 2.9, 3.1, 3.7, 3.4, 3.0, 3.0, 4.0, 4.4, 3.9, 3.5, 3.8, 3.8, 3.4, 3.7, 3.6, 3.3, 3.4, 3.0, 3.4, 3.5, 3.4, 3.2, 3.1, 3.4, 4.1, 4.2, 3.1, 3.2, 3.5, 3.1, 3.0, 3.4, 3.5, 2.3, 3.2, 3.5, 3.8, 3.0, 3.8, 3.2, 3.7, 3.3, 3.2, 3.2, 3.1, 2.3, 2.8, 2.8, 3.3, 2.4, 2.9, 2.7, 2.0, 3.0, 2.2, 2.9, 2.9, 3.1, 3.0, 2.7, 2.2, 2.5, 3.2, 2.8, 2.5, 2.8, 2.9, 3.0, 2.8, 3.0, 2.9, 2.6, 2.4, 2.4, 2.7, 2.7, 3.0, 3.4, 3.1, 2.3, 3.0, 2.5, 2.6, 3.0, 2.6, 2.3, 2.7, 3.0, 2.9, 2.9, 2.5, 2.8, 3.3, 2.7, 3.0, 2.9, 3.0, 3.0, 2.5, 2.9, 2.5, 3.6, 3.2, 2.7, 3.0, 2.5, 2.8, 3.2, 3.0, 3.8, 2.6, 2.2, 3.2, 2.8, 2.8, 2.7, 3.3, 3.2, 2.8, 3.0, 2.8, 3.0, 2.8, 3.8, 2.8, 2.8, 2.6, 3.0, 3.4, 3.1, 3.0, 3.1, 3.1, 3.1, 2.7, 3.2, 3.3, 3.0, 2.5, 3.0, 3.4, 3.0]"
      ]
     },
     "execution_count": 52,
     "metadata": {},
     "output_type": "execute_result"
    }
   ],
   "source": [
    "array"
   ]
  },
  {
   "cell_type": "markdown",
   "id": "488b955d-373a-4fdd-bc2d-eee2754cc04c",
   "metadata": {},
   "source": [
    "---\n",
    "---"
   ]
  }
 ],
 "metadata": {
  "kernelspec": {
   "display_name": "Rust",
   "language": "rust",
   "name": "rust"
  },
  "language_info": {
   "codemirror_mode": "rust",
   "file_extension": ".rs",
   "mimetype": "text/rust",
   "name": "rust",
   "pygment_lexer": "rust",
   "version": ""
  }
 },
 "nbformat": 4,
 "nbformat_minor": 5
}
