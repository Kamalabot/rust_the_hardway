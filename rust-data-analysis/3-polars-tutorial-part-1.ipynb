{
 "cells": [
  {
   "cell_type": "markdown",
   "id": "3b86ffc2-eefc-493c-9828-727b5b882ed4",
   "metadata": {},
   "source": [
    "## Google Colab Rust Setup\n",
    "\n",
    "The following cell is used to set up a Rust environment on Colab. Don't execute it locally!\n",
    "\n",
    "Many thanks to [`mateusvmv`](https://github.com/mateusvmv) for this hack in [`gist.github.com/korakot/ae95315ea6a3a3b33ee26203998a59a3`](https://gist.github.com/korakot/ae95315ea6a3a3b33ee26203998a59a3?permalink_comment_id=4715636#gistcomment-4715636)."
   ]
  },
  {
   "cell_type": "code",
   "execution_count": null,
   "id": "8572698f-2fb8-461b-8e70-9f4a2b26b423",
   "metadata": {},
   "outputs": [],
   "source": [
    "# This script sets up and spins up a Jupyter Notebook environment with a Rust kernel using Nix and IPC Proxy. \n",
    "!wget -qO- https://gist.github.com/wiseaidev/2af6bef753d48565d11bcd478728c979/archive/3f6df40db09f3517ade41997b541b81f0976c12e.tar.gz | tar xvz --strip-components=1\n",
    "!bash setup_evcxr_kernel.sh"
   ]
  },
  {
   "cell_type": "markdown",
   "id": "1aa30ace",
   "metadata": {},
   "source": [
    "## Install Dependencies"
   ]
  },
  {
   "cell_type": "code",
   "execution_count": 2,
   "id": "68965891",
   "metadata": {},
   "outputs": [],
   "source": [
    ":dep chrono = { version = \"0.4.31\"}\n",
    "// or\n",
    "// :dep chrono = { git = \"https://github.com/chronotope/chrono\" }"
   ]
  },
  {
   "cell_type": "code",
   "execution_count": 3,
   "id": "b32d0646-96c4-41f8-8932-8da8cd878e14",
   "metadata": {},
   "outputs": [],
   "source": [
    ":dep polars = { version = \"0.35.0\", features = [\"describe\", \"lazy\", \"ndarray\", \"object\", \"dtype-struct\", \"concat_str\", \"mode\"] }\n",
    "// or\n",
    "// :dep blas-src = { git = \"https://github.com/pola-rs/polars\", features = [\"describe\", \"lazy\", \"ndarray\", \"object\", \"dtype-struct\", \"concat_str\", \"mode\"]}"
   ]
  },
  {
   "cell_type": "markdown",
   "id": "fc491aa8",
   "metadata": {},
   "source": [
    "<hr />"
   ]
  },
  {
   "cell_type": "markdown",
   "id": "25c33191",
   "metadata": {},
   "source": [
    "## Import Libraries"
   ]
  },
  {
   "cell_type": "code",
   "execution_count": 4,
   "id": "c419627f",
   "metadata": {},
   "outputs": [],
   "source": [
    "use polars::datatypes::DataType;\n",
    "use polars::prelude::*;\n",
    "use chrono::{DateTime, NaiveDateTime, TimeZone, Utc};\n",
    "use std::sync::Arc;"
   ]
  },
  {
   "cell_type": "markdown",
   "id": "c20c3f8f",
   "metadata": {},
   "source": [
    "<hr />"
   ]
  },
  {
   "cell_type": "markdown",
   "id": "e9b8c34b",
   "metadata": {},
   "source": [
    "## Series Object"
   ]
  },
  {
   "cell_type": "code",
   "execution_count": 5,
   "id": "93a70fc4",
   "metadata": {},
   "outputs": [
    {
     "data": {
      "text/plain": [
       "shape: (3,)\n",
       "Series: '' [i32]\n",
       "[\n",
       "\t1\n",
       "\t2\n",
       "\t3\n",
       "]"
      ]
     },
     "execution_count": 5,
     "metadata": {},
     "output_type": "execute_result"
    }
   ],
   "source": [
    "let series1: Series = [1, 2, 3].iter().collect();\n",
    "// or\n",
    "// let series1: Series = Series::new(\"\", &[1, 2, 3]);\n",
    "series1"
   ]
  },
  {
   "cell_type": "code",
   "execution_count": 6,
   "id": "7e79e7ad",
   "metadata": {},
   "outputs": [
    {
     "data": {
      "text/plain": [
       "shape: (4,)\n",
       "Series: 'seasons' [str]\n",
       "[\n",
       "\t\"Winter\"\n",
       "\t\"Spring\"\n",
       "\t\"Summer\"\n",
       "\t\"Fall\"\n",
       "]"
      ]
     },
     "execution_count": 6,
     "metadata": {},
     "output_type": "execute_result"
    }
   ],
   "source": [
    "let seasons_ser: Series = Series::new(\"seasons\", &[\"Winter\", \"Spring\", \"Summer\", \"Fall\"]);\n",
    "seasons_ser"
   ]
  },
  {
   "cell_type": "code",
   "execution_count": 7,
   "id": "cbd029ed",
   "metadata": {},
   "outputs": [
    {
     "data": {
      "text/plain": [
       "shape: (3,)\n",
       "Series: 'seasons' [i32]\n",
       "[\n",
       "\tnull\n",
       "\t1\n",
       "\t2\n",
       "]"
      ]
     },
     "execution_count": 7,
     "metadata": {},
     "output_type": "execute_result"
    }
   ],
   "source": [
    "let s: Series = Series::new(\"seasons\", &[None, Some(1), Some(2)]);\n",
    "s"
   ]
  },
  {
   "cell_type": "code",
   "execution_count": 8,
   "id": "dedcc436",
   "metadata": {},
   "outputs": [
    {
     "data": {
      "text/plain": [
       "false"
      ]
     },
     "execution_count": 8,
     "metadata": {},
     "output_type": "execute_result"
    }
   ],
   "source": [
    "Some(f64::NAN)==None"
   ]
  },
  {
   "cell_type": "code",
   "execution_count": 9,
   "id": "06e746cd",
   "metadata": {},
   "outputs": [
    {
     "data": {
      "text/plain": [
       "false"
      ]
     },
     "execution_count": 9,
     "metadata": {},
     "output_type": "execute_result"
    }
   ],
   "source": [
    "f64::NAN==f64::NAN"
   ]
  },
  {
   "cell_type": "code",
   "execution_count": 10,
   "id": "463ce99c",
   "metadata": {},
   "outputs": [
    {
     "data": {
      "text/plain": [
       "1"
      ]
     },
     "execution_count": 10,
     "metadata": {},
     "output_type": "execute_result"
    }
   ],
   "source": [
    "let s: Series = Series::new(\"seasons\", &[None, Some(1), Some(2)]);\n",
    "s.null_count()"
   ]
  },
  {
   "cell_type": "code",
   "execution_count": 11,
   "id": "d49b2899",
   "metadata": {},
   "outputs": [
    {
     "data": {
      "text/plain": [
       "shape: (2,)\n",
       "Series: 'seasons' [i32]\n",
       "[\n",
       "\t1\n",
       "\t2\n",
       "]"
      ]
     },
     "execution_count": 11,
     "metadata": {},
     "output_type": "execute_result"
    }
   ],
   "source": [
    "s.drop_nulls()"
   ]
  },
  {
   "cell_type": "code",
   "execution_count": 12,
   "id": "645e0a22",
   "metadata": {},
   "outputs": [
    {
     "data": {
      "text/plain": [
       "shape: (3,)\n",
       "Series: 'numbers' [i64]\n",
       "[\n",
       "\tnull\n",
       "\t1\n",
       "\t2\n",
       "]"
      ]
     },
     "execution_count": 12,
     "metadata": {},
     "output_type": "execute_result"
    }
   ],
   "source": [
    "let s: Series = Series::new(\"numbers\", &[Some(f64::NAN), Some(1.), Some(2.)]);\n",
    "s.cast(&DataType::Int64).unwrap()"
   ]
  },
  {
   "cell_type": "markdown",
   "id": "cc67b480",
   "metadata": {},
   "source": [
    "## Series Creation"
   ]
  },
  {
   "cell_type": "code",
   "execution_count": 13,
   "id": "6670bae7",
   "metadata": {},
   "outputs": [
    {
     "data": {
      "text/plain": [
       "shape: (0,)\n",
       "Series: 'Height' [f32]\n",
       "[\n",
       "]"
      ]
     },
     "execution_count": 13,
     "metadata": {},
     "output_type": "execute_result"
    }
   ],
   "source": [
    "let s = Series::new_empty(\"Height\", &DataType::Float32);\n",
    "s"
   ]
  },
  {
   "cell_type": "code",
   "execution_count": 14,
   "id": "24dfadbd",
   "metadata": {},
   "outputs": [
    {
     "data": {
      "text/plain": [
       "shape: (2,)\n",
       "Series: 'employees' [str]\n",
       "[\n",
       "\t\"Mahmoud\"\n",
       "\t\"Ferris\"\n",
       "]"
      ]
     },
     "execution_count": 14,
     "metadata": {},
     "output_type": "execute_result"
    }
   ],
   "source": [
    "let s: Series = Series::new(\"employees\", &[\"Mahmoud\", \"Ferris\"]);\n",
    "s"
   ]
  },
  {
   "cell_type": "code",
   "execution_count": 15,
   "id": "7d0ea699",
   "metadata": {},
   "outputs": [
    {
     "data": {
      "text/plain": [
       "\"employees\""
      ]
     },
     "execution_count": 15,
     "metadata": {},
     "output_type": "execute_result"
    }
   ],
   "source": [
    "let s: Series = Series::new(\"employees\", &[\"Mahmoud\", \"Ferris\"]);\n",
    "s.name()"
   ]
  },
  {
   "cell_type": "code",
   "execution_count": 16,
   "id": "8e7e608d",
   "metadata": {},
   "outputs": [
    {
     "data": {
      "text/plain": [
       "shape: (2,)\n",
       "Series: 'employees' [str]\n",
       "[\n",
       "\t\"Mahmoud\"\n",
       "\t\"Ferris\"\n",
       "]"
      ]
     },
     "execution_count": 16,
     "metadata": {},
     "output_type": "execute_result"
    }
   ],
   "source": [
    "let s: Series = Series::new(\"employees\", &vec![\"Mahmoud\", \"Ferris\"]);\n",
    "s"
   ]
  },
  {
   "cell_type": "code",
   "execution_count": 17,
   "id": "fb2c6794",
   "metadata": {},
   "outputs": [
    {
     "data": {
      "text/plain": [
       "shape: (3,)\n",
       "Series: 'b' [f64]\n",
       "[\n",
       "\t1.0\n",
       "\t2.0\n",
       "\t3.0\n",
       "]"
      ]
     },
     "execution_count": 17,
     "metadata": {},
     "output_type": "execute_result"
    }
   ],
   "source": [
    "let s = Float64Chunked::new(\"b\", &[1., 2., 3.]).into_series();\n",
    "s"
   ]
  },
  {
   "cell_type": "markdown",
   "id": "a5b3b256",
   "metadata": {},
   "source": [
    "## Datetime Type"
   ]
  },
  {
   "cell_type": "code",
   "execution_count": 18,
   "id": "a7482f64",
   "metadata": {},
   "outputs": [
    {
     "data": {
      "text/plain": [
       "shape: (1,)\n",
       "Series: 'b' [date]\n",
       "[\n",
       "\t2020-01-01\n",
       "]"
      ]
     },
     "execution_count": 18,
     "metadata": {},
     "output_type": "execute_result"
    }
   ],
   "source": [
    "let date: DateTime<Utc> = Utc.with_ymd_and_hms(2020, 1, 1, 0, 0, 0).unwrap();\n",
    "let s = Series::new(\"b\", &[date.date_naive()]);\n",
    "s"
   ]
  },
  {
   "cell_type": "markdown",
   "id": "bc8b27b1",
   "metadata": {},
   "source": [
    "## Indexing & Slicing"
   ]
  },
  {
   "cell_type": "code",
   "execution_count": 19,
   "id": "2b03ff7f",
   "metadata": {},
   "outputs": [
    {
     "data": {
      "text/plain": [
       "shape: (2,)\n",
       "Series: 'employees' [str]\n",
       "[\n",
       "\t\"Ferris\"\n",
       "\t\"Mahmoud\"\n",
       "]"
      ]
     },
     "execution_count": 19,
     "metadata": {},
     "output_type": "execute_result"
    }
   ],
   "source": [
    "let s: Series = Series::new(\"employees\", &vec![\"Ferris\", \"Mahmoud\"]);\n",
    "s"
   ]
  },
  {
   "cell_type": "code",
   "execution_count": 20,
   "id": "e3827fa2",
   "metadata": {},
   "outputs": [
    {
     "data": {
      "text/plain": [
       "shape: (1,)\n",
       "Series: 'employees' [str]\n",
       "[\n",
       "\t\"Mahmoud\"\n",
       "]"
      ]
     },
     "execution_count": 20,
     "metadata": {},
     "output_type": "execute_result"
    }
   ],
   "source": [
    "let s: Series = Series::new(\"employees\", &vec![\"Mahmoud\", \"Ferris\"]);\n",
    "s.slice(0, 1)"
   ]
  },
  {
   "cell_type": "markdown",
   "id": "826bc957",
   "metadata": {},
   "source": [
    "## Length"
   ]
  },
  {
   "cell_type": "code",
   "execution_count": 21,
   "id": "61abe754",
   "metadata": {},
   "outputs": [
    {
     "data": {
      "text/plain": [
       "2"
      ]
     },
     "execution_count": 21,
     "metadata": {},
     "output_type": "execute_result"
    }
   ],
   "source": [
    "let s: Series = Series::new(\"employees\", &vec![\"Mahmoud\", \"Ferris\"]);\n",
    "s.len()"
   ]
  },
  {
   "cell_type": "markdown",
   "id": "e05b2e71",
   "metadata": {},
   "source": [
    "## Reverse"
   ]
  },
  {
   "cell_type": "code",
   "execution_count": 22,
   "id": "cf75bcf3",
   "metadata": {},
   "outputs": [
    {
     "data": {
      "text/plain": [
       "shape: (2,)\n",
       "Series: 'employees' [str]\n",
       "[\n",
       "\t\"Ferris\"\n",
       "\t\"Mahmoud\"\n",
       "]"
      ]
     },
     "execution_count": 22,
     "metadata": {},
     "output_type": "execute_result"
    }
   ],
   "source": [
    "let s: Series = Series::new(\"employees\", &vec![\"Mahmoud\", \"Ferris\"]);\n",
    "s.reverse()"
   ]
  },
  {
   "cell_type": "markdown",
   "id": "cfb9140d",
   "metadata": {},
   "source": [
    "## Empty"
   ]
  },
  {
   "cell_type": "code",
   "execution_count": 23,
   "id": "253dac33",
   "metadata": {},
   "outputs": [
    {
     "data": {
      "text/plain": [
       "false"
      ]
     },
     "execution_count": 23,
     "metadata": {},
     "output_type": "execute_result"
    }
   ],
   "source": [
    "let s: Series = Series::new(\"employees\", &vec![\"Mahmoud\", \"Ferris\"]);\n",
    "s.is_empty()"
   ]
  },
  {
   "cell_type": "markdown",
   "id": "8beb40eb",
   "metadata": {},
   "source": [
    "## Drop nulls"
   ]
  },
  {
   "cell_type": "code",
   "execution_count": 24,
   "id": "33bf049f",
   "metadata": {},
   "outputs": [
    {
     "data": {
      "text/plain": [
       "shape: (1,)\n",
       "Series: 'employees' [str]\n",
       "[\n",
       "\t\"Ferris\"\n",
       "]"
      ]
     },
     "execution_count": 24,
     "metadata": {},
     "output_type": "execute_result"
    }
   ],
   "source": [
    "let s: Series = Series::new(\"employees\", &vec![Some(\"Ferris\"), None]);\n",
    "s.drop_nulls()"
   ]
  },
  {
   "cell_type": "markdown",
   "id": "416fbba6",
   "metadata": {},
   "source": [
    "## Summarizing Series"
   ]
  },
  {
   "cell_type": "code",
   "execution_count": 25,
   "id": "63fac5d7",
   "metadata": {},
   "outputs": [
    {
     "data": {
      "text/plain": [
       "shape: (10,)\n",
       "Series: 'Measurements' [f64]\n",
       "[\n",
       "\t-1.01\n",
       "\t0.86\n",
       "\t-4.6\n",
       "\t3.98\n",
       "\t0.53\n",
       "\t-7.04\n",
       "\t3.98\n",
       "\t0.53\n",
       "\t-7.04\n",
       "\t0.86\n",
       "]"
      ]
     },
     "execution_count": 25,
     "metadata": {},
     "output_type": "execute_result"
    }
   ],
   "source": [
    "let s = Series::new(\"Measurements\", &[-1.01,  0.86, -4.60, 3.98,  0.53, -7.04, 3.98,  0.53, -7.04, 0.86, 0.16, 0.26, 0.81]);\n",
    "\n",
    "// First 10 rows\n",
    "s.head(None)"
   ]
  },
  {
   "cell_type": "code",
   "execution_count": 26,
   "id": "05830b3f",
   "metadata": {},
   "outputs": [
    {
     "data": {
      "text/plain": [
       "shape: (5,)\n",
       "Series: 'Measurements' [f64]\n",
       "[\n",
       "\t-1.01\n",
       "\t0.86\n",
       "\t-4.6\n",
       "\t3.98\n",
       "\t0.53\n",
       "]"
      ]
     },
     "execution_count": 26,
     "metadata": {},
     "output_type": "execute_result"
    }
   ],
   "source": [
    "let s = Series::new(\"Measurements\", &[-1.01,  0.86, -4.60, 3.98,  0.53, -7.04, 3.98,  0.53, -7.04, 0.86, 0.16, 0.26, 0.81]);\n",
    "\n",
    "// First 5 rows\n",
    "s.head(Some(5))"
   ]
  },
  {
   "cell_type": "code",
   "execution_count": 27,
   "id": "61cdca14",
   "metadata": {},
   "outputs": [
    {
     "data": {
      "text/plain": [
       "shape: (10,)\n",
       "Series: 'Measurements' [f64]\n",
       "[\n",
       "\t3.98\n",
       "\t0.53\n",
       "\t-7.04\n",
       "\t3.98\n",
       "\t0.53\n",
       "\t-7.04\n",
       "\t0.86\n",
       "\t0.16\n",
       "\t0.26\n",
       "\t0.81\n",
       "]"
      ]
     },
     "execution_count": 27,
     "metadata": {},
     "output_type": "execute_result"
    }
   ],
   "source": [
    "let s = Series::new(\"Measurements\", &[-1.01,  0.86, -4.60, 3.98,  0.53, -7.04, 3.98,  0.53, -7.04, 0.86, 0.16, 0.26, 0.81]);\n",
    "\n",
    "// Last 10 rows\n",
    "s.tail(None)"
   ]
  },
  {
   "cell_type": "markdown",
   "id": "119d2e5d",
   "metadata": {},
   "source": [
    "## Append"
   ]
  },
  {
   "cell_type": "code",
   "execution_count": 28,
   "id": "f65162bd",
   "metadata": {},
   "outputs": [
    {
     "data": {
      "text/plain": [
       "Ok(shape: (4,)\n",
       "Series: 'Age' [f64]\n",
       "[\n",
       "\t23.0\n",
       "\t27.0\n",
       "\t1.84\n",
       "\t1.78\n",
       "])"
      ]
     },
     "execution_count": 28,
     "metadata": {},
     "output_type": "execute_result"
    }
   ],
   "source": [
    "let mut s1 = Series::new(\"Age\", &[23., 27.]);\n",
    "let s2 = Series::new(\"Height\", &[1.84, 1.78]);\n",
    "s1.append(&s2)"
   ]
  },
  {
   "cell_type": "markdown",
   "id": "2a4e7b6d",
   "metadata": {},
   "source": [
    "## Cast"
   ]
  },
  {
   "cell_type": "code",
   "execution_count": 29,
   "id": "3b7acd52",
   "metadata": {},
   "outputs": [
    {
     "data": {
      "text/plain": [
       "shape: (9,)\n",
       "Series: 'Measurements' [i32]\n",
       "[\n",
       "\t-1\n",
       "\t0\n",
       "\t-4\n",
       "\t3\n",
       "\t0\n",
       "\t-7\n",
       "\t3\n",
       "\t0\n",
       "\t-7\n",
       "]"
      ]
     },
     "execution_count": 29,
     "metadata": {},
     "output_type": "execute_result"
    }
   ],
   "source": [
    "let mut s = Series::new(\"Measurements\", &[-1.01,  0.86, -4.60, 3.98,  0.53, -7.04, 3.98,  0.53, -7.04]);\n",
    "s.cast(&DataType::Int32).unwrap()"
   ]
  },
  {
   "cell_type": "markdown",
   "id": "da00cf52",
   "metadata": {},
   "source": [
    "## Fill Nulls"
   ]
  },
  {
   "cell_type": "markdown",
   "id": "c705ff50",
   "metadata": {},
   "source": [
    "### 1. Forward fill"
   ]
  },
  {
   "cell_type": "code",
   "execution_count": 30,
   "id": "a239fa4b",
   "metadata": {},
   "outputs": [
    {
     "data": {
      "text/plain": [
       "shape: (6,)\n",
       "Series: 'some_missing' [i32]\n",
       "[\n",
       "\t1\n",
       "\t1\n",
       "\t3\n",
       "\t4\n",
       "\t4\n",
       "\t6\n",
       "]"
      ]
     },
     "execution_count": 30,
     "metadata": {},
     "output_type": "execute_result"
    }
   ],
   "source": [
    "let s = Series::new(\"some_missing\", &[Some(1), None, Some(3), Some(4), None, Some(6)]);\n",
    "let filled = s.fill_null(FillNullStrategy::Forward(None)).unwrap();\n",
    "filled"
   ]
  },
  {
   "cell_type": "markdown",
   "id": "6284cf8e",
   "metadata": {},
   "source": [
    "### 2. Backward fill"
   ]
  },
  {
   "cell_type": "code",
   "execution_count": 31,
   "id": "cfae8d65",
   "metadata": {},
   "outputs": [
    {
     "data": {
      "text/plain": [
       "shape: (6,)\n",
       "Series: 'some_missing' [i32]\n",
       "[\n",
       "\t1\n",
       "\t3\n",
       "\t3\n",
       "\t4\n",
       "\t6\n",
       "\t6\n",
       "]"
      ]
     },
     "execution_count": 31,
     "metadata": {},
     "output_type": "execute_result"
    }
   ],
   "source": [
    "let s = Series::new(\"some_missing\", &[Some(1), None, Some(3), Some(4), None, Some(6)]);\n",
    "let filled = s.fill_null(FillNullStrategy::Backward(None)).unwrap();\n",
    "filled"
   ]
  },
  {
   "cell_type": "markdown",
   "id": "ffdd6a68",
   "metadata": {},
   "source": [
    "### 3. Mean fill"
   ]
  },
  {
   "cell_type": "code",
   "execution_count": 32,
   "id": "0d33ffa2",
   "metadata": {},
   "outputs": [
    {
     "data": {
      "text/plain": [
       "shape: (6,)\n",
       "Series: 'some_missing' [i32]\n",
       "[\n",
       "\t1\n",
       "\t3\n",
       "\t3\n",
       "\t4\n",
       "\t3\n",
       "\t6\n",
       "]"
      ]
     },
     "execution_count": 32,
     "metadata": {},
     "output_type": "execute_result"
    }
   ],
   "source": [
    "let s = Series::new(\"some_missing\", &[Some(1), None, Some(3), Some(4), None, Some(6)]);\n",
    "let filled = s.fill_null(FillNullStrategy::Mean).unwrap();\n",
    "filled"
   ]
  },
  {
   "cell_type": "markdown",
   "id": "7b24a839",
   "metadata": {},
   "source": [
    "### 4. Min fill"
   ]
  },
  {
   "cell_type": "code",
   "execution_count": 33,
   "id": "a68a40ec",
   "metadata": {},
   "outputs": [
    {
     "data": {
      "text/plain": [
       "shape: (6,)\n",
       "Series: 'some_missing' [i32]\n",
       "[\n",
       "\t1\n",
       "\t1\n",
       "\t3\n",
       "\t4\n",
       "\t1\n",
       "\t6\n",
       "]"
      ]
     },
     "execution_count": 33,
     "metadata": {},
     "output_type": "execute_result"
    }
   ],
   "source": [
    "let s = Series::new(\"some_missing\", &[Some(1), None, Some(3), Some(4), None, Some(6)]);\n",
    "let filled = s.fill_null(FillNullStrategy::Min).unwrap();\n",
    "filled"
   ]
  },
  {
   "cell_type": "markdown",
   "id": "4fc185fe",
   "metadata": {},
   "source": [
    "### 5. Max fill"
   ]
  },
  {
   "cell_type": "code",
   "execution_count": 34,
   "id": "4ff734e7",
   "metadata": {},
   "outputs": [
    {
     "data": {
      "text/plain": [
       "shape: (6,)\n",
       "Series: 'some_missing' [i32]\n",
       "[\n",
       "\t1\n",
       "\t6\n",
       "\t3\n",
       "\t4\n",
       "\t6\n",
       "\t6\n",
       "]"
      ]
     },
     "execution_count": 34,
     "metadata": {},
     "output_type": "execute_result"
    }
   ],
   "source": [
    "let s = Series::new(\"some_missing\", &[Some(1), None, Some(3), Some(4), None, Some(6)]);\n",
    "let filled = s.fill_null(FillNullStrategy::Max).unwrap();\n",
    "filled"
   ]
  },
  {
   "cell_type": "markdown",
   "id": "c7dd313b",
   "metadata": {},
   "source": [
    "## Sampling"
   ]
  },
  {
   "cell_type": "code",
   "execution_count": 35,
   "id": "0ec56831",
   "metadata": {},
   "outputs": [
    {
     "data": {
      "text/plain": [
       "Ok(shape: (4,)\n",
       "Series: 'Measurements' [f64]\n",
       "[\n",
       "\t0.53\n",
       "\t-1.01\n",
       "\t3.98\n",
       "\t0.53\n",
       "])"
      ]
     },
     "execution_count": 35,
     "metadata": {},
     "output_type": "execute_result"
    }
   ],
   "source": [
    "let s = Series::new(\"Measurements\", &[-1.01,  0.86, -4.60, 3.98,  0.53, -7.04, 3.98,  0.53, -7.04]);\n",
    "// Take 4 samples with replacement and with shuffle (we are talkin' probability here).\n",
    "s.sample_n(4, true, true, Some(9999))"
   ]
  },
  {
   "cell_type": "markdown",
   "id": "83fba4cd",
   "metadata": {},
   "source": [
    "## Descriptive statistics"
   ]
  },
  {
   "cell_type": "markdown",
   "id": "43b5f559",
   "metadata": {},
   "source": [
    "### Measures of central tendency"
   ]
  },
  {
   "cell_type": "markdown",
   "id": "a7ee4941",
   "metadata": {},
   "source": [
    "### 1. Mean"
   ]
  },
  {
   "cell_type": "code",
   "execution_count": 36,
   "id": "9e0af37a",
   "metadata": {},
   "outputs": [
    {
     "data": {
      "text/plain": [
       "-1.09"
      ]
     },
     "execution_count": 36,
     "metadata": {},
     "output_type": "execute_result"
    }
   ],
   "source": [
    "let s = Series::new(\"Measurements\", &[-1.01,  0.86, -4.60, 3.98,  0.53, -7.04, 3.98,  0.53, -7.04]);\n",
    "s.mean().unwrap()"
   ]
  },
  {
   "cell_type": "markdown",
   "id": "ec87e5c9",
   "metadata": {},
   "source": [
    "### 2. Median"
   ]
  },
  {
   "cell_type": "code",
   "execution_count": 37,
   "id": "64eb9d9e",
   "metadata": {},
   "outputs": [
    {
     "data": {
      "text/plain": [
       "0.53"
      ]
     },
     "execution_count": 37,
     "metadata": {},
     "output_type": "execute_result"
    }
   ],
   "source": [
    "let s = Series::new(\"Measurements\", &[-1.01,  0.86, -4.60, 3.98,  0.53, -7.04, 3.98,  0.53, -7.04]);\n",
    "s.median().unwrap()"
   ]
  },
  {
   "cell_type": "markdown",
   "id": "5d5816e3",
   "metadata": {},
   "source": [
    "### 3. Mode"
   ]
  },
  {
   "cell_type": "code",
   "execution_count": 40,
   "id": "d60f2d8c",
   "metadata": {},
   "outputs": [
    {
     "data": {
      "text/plain": [
       "shape: (3,)\n",
       "Series: 'Measurements' [f64]\n",
       "[\n",
       "\t-7.04\n",
       "\t3.98\n",
       "\t0.53\n",
       "]"
      ]
     },
     "execution_count": 40,
     "metadata": {},
     "output_type": "execute_result"
    }
   ],
   "source": [
    "let s = Series::new(\"Measurements\", &[-1.01,  0.86, -4.60, 3.98,  0.53, -7.04, 3.98,  0.53, -7.04]);\n",
    "mode::mode(&s).unwrap()"
   ]
  },
  {
   "cell_type": "markdown",
   "id": "b6ea8b15",
   "metadata": {},
   "source": [
    "### Measures of spread"
   ]
  },
  {
   "cell_type": "markdown",
   "id": "6dae9d26",
   "metadata": {},
   "source": [
    "### 1. Interquartile range"
   ]
  },
  {
   "cell_type": "code",
   "execution_count": 41,
   "id": "4a2af097",
   "metadata": {},
   "outputs": [
    {
     "data": {
      "text/plain": [
       "shape: (1,)\n",
       "Series: 'Measurements' [f64]\n",
       "[\n",
       "\t0.86\n",
       "]"
      ]
     },
     "execution_count": 41,
     "metadata": {},
     "output_type": "execute_result"
    }
   ],
   "source": [
    "let s = Series::new(\"Measurements\", &[-1.01,  0.86, -4.60, 3.98,  0.53, -7.04, 3.98,  0.53, -7.04]);\n",
    "s.quantile_as_series(0.75, QuantileInterpolOptions::Nearest).unwrap()"
   ]
  },
  {
   "cell_type": "markdown",
   "id": "cb28a41d",
   "metadata": {},
   "source": [
    "---\n",
    "---"
   ]
  }
 ],
 "metadata": {
  "kernelspec": {
   "display_name": "Rust",
   "language": "rust",
   "name": "rust"
  },
  "language_info": {
   "codemirror_mode": "rust",
   "file_extension": ".rs",
   "mimetype": "text/rust",
   "name": "Rust",
   "pygment_lexer": "rust",
   "version": ""
  }
 },
 "nbformat": 4,
 "nbformat_minor": 5
}
