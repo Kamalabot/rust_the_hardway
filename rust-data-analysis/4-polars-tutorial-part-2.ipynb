{
 "cells": [
  {
   "cell_type": "markdown",
   "id": "3d3de788-4962-4e37-b74c-40d12f939401",
   "metadata": {},
   "source": [
    "## Google Colab Rust Setup\n",
    "\n",
    "The following cell is used to set up a Rust environment on Colab. Don't execute it locally!\n",
    "\n",
    "Many thanks to [`mateusvmv`](https://github.com/mateusvmv) for this hack in [`gist.github.com/korakot/ae95315ea6a3a3b33ee26203998a59a3`](https://gist.github.com/korakot/ae95315ea6a3a3b33ee26203998a59a3?permalink_comment_id=4715636#gistcomment-4715636)."
   ]
  },
  {
   "cell_type": "code",
   "execution_count": null,
   "id": "72c53213-90b5-496c-92c9-cf2bbedc07e0",
   "metadata": {},
   "outputs": [],
   "source": [
    "# This script sets up and spins up a Jupyter Notebook environment with a Rust kernel using Nix and IPC Proxy. \n",
    "!wget -qO- https://gist.github.com/wiseaidev/2af6bef753d48565d11bcd478728c979/archive/3f6df40db09f3517ade41997b541b81f0976c12e.tar.gz | tar xvz --strip-components=1\n",
    "!bash setup_evcxr_kernel.sh"
   ]
  },
  {
   "cell_type": "markdown",
   "id": "1aa30ace",
   "metadata": {},
   "source": [
    "## Install Dependencies"
   ]
  },
  {
   "cell_type": "code",
   "execution_count": 2,
   "id": "68965891",
   "metadata": {},
   "outputs": [],
   "source": [
    ":dep polars = { version = \"0.35.0\", features = [\"describe\", \"lazy\", \"ndarray\", \"object\", \"dtype-struct\", \"concat_str\", \"mode\"] }\n",
    "// or\n",
    "// :dep blas-src = { git = \"https://github.com/pola-rs/polars\", features = [\"describe\", \"lazy\", \"ndarray\", \"object\", \"dtype-struct\", \"concat_str\", \"mode\"]}"
   ]
  },
  {
   "cell_type": "code",
   "execution_count": 64,
   "id": "fb404053-115b-4a13-86ae-63e3dde91a82",
   "metadata": {},
   "outputs": [],
   "source": [
    ":dep either = { version = \"1.9.0\" }\n",
    "// or\n",
    "// :dep blas-src = { git = \"https://github.com/bluss/either\" }"
   ]
  },
  {
   "cell_type": "markdown",
   "id": "fc491aa8",
   "metadata": {},
   "source": [
    "---"
   ]
  },
  {
   "cell_type": "markdown",
   "id": "25c33191",
   "metadata": {},
   "source": [
    "## Import Libraries"
   ]
  },
  {
   "cell_type": "code",
   "execution_count": 66,
   "id": "c419627f",
   "metadata": {},
   "outputs": [],
   "source": [
    "use std::path::Path;\n",
    "use polars::prelude::*;\n",
    "use either::Either;"
   ]
  },
  {
   "cell_type": "markdown",
   "id": "c20c3f8f",
   "metadata": {},
   "source": [
    "---"
   ]
  },
  {
   "cell_type": "markdown",
   "id": "76fb382f",
   "metadata": {},
   "source": [
    "## DataFrame Object"
   ]
  },
  {
   "cell_type": "markdown",
   "id": "a15f8d34",
   "metadata": {},
   "source": [
    "### DataFrame Initialization"
   ]
  },
  {
   "cell_type": "code",
   "execution_count": 4,
   "id": "99cd6658",
   "metadata": {},
   "outputs": [
    {
     "data": {
      "text/plain": [
       "shape: (0, 0)\n",
       "┌┐\n",
       "╞╡\n",
       "└┘"
      ]
     },
     "execution_count": 4,
     "metadata": {},
     "output_type": "execute_result"
    }
   ],
   "source": [
    "let df = DataFrame::default();\n",
    "df"
   ]
  },
  {
   "cell_type": "code",
   "execution_count": 5,
   "id": "a5b55a18",
   "metadata": {},
   "outputs": [
    {
     "data": {
      "text/plain": [
       "shape: (2, 3)\n",
       "┌─────────┬─────┬────────┐\n",
       "│ Name    ┆ Age ┆ Height │\n",
       "│ ---     ┆ --- ┆ ---    │\n",
       "│ str     ┆ i32 ┆ f64    │\n",
       "╞═════════╪═════╪════════╡\n",
       "│ Mahmoud ┆ 23  ┆ 1.84   │\n",
       "│ Ali     ┆ 27  ┆ 1.78   │\n",
       "└─────────┴─────┴────────┘"
      ]
     },
     "execution_count": 5,
     "metadata": {},
     "output_type": "execute_result"
    }
   ],
   "source": [
    "let s1 = Series::new(\"Name\", &[\"Mahmoud\", \"Ali\"]);\n",
    "let s2 = Series::new(\"Age\", &[23, 27]);\n",
    "let s3 = Series::new(\"Height\", &[1.84, 1.78]);\n",
    "\n",
    "let df: DataFrame = DataFrame::new(vec![s1, s2, s3]).unwrap();\n",
    "df"
   ]
  },
  {
   "cell_type": "markdown",
   "id": "497b8b2d",
   "metadata": {},
   "source": [
    "### Describe"
   ]
  },
  {
   "cell_type": "code",
   "execution_count": 6,
   "id": "60726c2c",
   "metadata": {},
   "outputs": [
    {
     "data": {
      "text/plain": [
       "shape: (3, 3)\n",
       "┌─────────────┬─────────┬────────┐\n",
       "│ categorical ┆ numeric ┆ object │\n",
       "│ ---         ┆ ---     ┆ ---    │\n",
       "│ str         ┆ i32     ┆ str    │\n",
       "╞═════════════╪═════════╪════════╡\n",
       "│ d           ┆ 1       ┆ a      │\n",
       "│ e           ┆ 2       ┆ b      │\n",
       "│ f           ┆ 3       ┆ c      │\n",
       "└─────────────┴─────────┴────────┘"
      ]
     },
     "execution_count": 6,
     "metadata": {},
     "output_type": "execute_result"
    }
   ],
   "source": [
    "let df1: DataFrame = df!(\"categorical\" => &[\"d\",\"e\",\"f\"],\n",
    "                         \"numeric\" => &[1, 2, 3],\n",
    "                         \"object\" => &[\"a\", \"b\", \"c\"]).unwrap();\n",
    "df1"
   ]
  },
  {
   "cell_type": "code",
   "execution_count": 7,
   "id": "1e5f57df",
   "metadata": {},
   "outputs": [
    {
     "data": {
      "text/plain": [
       "shape: (9, 4)\n",
       "┌────────────┬─────────────┬─────────┬────────┐\n",
       "│ describe   ┆ categorical ┆ numeric ┆ object │\n",
       "│ ---        ┆ ---         ┆ ---     ┆ ---    │\n",
       "│ str        ┆ str         ┆ f64     ┆ str    │\n",
       "╞════════════╪═════════════╪═════════╪════════╡\n",
       "│ count      ┆ 3           ┆ 3.0     ┆ 3      │\n",
       "│ null_count ┆ 0           ┆ 0.0     ┆ 0      │\n",
       "│ mean       ┆ null        ┆ 2.0     ┆ null   │\n",
       "│ std        ┆ null        ┆ 1.0     ┆ null   │\n",
       "│ min        ┆ d           ┆ 1.0     ┆ a      │\n",
       "│ 25%        ┆ null        ┆ 1.5     ┆ null   │\n",
       "│ 50%        ┆ null        ┆ 2.0     ┆ null   │\n",
       "│ 75%        ┆ null        ┆ 2.5     ┆ null   │\n",
       "│ max        ┆ f           ┆ 3.0     ┆ c      │\n",
       "└────────────┴─────────────┴─────────┴────────┘"
      ]
     },
     "execution_count": 7,
     "metadata": {},
     "output_type": "execute_result"
    }
   ],
   "source": [
    "let df2: DataFrame = df1.describe(None).unwrap();\n",
    "df2"
   ]
  },
  {
   "cell_type": "markdown",
   "id": "29dccc36",
   "metadata": {},
   "source": [
    "### Head"
   ]
  },
  {
   "cell_type": "code",
   "execution_count": 8,
   "id": "3601ce5f",
   "metadata": {},
   "outputs": [
    {
     "data": {
      "text/plain": [
       "shape: (2, 3)\n",
       "┌─────────┬─────┬────────┐\n",
       "│ Name    ┆ Age ┆ Height │\n",
       "│ ---     ┆ --- ┆ ---    │\n",
       "│ str     ┆ i32 ┆ f64    │\n",
       "╞═════════╪═════╪════════╡\n",
       "│ Mahmoud ┆ 23  ┆ 1.84   │\n",
       "│ Bob     ┆ 27  ┆ 1.78   │\n",
       "└─────────┴─────┴────────┘"
      ]
     },
     "execution_count": 8,
     "metadata": {},
     "output_type": "execute_result"
    }
   ],
   "source": [
    "let df: DataFrame = df!(\"Name\" => &[\"Mahmoud\", \"Bob\"],\n",
    "                                      \"Age\" => &[23, 27],\n",
    "                                      \"Height\" => &[1.84, 1.78]).unwrap();\n",
    "// First 10 rows\n",
    "df.head(None)"
   ]
  },
  {
   "cell_type": "code",
   "execution_count": 9,
   "id": "30677858",
   "metadata": {},
   "outputs": [
    {
     "data": {
      "text/plain": [
       "shape: (1, 3)\n",
       "┌─────────┬─────┬────────┐\n",
       "│ Name    ┆ Age ┆ Height │\n",
       "│ ---     ┆ --- ┆ ---    │\n",
       "│ str     ┆ i32 ┆ f64    │\n",
       "╞═════════╪═════╪════════╡\n",
       "│ Mahmoud ┆ 23  ┆ 1.84   │\n",
       "└─────────┴─────┴────────┘"
      ]
     },
     "execution_count": 9,
     "metadata": {},
     "output_type": "execute_result"
    }
   ],
   "source": [
    "let df: DataFrame = df!(\"Name\" => &[\"Mahmoud\", \"Bob\"],\n",
    "                                      \"Age\" => &[23, 27],\n",
    "                                      \"Height\" => &[1.84, 1.78]).unwrap();\n",
    "// First row\n",
    "df.head(Some(1))"
   ]
  },
  {
   "cell_type": "markdown",
   "id": "abc1a959",
   "metadata": {},
   "source": [
    "### Tail"
   ]
  },
  {
   "cell_type": "code",
   "execution_count": 10,
   "id": "a3fa7318",
   "metadata": {},
   "outputs": [
    {
     "data": {
      "text/plain": [
       "shape: (2, 3)\n",
       "┌─────────┬─────┬────────┐\n",
       "│ Name    ┆ Age ┆ Height │\n",
       "│ ---     ┆ --- ┆ ---    │\n",
       "│ str     ┆ i32 ┆ f64    │\n",
       "╞═════════╪═════╪════════╡\n",
       "│ Mahmoud ┆ 23  ┆ 1.84   │\n",
       "│ Bob     ┆ 27  ┆ 1.78   │\n",
       "└─────────┴─────┴────────┘"
      ]
     },
     "execution_count": 10,
     "metadata": {},
     "output_type": "execute_result"
    }
   ],
   "source": [
    "let df: DataFrame = df!(\"Name\" => &[\"Mahmoud\", \"Bob\"],\n",
    "                                      \"Age\" => &[23, 27],\n",
    "                                      \"Height\" => &[1.84, 1.78]).unwrap();\n",
    "// Last 10 rows\n",
    "df.tail(None)"
   ]
  },
  {
   "cell_type": "code",
   "execution_count": 11,
   "id": "534ec45a",
   "metadata": {},
   "outputs": [
    {
     "data": {
      "text/plain": [
       "shape: (1, 3)\n",
       "┌──────┬─────┬────────┐\n",
       "│ Name ┆ Age ┆ Height │\n",
       "│ ---  ┆ --- ┆ ---    │\n",
       "│ str  ┆ i32 ┆ f64    │\n",
       "╞══════╪═════╪════════╡\n",
       "│ Bob  ┆ 27  ┆ 1.78   │\n",
       "└──────┴─────┴────────┘"
      ]
     },
     "execution_count": 11,
     "metadata": {},
     "output_type": "execute_result"
    }
   ],
   "source": [
    "let df: DataFrame = df!(\"Name\" => &[\"Mahmoud\", \"Bob\"],\n",
    "                                      \"Age\" => &[23, 27],\n",
    "                                      \"Height\" => &[1.84, 1.78]).unwrap();\n",
    "// Last row\n",
    "df.tail(Some(1))"
   ]
  },
  {
   "cell_type": "markdown",
   "id": "45b391f7",
   "metadata": {},
   "source": [
    "### Indexing & Slicing"
   ]
  },
  {
   "cell_type": "code",
   "execution_count": 12,
   "id": "1a864463",
   "metadata": {},
   "outputs": [
    {
     "name": "stdout",
     "output_type": "stream",
     "text": [
      "shape: (3,)\n",
      "Series: 'Name' [str]\n",
      "[\n",
      "\t\"Mahmoud\"\n",
      "\t\"Ali\"\n",
      "\t\"ThePrimeagen\"\n",
      "]\n"
     ]
    },
    {
     "data": {
      "text/plain": [
       "()"
      ]
     },
     "execution_count": 12,
     "metadata": {},
     "output_type": "execute_result"
    }
   ],
   "source": [
    "let df = df!(\"Name\" => &[\"Mahmoud\", \"Ali\", \"ThePrimeagen\"],\n",
    "             \"Age\" => &[22, 25, 29],\n",
    "             \"Gender\" => &[\"M\", \"M\", \"M\"],\n",
    "             \"Salary\" => &[50000, 60000, 250000]).unwrap();\n",
    "{\n",
    "    let name_col = &df[\"Name\"];\n",
    "    println!(\"{}\", name_col);\n",
    "}\n",
    "// or\n",
    "// let name_col1 = &df[0];"
   ]
  },
  {
   "cell_type": "code",
   "execution_count": 13,
   "id": "034b323c",
   "metadata": {},
   "outputs": [
    {
     "data": {
      "text/plain": [
       "shape: (3, 2)\n",
       "┌──────────────┬─────┐\n",
       "│ Name         ┆ Age │\n",
       "│ ---          ┆ --- │\n",
       "│ str          ┆ i32 │\n",
       "╞══════════════╪═════╡\n",
       "│ Mahmoud      ┆ 22  │\n",
       "│ Ali          ┆ 25  │\n",
       "│ ThePrimeagen ┆ 29  │\n",
       "└──────────────┴─────┘"
      ]
     },
     "execution_count": 13,
     "metadata": {},
     "output_type": "execute_result"
    }
   ],
   "source": [
    "let df = df!(\"Name\" => &[\"Mahmoud\", \"Ali\", \"ThePrimeagen\"],\n",
    "             \"Age\" => &[22, 25, 29],\n",
    "             \"Gender\" => &[\"M\", \"M\", \"M\"],\n",
    "             \"Salary\" => &[50000, 60000, 250000]).unwrap();\n",
    "\n",
    "let name_age_cols = df.select([\"Name\", \"Age\"]).unwrap();\n",
    "name_age_cols"
   ]
  },
  {
   "cell_type": "code",
   "execution_count": 14,
   "id": "85fd56b5",
   "metadata": {},
   "outputs": [
    {
     "name": "stdout",
     "output_type": "stream",
     "text": [
      "Ok(shape: (3,)\n",
      "Series: 'Name' [str]\n",
      "[\n",
      "\t\"Mahmoud\"\n",
      "\t\"Ali\"\n",
      "\t\"ThePrimeagen\"\n",
      "])\n"
     ]
    },
    {
     "data": {
      "text/plain": [
       "()"
      ]
     },
     "execution_count": 14,
     "metadata": {},
     "output_type": "execute_result"
    }
   ],
   "source": [
    "let df = df!(\"Name\" => &[\"Mahmoud\", \"Ali\", \"ThePrimeagen\"],\n",
    "             \"Age\" => &[22, 25, 29],\n",
    "             \"Gender\" => &[\"M\", \"M\", \"M\"],\n",
    "             \"Salary\" => &[50000, 60000, 250000]).unwrap();\n",
    "\n",
    "{\n",
    "    let name_col = df.column(\"Name\");\n",
    "    println!(\"{:?}\", name_col);\n",
    "}"
   ]
  },
  {
   "cell_type": "code",
   "execution_count": 80,
   "id": "a8c3f7a6",
   "metadata": {},
   "outputs": [
    {
     "name": "stdout",
     "output_type": "stream",
     "text": [
      "shape: (1, 4)\n",
      "┌──────────────┬─────┬────────┬────────┐\n",
      "│ Name         ┆ Age ┆ Gender ┆ Salary │\n",
      "│ ---          ┆ --- ┆ ---    ┆ ---    │\n",
      "│ str          ┆ i32 ┆ str    ┆ i32    │\n",
      "╞══════════════╪═════╪════════╪════════╡\n",
      "│ ThePrimeagen ┆ 36  ┆ M      ┆ 250000 │\n",
      "└──────────────┴─────┴────────┴────────┘\n"
     ]
    }
   ],
   "source": [
    "let df = df!(\"Name\" => &[\"Mahmoud\", \"Ali\", \"ThePrimeagen\"],\n",
    "             \"Age\" => &[22, 25, 36],\n",
    "             \"Gender\" => &[\"M\", \"M\", \"M\"],\n",
    "             \"Salary\" => &[50000, 60000, 250000]).unwrap();\n",
    "\n",
    "\n",
    "let mask = df.column(\"Age\").expect(\"Age must exist!\").gt(25).unwrap();\n",
    "let filtered_data = df.filter(&mask).unwrap();\n",
    "println!(\"{:?}\", filtered_data);"
   ]
  },
  {
   "cell_type": "code",
   "execution_count": 81,
   "id": "a2f8e919",
   "metadata": {},
   "outputs": [
    {
     "data": {
      "text/plain": [
       "shape: (1, 4)\n",
       "┌──────────────┬─────┬────────┬────────┐\n",
       "│ Name         ┆ Age ┆ Gender ┆ Salary │\n",
       "│ ---          ┆ --- ┆ ---    ┆ ---    │\n",
       "│ str          ┆ i32 ┆ str    ┆ i32    │\n",
       "╞══════════════╪═════╪════════╪════════╡\n",
       "│ ThePrimeagen ┆ 36  ┆ M      ┆ 250000 │\n",
       "└──────────────┴─────┴────────┴────────┘"
      ]
     },
     "execution_count": 81,
     "metadata": {},
     "output_type": "execute_result"
    }
   ],
   "source": [
    "let df = df!(\"Name\" => &[\"Mahmoud\", \"Ali\", \"ThePrimeagen\"],\n",
    "             \"Age\" => &[22, 25, 36],\n",
    "             \"Gender\" => &[\"M\", \"M\", \"M\"],\n",
    "             \"Salary\" => &[50000, 60000, 250000]).unwrap();\n",
    "\n",
    "df.slice(2, 3)"
   ]
  },
  {
   "cell_type": "code",
   "execution_count": 89,
   "id": "265cdaea",
   "metadata": {},
   "outputs": [
    {
     "data": {
      "text/plain": [
       "shape: (4, 4)\n",
       "┌─────────┬──────────┬──────────┬──────────────┐\n",
       "│ columns ┆ Person 1 ┆ Person 2 ┆ Person 3     │\n",
       "│ ---     ┆ ---      ┆ ---      ┆ ---          │\n",
       "│ str     ┆ str      ┆ str      ┆ str          │\n",
       "╞═════════╪══════════╪══════════╪══════════════╡\n",
       "│ Name    ┆ Mahmoud  ┆ Ali      ┆ ThePrimeagen │\n",
       "│ Age     ┆ 22       ┆ 25       ┆ 36           │\n",
       "│ Gender  ┆ M        ┆ M        ┆ M            │\n",
       "│ Salary  ┆ 50000    ┆ 60000    ┆ 250000       │\n",
       "└─────────┴──────────┴──────────┴──────────────┘"
      ]
     },
     "execution_count": 89,
     "metadata": {},
     "output_type": "execute_result"
    }
   ],
   "source": [
    "let df = df!(\"Name\" => &[\"Mahmoud\", \"Ali\", \"ThePrimeagen\"],\n",
    "             \"Age\" => &[22, 25, 36],\n",
    "             \"Gender\" => &[\"M\", \"M\", \"M\"],\n",
    "             \"Salary\" => &[50000, 60000, 250000]).unwrap();\n",
    "\n",
    "df.transpose(Some(\"columns\"), Some(Either::Right(vec![\"Person 1\".to_string(), \"Person 2\".to_string(), \"Person 3\".to_string()]))).unwrap()"
   ]
  },
  {
   "cell_type": "markdown",
   "id": "5edeef40",
   "metadata": {},
   "source": [
    "## Data Cleaning"
   ]
  },
  {
   "cell_type": "markdown",
   "id": "e156df3c",
   "metadata": {},
   "source": [
    "### Nulls Count"
   ]
  },
  {
   "cell_type": "code",
   "execution_count": 18,
   "id": "24dfd551",
   "metadata": {},
   "outputs": [
    {
     "data": {
      "text/plain": [
       "shape: (1, 4)\n",
       "┌──────┬─────┬────────┬────────┐\n",
       "│ Name ┆ Age ┆ Gender ┆ Salary │\n",
       "│ ---  ┆ --- ┆ ---    ┆ ---    │\n",
       "│ u32  ┆ u32 ┆ u32    ┆ u32    │\n",
       "╞══════╪═════╪════════╪════════╡\n",
       "│ 2    ┆ 0   ┆ 0      ┆ 0      │\n",
       "└──────┴─────┴────────┴────────┘"
      ]
     },
     "execution_count": 18,
     "metadata": {},
     "output_type": "execute_result"
    }
   ],
   "source": [
    "let df = df!(\"Name\" => &[Some(\"Mahmoud\"),  None, None],\n",
    "             \"Age\" => &[22, 25, 36],\n",
    "             \"Gender\" => &[\"M\", \"M\", \"M\"],\n",
    "             \"Salary\" => &[50000, 60000, 250000]).unwrap();\n",
    "\n",
    " df.null_count()"
   ]
  },
  {
   "cell_type": "markdown",
   "id": "9c71e122",
   "metadata": {},
   "source": [
    "### Duplicates"
   ]
  },
  {
   "cell_type": "code",
   "execution_count": 19,
   "id": "07597d38",
   "metadata": {},
   "outputs": [
    {
     "data": {
      "text/plain": [
       "shape: (2, 4)\n",
       "┌─────────┬─────┬────────┬────────┐\n",
       "│ Name    ┆ Age ┆ Gender ┆ Salary │\n",
       "│ ---     ┆ --- ┆ ---    ┆ ---    │\n",
       "│ str     ┆ i32 ┆ str    ┆ i32    │\n",
       "╞═════════╪═════╪════════╪════════╡\n",
       "│ Mahmoud ┆ 22  ┆ M      ┆ 50000  │\n",
       "│ Mahmoud ┆ 22  ┆ M      ┆ 50000  │\n",
       "└─────────┴─────┴────────┴────────┘"
      ]
     },
     "execution_count": 19,
     "metadata": {},
     "output_type": "execute_result"
    }
   ],
   "source": [
    "let df = df!(\"Name\" => &[\"Mahmoud\",  \"Mahmoud\", \"ThePrimeagen\"],\n",
    "             \"Age\" => &[22, 22, 36],\n",
    "             \"Gender\" => &[\"M\", \"M\", \"M\"],\n",
    "             \"Salary\" => &[50000, 50000, 250000]).unwrap();\n",
    "let mask = df.is_duplicated().unwrap();\n",
    "let filtered_data = df.filter(&mask).unwrap();\n",
    "filtered_data"
   ]
  },
  {
   "cell_type": "markdown",
   "id": "f67a8fdb",
   "metadata": {},
   "source": [
    "### Unique Values"
   ]
  },
  {
   "cell_type": "code",
   "execution_count": 20,
   "id": "ac200aa7",
   "metadata": {},
   "outputs": [
    {
     "data": {
      "text/plain": [
       "shape: (1, 4)\n",
       "┌──────────────┬─────┬────────┬────────┐\n",
       "│ Name         ┆ Age ┆ Gender ┆ Salary │\n",
       "│ ---          ┆ --- ┆ ---    ┆ ---    │\n",
       "│ str          ┆ i32 ┆ str    ┆ i32    │\n",
       "╞══════════════╪═════╪════════╪════════╡\n",
       "│ ThePrimeagen ┆ 36  ┆ M      ┆ 250000 │\n",
       "└──────────────┴─────┴────────┴────────┘"
      ]
     },
     "execution_count": 20,
     "metadata": {},
     "output_type": "execute_result"
    }
   ],
   "source": [
    "let df = df!(\"Name\" => &[\"Mahmoud\",  \"Mahmoud\", \"ThePrimeagen\"],\n",
    "             \"Age\" => &[22, 22, 36],\n",
    "             \"Gender\" => &[\"M\", \"M\", \"M\"],\n",
    "             \"Salary\" => &[50000, 50000, 250000]).unwrap();\n",
    "let mask = df.is_unique().unwrap();\n",
    "let filtered_data = df.filter(&mask).unwrap();\n",
    "filtered_data"
   ]
  },
  {
   "cell_type": "markdown",
   "id": "a13614d0",
   "metadata": {},
   "source": [
    "### Drop"
   ]
  },
  {
   "cell_type": "code",
   "execution_count": 90,
   "id": "ea27d9f3",
   "metadata": {},
   "outputs": [
    {
     "name": "stdout",
     "output_type": "stream",
     "text": [
      "shape: (3, 1)\n",
      "┌───────┐\n",
      "│ Fruit │\n",
      "│ ---   │\n",
      "│ str   │\n",
      "╞═══════╡\n",
      "│ Apple │\n",
      "│ Apple │\n",
      "│ Pear  │\n",
      "└───────┘\n",
      "shape: (3, 2)\n",
      "┌───────┬────────┐\n",
      "│ Fruit ┆ Color  │\n",
      "│ ---   ┆ ---    │\n",
      "│ str   ┆ str    │\n",
      "╞═══════╪════════╡\n",
      "│ Apple ┆ Red    │\n",
      "│ Apple ┆ Yellow │\n",
      "│ Pear  ┆ Green  │\n",
      "└───────┴────────┘\n"
     ]
    }
   ],
   "source": [
    "let df: DataFrame = df!(\"Fruit\" => &[\"Apple\", \"Apple\", \"Pear\"],\n",
    "                        \"Color\" => &[\"Red\", \"Yellow\", \"Green\"]).unwrap();\n",
    "let df_remain = df.drop(\"Color\").unwrap(); \n",
    "println!(\"{}\", df_remain);\n",
    "println!(\"{}\", df); // the original DataFrame"
   ]
  },
  {
   "cell_type": "code",
   "execution_count": 91,
   "id": "24750eff",
   "metadata": {},
   "outputs": [
    {
     "data": {
      "text/plain": [
       "shape: (3, 1)\n",
       "┌───────┐\n",
       "│ Fruit │\n",
       "│ ---   │\n",
       "│ str   │\n",
       "╞═══════╡\n",
       "│ Apple │\n",
       "│ Apple │\n",
       "│ Pear  │\n",
       "└───────┘"
      ]
     },
     "execution_count": 91,
     "metadata": {},
     "output_type": "execute_result"
    }
   ],
   "source": [
    "let mut df: DataFrame = df!(\"Fruit\" => &[\"Apple\", \"Apple\", \"Pear\"],\n",
    "                                      \"Color\" => &[\"Red\", \"Yellow\", \"Green\"]).unwrap();\n",
    "df.drop_in_place(\"Color\"); // remove the row with index 1 (\"Banana\") from df\n",
    "df"
   ]
  },
  {
   "cell_type": "code",
   "execution_count": 23,
   "id": "b424aeb0",
   "metadata": {},
   "outputs": [
    {
     "data": {
      "text/plain": [
       "shape: (3, 1)\n",
       "┌───────┐\n",
       "│ Fruit │\n",
       "│ ---   │\n",
       "│ str   │\n",
       "╞═══════╡\n",
       "│ Apple │\n",
       "│ Apple │\n",
       "│ Pear  │\n",
       "└───────┘"
      ]
     },
     "execution_count": 23,
     "metadata": {},
     "output_type": "execute_result"
    }
   ],
   "source": [
    "let df: DataFrame = df!(\"Fruit\" => &[\"Apple\", \"Apple\", \"Pear\"],\n",
    "                                      \"Color\" => &[\"Red\", \"Yellow\", \"Green\"]).unwrap();\n",
    "let df_dropped_col = df.drop_many(&[\"Color\", \"\"]);\n",
    "df_dropped_col"
   ]
  },
  {
   "cell_type": "code",
   "execution_count": 24,
   "id": "13a3e065",
   "metadata": {},
   "outputs": [
    {
     "data": {
      "text/plain": [
       "shape: (1, 2)\n",
       "┌───────┬───────┐\n",
       "│ Fruit ┆ Color │\n",
       "│ ---   ┆ ---   │\n",
       "│ str   ┆ str   │\n",
       "╞═══════╪═══════╡\n",
       "│ Apple ┆ Red   │\n",
       "└───────┴───────┘"
      ]
     },
     "execution_count": 24,
     "metadata": {},
     "output_type": "execute_result"
    }
   ],
   "source": [
    "let df: DataFrame = df!(\"Fruit\" => &[\"Apple\", \"Apple\", \"Pear\"],\n",
    "                                      \"Color\" => &[Some(\"Red\"), None, None]).unwrap();\n",
    "let df_clean = df.drop_nulls::<String>(None).unwrap();\n",
    "df_clean"
   ]
  },
  {
   "cell_type": "code",
   "execution_count": 25,
   "id": "808bdf45",
   "metadata": {},
   "outputs": [
    {
     "data": {
      "text/plain": [
       "shape: (3,)\n",
       "ChunkedArray: 'Salary' [bool]\n",
       "[\n",
       "\ttrue\n",
       "\ttrue\n",
       "\tfalse\n",
       "]"
      ]
     },
     "execution_count": 25,
     "metadata": {},
     "output_type": "execute_result"
    }
   ],
   "source": [
    "let df = df!(\"Name\" => &[\"Mahmoud\", \"Ali\", \"ThePrimeagen\"],\n",
    "             \"Age\" => &[22, 25, 36],\n",
    "             \"Gender\" => &[\"M\", \"M\", \"M\"],\n",
    "             \"Salary\" => &[Some(50000), Some(60000), None]).unwrap();\n",
    "let mask = df.column(\"Salary\").expect(\"Salary must exist!\").is_not_null();\n",
    "mask.head(None)"
   ]
  },
  {
   "cell_type": "code",
   "execution_count": 26,
   "id": "d756361a",
   "metadata": {},
   "outputs": [
    {
     "data": {
      "text/plain": [
       "shape: (2, 4)\n",
       "┌─────────┬─────┬────────┬────────┐\n",
       "│ Name    ┆ Age ┆ Gender ┆ Salary │\n",
       "│ ---     ┆ --- ┆ ---    ┆ ---    │\n",
       "│ str     ┆ i32 ┆ str    ┆ i32    │\n",
       "╞═════════╪═════╪════════╪════════╡\n",
       "│ Mahmoud ┆ 22  ┆ M      ┆ 50000  │\n",
       "│ Ali     ┆ 25  ┆ M      ┆ 60000  │\n",
       "└─────────┴─────┴────────┴────────┘"
      ]
     },
     "execution_count": 26,
     "metadata": {},
     "output_type": "execute_result"
    }
   ],
   "source": [
    "let df = df!(\"Name\" => &[\"Mahmoud\", \"Ali\", \"ThePrimeagen\"],\n",
    "             \"Age\" => &[22, 25, 36],\n",
    "             \"Gender\" => &[\"M\", \"M\", \"M\"],\n",
    "             \"Salary\" => &[Some(50000), Some(60000), None]).unwrap();\n",
    "let filtered_data = df.filter(&mask).unwrap();\n",
    "filtered_data"
   ]
  },
  {
   "cell_type": "markdown",
   "id": "7be1a68a",
   "metadata": {},
   "source": [
    "### Fill"
   ]
  },
  {
   "cell_type": "code",
   "execution_count": 27,
   "id": "99cc4307",
   "metadata": {
    "scrolled": true
   },
   "outputs": [
    {
     "data": {
      "text/plain": [
       "shape: (3, 4)\n",
       "┌──────────────┬─────┬────────┬────────┐\n",
       "│ Name         ┆ Age ┆ Gender ┆ Salary │\n",
       "│ ---          ┆ --- ┆ ---    ┆ ---    │\n",
       "│ str          ┆ i32 ┆ str    ┆ i32    │\n",
       "╞══════════════╪═════╪════════╪════════╡\n",
       "│ Mahmoud      ┆ 22  ┆ M      ┆ 50000  │\n",
       "│ Ali          ┆ 25  ┆ M      ┆ 60000  │\n",
       "│ ThePrimeagen ┆ 36  ┆ M      ┆ 60000  │\n",
       "└──────────────┴─────┴────────┴────────┘"
      ]
     },
     "execution_count": 27,
     "metadata": {},
     "output_type": "execute_result"
    }
   ],
   "source": [
    "let mut df = df!(\"Name\" => &[\"Mahmoud\", \"Ali\", \"ThePrimeagen\"],\n",
    "             \"Age\" => &[22, 25, 36],\n",
    "             \"Gender\" => &[\"M\", \"M\", \"M\"],\n",
    "             \"Salary\" => &[Some(50000), Some(60000), None]).unwrap();\n",
    "\n",
    "let filtered_nulls = df.fill_null(FillNullStrategy::Forward(None)).unwrap();\n",
    "filtered_nulls"
   ]
  },
  {
   "cell_type": "markdown",
   "id": "430dd66a",
   "metadata": {},
   "source": [
    "## Measures of central tendency"
   ]
  },
  {
   "cell_type": "markdown",
   "id": "6892746e",
   "metadata": {},
   "source": [
    "### Mean"
   ]
  },
  {
   "cell_type": "code",
   "execution_count": 28,
   "id": "1a00a9cf",
   "metadata": {},
   "outputs": [
    {
     "data": {
      "text/plain": [
       "shape: (1, 4)\n",
       "┌──────┬───────────┬────────┬─────────┐\n",
       "│ Name ┆ Age       ┆ Gender ┆ Salary  │\n",
       "│ ---  ┆ ---       ┆ ---    ┆ ---     │\n",
       "│ str  ┆ f64       ┆ str    ┆ f64     │\n",
       "╞══════╪═══════════╪════════╪═════════╡\n",
       "│ null ┆ 27.666667 ┆ null   ┆ 55000.0 │\n",
       "└──────┴───────────┴────────┴─────────┘"
      ]
     },
     "execution_count": 28,
     "metadata": {},
     "output_type": "execute_result"
    }
   ],
   "source": [
    "let df = df!(\"Name\" => &[\"Mahmoud\", \"Ali\", \"ThePrimeagen\"],\n",
    "             \"Age\" => &[22, 25, 36],\n",
    "             \"Gender\" => &[\"M\", \"M\", \"M\"],\n",
    "             \"Salary\" => &[Some(50000), Some(60000), None]).unwrap();\n",
    "\n",
    "df.mean()"
   ]
  },
  {
   "cell_type": "markdown",
   "id": "3a6e8b4f",
   "metadata": {},
   "source": [
    "### Median"
   ]
  },
  {
   "cell_type": "code",
   "execution_count": 29,
   "id": "e21fb227",
   "metadata": {},
   "outputs": [
    {
     "data": {
      "text/plain": [
       "shape: (1, 4)\n",
       "┌──────┬──────┬────────┬─────────┐\n",
       "│ Name ┆ Age  ┆ Gender ┆ Salary  │\n",
       "│ ---  ┆ ---  ┆ ---    ┆ ---     │\n",
       "│ str  ┆ f64  ┆ str    ┆ f64     │\n",
       "╞══════╪══════╪════════╪═════════╡\n",
       "│ null ┆ 25.0 ┆ null   ┆ 55000.0 │\n",
       "└──────┴──────┴────────┴─────────┘"
      ]
     },
     "execution_count": 29,
     "metadata": {},
     "output_type": "execute_result"
    }
   ],
   "source": [
    "let df = df!(\"Name\" => &[\"Mahmoud\", \"Ali\", \"ThePrimeagen\"],\n",
    "             \"Age\" => &[22, 25, 36],\n",
    "             \"Gender\" => &[\"M\", \"M\", \"M\"],\n",
    "             \"Salary\" => &[Some(50000), Some(60000), None]).unwrap();\n",
    "\n",
    "df.median()"
   ]
  },
  {
   "cell_type": "markdown",
   "id": "790ee654",
   "metadata": {},
   "source": [
    "## Measures of spread"
   ]
  },
  {
   "cell_type": "markdown",
   "id": "3a16bb84",
   "metadata": {},
   "source": [
    "### std"
   ]
  },
  {
   "cell_type": "code",
   "execution_count": 30,
   "id": "2a69879e",
   "metadata": {},
   "outputs": [
    {
     "data": {
      "text/plain": [
       "shape: (1, 4)\n",
       "┌──────┬──────────┬────────┬─────────────┐\n",
       "│ Name ┆ Age      ┆ Gender ┆ Salary      │\n",
       "│ ---  ┆ ---      ┆ ---    ┆ ---         │\n",
       "│ str  ┆ f64      ┆ str    ┆ f64         │\n",
       "╞══════╪══════════╪════════╪═════════════╡\n",
       "│ null ┆ 7.371115 ┆ null   ┆ 7071.067812 │\n",
       "└──────┴──────────┴────────┴─────────────┘"
      ]
     },
     "execution_count": 30,
     "metadata": {},
     "output_type": "execute_result"
    }
   ],
   "source": [
    "let df = df!(\"Name\" => &[\"Mahmoud\", \"Ali\", \"ThePrimeagen\"],\n",
    "             \"Age\" => &[22, 25, 36],\n",
    "             \"Gender\" => &[\"M\", \"M\", \"M\"],\n",
    "             \"Salary\" => &[Some(50000), Some(60000), None]).unwrap();\n",
    "\n",
    "df.std(1)"
   ]
  },
  {
   "cell_type": "markdown",
   "id": "bc466013",
   "metadata": {},
   "source": [
    "### var"
   ]
  },
  {
   "cell_type": "code",
   "execution_count": 31,
   "id": "559108c3",
   "metadata": {},
   "outputs": [
    {
     "data": {
      "text/plain": [
       "shape: (1, 4)\n",
       "┌──────┬───────────┬────────┬────────┐\n",
       "│ Name ┆ Age       ┆ Gender ┆ Salary │\n",
       "│ ---  ┆ ---       ┆ ---    ┆ ---    │\n",
       "│ str  ┆ f64       ┆ str    ┆ f64    │\n",
       "╞══════╪═══════════╪════════╪════════╡\n",
       "│ null ┆ 54.333333 ┆ null   ┆ 5e7    │\n",
       "└──────┴───────────┴────────┴────────┘"
      ]
     },
     "execution_count": 31,
     "metadata": {},
     "output_type": "execute_result"
    }
   ],
   "source": [
    "let df = df!(\"Name\" => &[\"Mahmoud\", \"Ali\", \"ThePrimeagen\"],\n",
    "             \"Age\" => &[22, 25, 36],\n",
    "             \"Gender\" => &[\"M\", \"M\", \"M\"],\n",
    "             \"Salary\" => &[Some(50000), Some(60000), None]).unwrap();\n",
    "\n",
    "df.var(1)"
   ]
  },
  {
   "cell_type": "markdown",
   "id": "bb187799",
   "metadata": {},
   "source": [
    "## Ndarray"
   ]
  },
  {
   "cell_type": "code",
   "execution_count": 41,
   "id": "bfdb9d25",
   "metadata": {},
   "outputs": [
    {
     "data": {
      "text/plain": [
       "[[NaN, 22.0, NaN, 50000.0],\n",
       " [NaN, 25.0, NaN, 60000.0],\n",
       " [NaN, 36.0, NaN, NaN]], shape=[3, 4], strides=[1, 3], layout=Ff (0xa), const ndim=2"
      ]
     },
     "execution_count": 41,
     "metadata": {},
     "output_type": "execute_result"
    }
   ],
   "source": [
    "let df = df!(\"Name\" => &[\"Mahmoud\", \"Ali\", \"ThePrimeagen\"],\n",
    "             \"Age\" => &[22, 25, 36],\n",
    "             \"Gender\" => &[\"M\", \"M\", \"M\"],\n",
    "             \"Salary\" => &[Some(50000), Some(60000), None]).unwrap();\n",
    "\n",
    "df.to_ndarray::<Float64Type>(IndexOrder::Fortran).unwrap()"
   ]
  },
  {
   "cell_type": "markdown",
   "id": "3c4cd9bb",
   "metadata": {},
   "source": [
    "<hr />"
   ]
  },
  {
   "cell_type": "markdown",
   "id": "acd00de6",
   "metadata": {},
   "source": [
    "## Aggregation Functions"
   ]
  },
  {
   "cell_type": "markdown",
   "id": "3234c058",
   "metadata": {},
   "source": [
    "Download [the flights dataset](https://www.kaggle.com/datasets/deepak007chaubey/flight-on-time-dataset?select=Flight_on_time_HIX.csv) and move it to the `dataset` directory."
   ]
  },
  {
   "cell_type": "code",
   "execution_count": 43,
   "id": "3e63efa8",
   "metadata": {},
   "outputs": [
    {
     "data": {
      "text/plain": [
       "shape: (5, 5)\n",
       "┌─────────┬────────────────┬─────────────────────┬─────────────────────────┬───────────────────────┐\n",
       "│ Airline ┆ Origin_Airport ┆ Destination_Airport ┆ Departure_Delay_Minutes ┆ Arrival_Delay_Minutes │\n",
       "│ ---     ┆ ---            ┆ ---                 ┆ ---                     ┆ ---                   │\n",
       "│ str     ┆ str            ┆ str                 ┆ i64                     ┆ i64                   │\n",
       "╞═════════╪════════════════╪═════════════════════╪═════════════════════════╪═══════════════════════╡\n",
       "│ TR      ┆ IYF            ┆ HIX                 ┆ 62                      ┆ 52                    │\n",
       "│ TR      ┆ HEN            ┆ HIX                 ┆ 15                      ┆ 8                     │\n",
       "│ RO      ┆ HIX            ┆ IZN                 ┆ 0                       ┆ 0                     │\n",
       "│ XM      ┆ HIX            ┆ IZU                 ┆ 34                      ┆ 44                    │\n",
       "│ XM      ┆ HIX            ┆ LKF                 ┆ 144                     ┆ 146                   │\n",
       "└─────────┴────────────────┴─────────────────────┴─────────────────────────┴───────────────────────┘"
      ]
     },
     "execution_count": 43,
     "metadata": {},
     "output_type": "execute_result"
    }
   ],
   "source": [
    "fn read_data_frame_from_csv(\n",
    "    csv_file_path: &Path,\n",
    ") -> DataFrame {\n",
    "    CsvReader::from_path(csv_file_path)\n",
    "        .expect(\"Cannot open file.\")\n",
    "        .has_header(true)\n",
    "        .finish()\n",
    "        .unwrap()\n",
    "}\n",
    "\n",
    "\n",
    "let flights_file_path: &Path = Path::new(\"dataset/Flight_on_time_HIX.csv\");\n",
    "let columns = [\"Airline\", \"Origin_Airport\", \"Destination_Airport\", \"Departure_Delay_Minutes\", \"Arrival_Delay_Minutes\"];\n",
    "let flights_df: DataFrame = read_data_frame_from_csv(flights_file_path).select(columns).unwrap();\n",
    "flights_df.head(Some(5))"
   ]
  },
  {
   "cell_type": "code",
   "execution_count": 46,
   "id": "e59faf9a",
   "metadata": {},
   "outputs": [
    {
     "data": {
      "text/plain": [
       "shape: (5, 2)\n",
       "┌─────────┬────────────────────────────┐\n",
       "│ Airline ┆ Arrival_Delay_Minutes_mean │\n",
       "│ ---     ┆ ---                        │\n",
       "│ str     ┆ f64                        │\n",
       "╞═════════╪════════════════════════════╡\n",
       "│ TR      ┆ 281.309919                 │\n",
       "│ GB      ┆ 897.5625                   │\n",
       "│ TJ      ┆ 902.961255                 │\n",
       "│ YJ      ┆ 11.839243                  │\n",
       "│ LV      ┆ 10.266467                  │\n",
       "└─────────┴────────────────────────────┘"
      ]
     },
     "execution_count": 46,
     "metadata": {},
     "output_type": "execute_result"
    }
   ],
   "source": [
    "let arr_delay_mean_df: DataFrame = flights_df.group_by([\"Airline\"]).expect(\"Airline Column must exist!\").select([\"Arrival_Delay_Minutes\"]).mean().unwrap();\n",
    "arr_delay_mean_df.head(Some(5))"
   ]
  },
  {
   "cell_type": "code",
   "execution_count": 47,
   "id": "715ea5d8",
   "metadata": {},
   "outputs": [
    {
     "data": {
      "text/plain": [
       "shape: (5, 3)\n",
       "┌─────────┬────────────────┬──────────────────────────────┐\n",
       "│ Airline ┆ Origin_Airport ┆ Departure_Delay_Minutes_mean │\n",
       "│ ---     ┆ ---            ┆ ---                          │\n",
       "│ str     ┆ str            ┆ f64                          │\n",
       "╞═════════╪════════════════╪══════════════════════════════╡\n",
       "│ TR      ┆ IYF            ┆ 10.634921                    │\n",
       "│ TR      ┆ HEN            ┆ 4.0                          │\n",
       "│ CA      ┆ UKP            ┆ 1.176471                     │\n",
       "│ TR      ┆ ERR            ┆ 14.526667                    │\n",
       "│ CA      ┆ EJY            ┆ 15.742857                    │\n",
       "└─────────┴────────────────┴──────────────────────────────┘"
      ]
     },
     "execution_count": 47,
     "metadata": {},
     "output_type": "execute_result"
    }
   ],
   "source": [
    "let dep_delay_mean_def: DataFrame = flights_df.group_by([\"Airline\", \"Origin_Airport\"]).expect(\"Airline and Origin_Airport Columns must exist!\").select([\"Departure_Delay_Minutes\"]).mean().unwrap();\n",
    "dep_delay_mean_def.head(Some(5))"
   ]
  },
  {
   "cell_type": "markdown",
   "id": "255b919b",
   "metadata": {},
   "source": [
    "<hr />"
   ]
  },
  {
   "cell_type": "markdown",
   "id": "308fbffc",
   "metadata": {},
   "source": [
    "## Merging DataFrames"
   ]
  },
  {
   "cell_type": "markdown",
   "id": "e00d4d04",
   "metadata": {},
   "source": [
    "### Inner Join"
   ]
  },
  {
   "cell_type": "code",
   "execution_count": 50,
   "id": "4db8d4f0",
   "metadata": {},
   "outputs": [
    {
     "data": {
      "text/plain": [
       "shape: (3, 3)\n",
       "┌─────────┬──────────┬──────────┐\n",
       "│ Carrier ┆ ArrDelay ┆ DepDelay │\n",
       "│ ---     ┆ ---      ┆ ---      │\n",
       "│ str     ┆ i32      ┆ i32      │\n",
       "╞═════════╪══════════╪══════════╡\n",
       "│ HA      ┆ -3       ┆ 21       │\n",
       "│ EV      ┆ 28       ┆ -8       │\n",
       "│ VX      ┆ 0        ┆ -4       │\n",
       "└─────────┴──────────┴──────────┘"
      ]
     },
     "execution_count": 50,
     "metadata": {},
     "output_type": "execute_result"
    }
   ],
   "source": [
    "let df1: DataFrame = df!(\"Carrier\" => &[\"HA\", \"EV\", \"VX\", \"DL\"],\n",
    "                         \"ArrDelay\" => &[-3, 28, 0, 1]).unwrap();\n",
    "let df2: DataFrame = df!(\"Airline\" => &[\"HA\", \"EV\", \"OO\", \"VX\"],\n",
    "                         \"DepDelay\" => &[21, -8, 11, -4]).unwrap();\n",
    "\n",
    "let df3: DataFrame = df1.join(&df2, [\"Carrier\"], [\"Airline\"], JoinType::Inner.into()).unwrap();\n",
    "// or: let df3: DataFrame = df1.inner_join(&df2, [\"Carrier\"], [\"Airline\"]).unwrap();\n",
    "df3.head(Some(5))"
   ]
  },
  {
   "cell_type": "markdown",
   "id": "e20bcbf7",
   "metadata": {},
   "source": [
    "### Left Join"
   ]
  },
  {
   "cell_type": "code",
   "execution_count": 51,
   "id": "19ed241a",
   "metadata": {},
   "outputs": [
    {
     "data": {
      "text/plain": [
       "shape: (4, 3)\n",
       "┌─────────┬──────────┬──────────┐\n",
       "│ Carrier ┆ ArrDelay ┆ DepDelay │\n",
       "│ ---     ┆ ---      ┆ ---      │\n",
       "│ str     ┆ i32      ┆ i32      │\n",
       "╞═════════╪══════════╪══════════╡\n",
       "│ HA      ┆ -3       ┆ 21       │\n",
       "│ EV      ┆ 28       ┆ -8       │\n",
       "│ VX      ┆ 0        ┆ -4       │\n",
       "│ DL      ┆ 1        ┆ null     │\n",
       "└─────────┴──────────┴──────────┘"
      ]
     },
     "execution_count": 51,
     "metadata": {},
     "output_type": "execute_result"
    }
   ],
   "source": [
    "let df3: DataFrame = df1.left_join(&df2, [\"Carrier\"], [\"Airline\"]).unwrap();\n",
    "df3.head(Some(5))"
   ]
  },
  {
   "cell_type": "markdown",
   "id": "93749bbb",
   "metadata": {},
   "source": [
    "### Right Join"
   ]
  },
  {
   "cell_type": "code",
   "execution_count": 52,
   "id": "4fee3a2e",
   "metadata": {},
   "outputs": [
    {
     "data": {
      "text/plain": [
       "shape: (4, 3)\n",
       "┌─────────┬──────────┬──────────┐\n",
       "│ Airline ┆ DepDelay ┆ ArrDelay │\n",
       "│ ---     ┆ ---      ┆ ---      │\n",
       "│ str     ┆ i32      ┆ i32      │\n",
       "╞═════════╪══════════╪══════════╡\n",
       "│ HA      ┆ 21       ┆ -3       │\n",
       "│ EV      ┆ -8       ┆ 28       │\n",
       "│ OO      ┆ 11       ┆ null     │\n",
       "│ VX      ┆ -4       ┆ 0        │\n",
       "└─────────┴──────────┴──────────┘"
      ]
     },
     "execution_count": 52,
     "metadata": {},
     "output_type": "execute_result"
    }
   ],
   "source": [
    "let df4: DataFrame = df2.left_join(&df1, [\"Airline\"], [\"Carrier\"]).unwrap();\n",
    "df4.head(Some(5))"
   ]
  },
  {
   "cell_type": "markdown",
   "id": "8517094c",
   "metadata": {},
   "source": [
    "### Outer Join"
   ]
  },
  {
   "cell_type": "code",
   "execution_count": 53,
   "id": "eef0bdac",
   "metadata": {},
   "outputs": [
    {
     "data": {
      "text/plain": [
       "shape: (5, 3)\n",
       "┌─────────┬──────────┬──────────┐\n",
       "│ Carrier ┆ ArrDelay ┆ DepDelay │\n",
       "│ ---     ┆ ---      ┆ ---      │\n",
       "│ str     ┆ i32      ┆ i32      │\n",
       "╞═════════╪══════════╪══════════╡\n",
       "│ HA      ┆ -3       ┆ 21       │\n",
       "│ EV      ┆ 28       ┆ -8       │\n",
       "│ OO      ┆ null     ┆ 11       │\n",
       "│ VX      ┆ 0        ┆ -4       │\n",
       "│ DL      ┆ 1        ┆ null     │\n",
       "└─────────┴──────────┴──────────┘"
      ]
     },
     "execution_count": 53,
     "metadata": {},
     "output_type": "execute_result"
    }
   ],
   "source": [
    "let df5: DataFrame = df1.outer_join(&df2, [\"Carrier\"], [\"Airline\"]).unwrap();\n",
    "df5.head(Some(5))"
   ]
  },
  {
   "cell_type": "markdown",
   "id": "016f06b3",
   "metadata": {},
   "source": [
    "<hr />"
   ]
  }
 ],
 "metadata": {
  "kernelspec": {
   "display_name": "Rust",
   "language": "rust",
   "name": "rust"
  },
  "language_info": {
   "codemirror_mode": "rust",
   "file_extension": ".rs",
   "mimetype": "text/rust",
   "name": "Rust",
   "pygment_lexer": "rust",
   "version": ""
  }
 },
 "nbformat": 4,
 "nbformat_minor": 5
}
